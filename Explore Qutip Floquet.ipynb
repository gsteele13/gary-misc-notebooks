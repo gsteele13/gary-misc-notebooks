{
 "cells": [
  {
   "cell_type": "code",
   "execution_count": 14,
   "id": "3e949f8c",
   "metadata": {
    "ExecuteTime": {
     "end_time": "2022-06-13T10:25:12.628225Z",
     "start_time": "2022-06-13T10:25:12.622712Z"
    }
   },
   "outputs": [],
   "source": [
    "from qutip import *\n",
    "import numpy as np\n",
    "import matplotlib.pyplot as plt"
   ]
  },
  {
   "cell_type": "markdown",
   "id": "bb50ed0b",
   "metadata": {},
   "source": [
    "# Starting point: documentation\n",
    "\n",
    "https://qutip.org/docs/4.1/guide/dynamics/dynamics-floquet.html\n",
    "\n",
    "Let's try out their example of the driving of a TLS. \n",
    "\n",
    "In principle, we should be able to reproduce the Stark shift, for example, including Bloch-Siergert contributions.\n",
    "\n",
    "Note also that I still believe that Floquet should be divergent for driving a linear mode, such as a Harmonic oscillator. In any case, I'll see what happens. I'll also check the Kerr oscillator, and the \"quantum\" and \"classical\" regimes where there should be a crossover in the frequency shift direction once we reach driving detunings larger than the (single photon) anharmonicity. \n"
   ]
  },
  {
   "cell_type": "code",
   "execution_count": 28,
   "id": "15b60a38",
   "metadata": {
    "ExecuteTime": {
     "end_time": "2022-06-13T10:31:00.602540Z",
     "start_time": "2022-06-13T10:31:00.479596Z"
    }
   },
   "outputs": [],
   "source": [
    "delta = 0.2 * 2*np.pi\n",
    "eps0 = 1.0 * 2*np.pi\n",
    "A = 2.5 * 2*np.pi\n",
    "omega = 1.0 * 2*np.pi\n",
    "\n",
    "H0 = - delta/2.0 * sigmax() - eps0/2.0 * sigmaz()\n",
    "H1 = A/2.0 * sigmaz()\n",
    "args = {'w': omega}\n",
    "H = [H0, [H1, 'sin(w * t)']]\n",
    "\n",
    "T = 2*np.pi / omega\n",
    "f_modes_0, f_energies = floquet_modes(H, T, args)"
   ]
  },
  {
   "cell_type": "markdown",
   "id": "163261a9",
   "metadata": {},
   "source": [
    "Question already: why is this the Hamiltonian of a two-level atom? What is \\Delta? Why is the driving in the z-direction? And what is eps0? "
   ]
  },
  {
   "cell_type": "markdown",
   "id": "fabd9bc3",
   "metadata": {},
   "source": [
    "OK, code on qutip page does not work \"out of box\" for the loop..."
   ]
  },
  {
   "cell_type": "code",
   "execution_count": 29,
   "id": "84042c58",
   "metadata": {
    "ExecuteTime": {
     "end_time": "2022-06-13T10:31:15.384147Z",
     "start_time": "2022-06-13T10:31:04.088789Z"
    }
   },
   "outputs": [],
   "source": [
    "omega = 1.0 * 2*np.pi\n",
    "A_vec = np.linspace(0, 10, 100) * omega\n",
    "T = (2*np.pi)/omega\n",
    "\n",
    "q_energies = np.zeros((len(A_vec), 2))\n",
    "H0 = delta/2.0 * sigmaz() - eps0/2.0 * sigmax()\n",
    "args = {'w': omega}\n",
    "\n",
    "for idx, A in enumerate(A_vec):\n",
    "    H1 = A/2.0 * sigmax()\n",
    "    H = [H0, [H1, 'sin(w * t)']]\n",
    "    f_modes, f_energies = floquet_modes(H, T, args, True)\n",
    "    q_energies[idx,:] = f_energies"
   ]
  },
  {
   "cell_type": "code",
   "execution_count": 30,
   "id": "71f5679a",
   "metadata": {
    "ExecuteTime": {
     "end_time": "2022-06-13T10:31:15.496559Z",
     "start_time": "2022-06-13T10:31:15.387021Z"
    }
   },
   "outputs": [
    {
     "data": {
      "text/plain": [
       "[<matplotlib.lines.Line2D at 0x11640e5e0>]"
      ]
     },
     "execution_count": 30,
     "metadata": {},
     "output_type": "execute_result"
    },
    {
     "data": {
      "image/png": "[encoded data removed]",
      "text/plain": [
       "<Figure size 432x288 with 1 Axes>"
      ]
     },
     "metadata": {
      "needs_background": "light"
     },
     "output_type": "display_data"
    }
   ],
   "source": [
    "plt.plot(A_vec/omega, q_energies[:,0], 'b')\n",
    "plt.plot(A_vec/omega, q_energies[:,1], 'r')"
   ]
  },
  {
   "cell_type": "markdown",
   "id": "ff302a2a",
   "metadata": {},
   "source": [
    "And this plot does not look like the one on the webpage? \n",
    "\n",
    "Not that I understand why it would look like the one on the webpage anyway...\n",
    "\n",
    "OK, we'll let's see if I can find anything that makes sense. "
   ]
  },
  {
   "cell_type": "markdown",
   "id": "429ec3a4",
   "metadata": {},
   "source": [
    "# Try on my own: \"normal\" TLS with $\\sigma_x$ driving\n",
    "\n",
    "This Hamiltonian make more sense to me:\n",
    "\n",
    "$$\n",
    "H = \\Delta \\sigma_z + \\epsilon \\sigma_x \\cos(\\omega t)\n",
    "$$\n",
    "\n",
    "* $\\Delta$ is the splitting of the TLS energies\n",
    "* $\\epsilon$ is the driving strength\n",
    "* $\\omega$ is the driving frequency"
   ]
  },
  {
   "cell_type": "code",
   "execution_count": 54,
   "id": "3d63d7c7",
   "metadata": {
    "ExecuteTime": {
     "end_time": "2022-06-13T10:46:14.222099Z",
     "start_time": "2022-06-13T10:46:10.739197Z"
    }
   },
   "outputs": [
    {
     "name": "stdout",
     "output_type": "stream",
     "text": [
      ".............................."
     ]
    },
    {
     "data": {
      "text/plain": [
       "[<matplotlib.lines.Line2D at 0x1182dc970>]"
      ]
     },
     "execution_count": 54,
     "metadata": {},
     "output_type": "execute_result"
    },
    {
     "data": {
      "image/png": "[encoded data removed]",
      "text/plain": [
       "<Figure size 432x288 with 1 Axes>"
      ]
     },
     "metadata": {
      "needs_background": "light"
     },
     "output_type": "display_data"
    }
   ],
   "source": [
    "Nd = 30\n",
    "\n",
    "# Level splitting\n",
    "delta = 1 * 2*np.pi\n",
    "# Sweep driving from zero up to level splitting\n",
    "eps = np.linspace(0,1,Nd) * delta\n",
    "# Resonant driving \n",
    "omega = delta*0.9\n",
    "\n",
    "H0 = delta/2.0 * sigmaz() - eps0 * sigmax()\n",
    "\n",
    "q_energies = np.zeros((Nd,2))\n",
    "\n",
    "for i,e in enumerate(eps):\n",
    "    H1 = e * sigmax()\n",
    "    H = [H0, [H1, 'sin(w * t)']]\n",
    "    args = {'w': omega}\n",
    "    f_modes, f_energies = floquet_modes(H, T, args)\n",
    "    q_energies[i,:] = f_energies\n",
    "    print(\".\", end=\"\")\n",
    "\n",
    "plt.plot(eps/delta,q_energies[:,0]/delta)\n",
    "plt.plot(eps/delta,q_energies[:,1]/delta)"
   ]
  },
  {
   "cell_type": "code",
   "execution_count": 57,
   "id": "c7efc7a4",
   "metadata": {
    "ExecuteTime": {
     "end_time": "2022-06-13T10:46:54.441256Z",
     "start_time": "2022-06-13T10:46:50.943653Z"
    }
   },
   "outputs": [
    {
     "name": "stdout",
     "output_type": "stream",
     "text": [
      ".............................."
     ]
    },
    {
     "data": {
      "text/plain": [
       "[<matplotlib.lines.Line2D at 0x118431310>]"
      ]
     },
     "execution_count": 57,
     "metadata": {},
     "output_type": "execute_result"
    },
    {
     "data": {
      "image/png": "[encoded data removed]",
      "text/plain": [
       "<Figure size 432x288 with 1 Axes>"
      ]
     },
     "metadata": {
      "needs_background": "light"
     },
     "output_type": "display_data"
    }
   ],
   "source": [
    "Nd = 30\n",
    "\n",
    "# Level splitting\n",
    "delta = 1 * 2*np.pi\n",
    "# Sweep driving from zero up to level splitting\n",
    "eps = np.linspace(0,1,Nd) * delta\n",
    "# Resonant driving \n",
    "omega = delta\n",
    "\n",
    "H0 = delta/2.0 * sigmaz() - eps0 * sigmax()\n",
    "\n",
    "q_energies = np.zeros((Nd,2))\n",
    "\n",
    "for i,e in enumerate(eps):\n",
    "    H1 = e * sigmax()\n",
    "    H = [H0, [H1, 'sin(w * t)']]\n",
    "    args = {'w': omega}\n",
    "    f_modes, f_energies = floquet_modes(H, T, args)\n",
    "    q_energies[i,:] = f_energies\n",
    "    print(\".\", end=\"\")\n",
    "\n",
    "plt.plot(eps/delta,q_energies[:,0]/delta)\n",
    "plt.plot(eps/delta,q_energies[:,1]/delta)"
   ]
  },
  {
   "cell_type": "markdown",
   "id": "19ac2861",
   "metadata": {},
   "source": [
    "OK, I don't understand any of this. "
   ]
  }
 ],
 "metadata": {
  "kernelspec": {
   "display_name": "Python [conda env:jan2022] *",
   "language": "python",
   "name": "conda-env-jan2022-py"
  },
  "language_info": {
   "codemirror_mode": {
    "name": "ipython",
    "version": 3
   },
   "file_extension": ".py",
   "mimetype": "text/x-python",
   "name": "python",
   "nbconvert_exporter": "python",
   "pygments_lexer": "ipython3",
   "version": "3.9.10"
  },
  "toc": {
   "base_numbering": 1,
   "nav_menu": {},
   "number_sections": true,
   "sideBar": true,
   "skip_h1_title": false,
   "title_cell": "Table of Contents",
   "title_sidebar": "Contents",
   "toc_cell": false,
   "toc_position": {},
   "toc_section_display": true,
   "toc_window_display": false
  }
 },
 "nbformat": 4,
 "nbformat_minor": 5
}
