{
 "cells": [
  {
   "cell_type": "code",
   "execution_count": 27,
   "metadata": {},
   "outputs": [
    {
     "data": {
      "application/vnd.jupyter.widget-view+json": {
       "model_id": "adc2dd27a9884c01a505bfcb5a00057e",
       "version_major": 2,
       "version_minor": 0
      },
      "text/plain": [
       "Canvas(toolbar=Toolbar(toolitems=[('Home', 'Reset original view', 'home', 'home'), ('Back', 'Back to previous …"
      ]
     },
     "metadata": {},
     "output_type": "display_data"
    },
    {
     "data": {
      "application/vnd.jupyter.widget-view+json": {
       "model_id": "43a0a1d5d1504376927adf8543abe014",
       "version_major": 2,
       "version_minor": 0
      },
      "text/plain": [
       "FloatSlider(value=1.0, max=1.0, step=0.01)"
      ]
     },
     "metadata": {},
     "output_type": "display_data"
    }
   ],
   "source": [
    "import matplotlib.pyplot as plt\n",
    "import numpy as np\n",
    "import ipywidgets as widgets\n",
    "\n",
    "%matplotlib ipympl\n",
    "\n",
    "class Plotter:\n",
    "    a = 1\n",
    "    b = 1\n",
    "    x = np.linspace(0,10)\n",
    "    \n",
    "    def open_plot(self):\n",
    "        fig, ax = plt.subplots()\n",
    "        self.line, = ax.plot(x,self.a*np.sin(x+self.b))\n",
    "\n",
    "    def update_plot(self):\n",
    "        self.line.set_data(x,self.a*np.sin(x+self.b))\n",
    "\n",
    "P = Plotter()\n",
    "P.open_plot()\n",
    "\n",
    "# This is a lot of ugly boiler plate. \n",
    "#\n",
    "# Is there some way to \"link\" the slider widget to the class attribute? \n",
    "# And link an action to be taken (callback?) in the class when the \n",
    "# value of an attribute changes? \n",
    "#\n",
    "# ie. in this case somehow in the class specify that update_plot() should\n",
    "# be called if the value of a changes? \n",
    "\n",
    "a_slider = widgets.FloatSlider(min=0, max=1, step=0.01, value=P.a)\n",
    "def a_slider_cb(w):\n",
    "    P.a = a_slider.value\n",
    "    P.update_plot()\n",
    "a_slider.observe(a_slider_cb)\n",
    "display(a_slider)"
   ]
  }
 ],
 "metadata": {
  "jupytext": {
   "formats": "ipynb,md"
  },
  "kernelspec": {
   "display_name": "Python 3",
   "language": "python",
   "name": "python3"
  },
  "language_info": {
   "codemirror_mode": {
    "name": "ipython",
    "version": 3
   },
   "file_extension": ".py",
   "mimetype": "text/x-python",
   "name": "python",
   "nbconvert_exporter": "python",
   "pygments_lexer": "ipython3",
   "version": "3.7.5"
  }
 },
 "nbformat": 4,
 "nbformat_minor": 2
}
