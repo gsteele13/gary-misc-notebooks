{
 "cells": [
  {
   "cell_type": "markdown",
   "metadata": {},
   "source": [
    "# Hand-coded callbacks implementation"
   ]
  },
  {
   "cell_type": "code",
   "execution_count": 49,
   "metadata": {
    "scrolled": false
   },
   "outputs": [
    {
     "data": {
      "application/vnd.jupyter.widget-view+json": {
       "model_id": "9e67d1db2071426897e912f7ffee2cb6",
       "version_major": 2,
       "version_minor": 0
      },
      "text/plain": [
       "Canvas(toolbar=Toolbar(toolitems=[('Home', 'Reset original view', 'home', 'home'), ('Back', 'Back to previous …"
      ]
     },
     "metadata": {},
     "output_type": "display_data"
    },
    {
     "data": {
      "application/vnd.jupyter.widget-view+json": {
       "model_id": "5605fc6c83d44d69bc3fd8ce047a0f4f",
       "version_major": 2,
       "version_minor": 0
      },
      "text/plain": [
       "FloatSlider(value=1.0, max=1.0, step=0.01)"
      ]
     },
     "metadata": {},
     "output_type": "display_data"
    }
   ],
   "source": [
    "import matplotlib.pyplot as plt\n",
    "import numpy as np\n",
    "import ipywidgets as widgets\n",
    "\n",
    "%matplotlib ipympl\n",
    "\n",
    "class Plotter:\n",
    "    a = 1\n",
    "    b = 1\n",
    "    x = np.linspace(0,10)\n",
    "    \n",
    "    def open_plot(self):\n",
    "        fig, ax = plt.subplots()\n",
    "        self.line, = ax.plot(x,self.a*np.sin(x+self.b))\n",
    "\n",
    "    def update_plot(self):\n",
    "        self.line.set_data(x,self.a*np.sin(x+self.b))\n",
    "\n",
    "P = Plotter()\n",
    "P.open_plot()\n",
    "\n",
    "# This is a lot of ugly boiler plate. \n",
    "#\n",
    "# Is there some way to \"link\" the slider widget to the class attribute? \n",
    "# And link an action to be taken (callback?) in the class when the \n",
    "# value of an attribute changes? \n",
    "#\n",
    "# ie. in this case somehow in the class specify that update_plot() should\n",
    "# be called if the value of a changes? \n",
    "\n",
    "a_slider = widgets.FloatSlider(min=0, max=1, step=0.01, value=P.a)\n",
    "def a_slider_cb(w):\n",
    "    P.a = a_slider.value\n",
    "a_slider.observe(a_slider_cb)\n",
    "display(a_slider)"
   ]
  },
  {
   "cell_type": "markdown",
   "metadata": {},
   "source": [
    "# Example using trailets\n",
    "\n",
    "From Anton's suggestion:\n",
    "\n",
    "https://forum.kavli.tudelft.nl/t/linking-widgets-to-class-attributes-and-class-attributes-to-actions/160/2\n"
   ]
  },
  {
   "cell_type": "code",
   "execution_count": 95,
   "metadata": {
    "scrolled": false
   },
   "outputs": [
    {
     "data": {
      "application/vnd.jupyter.widget-view+json": {
       "model_id": "8aad27bd18114645a9c9074ca568b9e2",
       "version_major": 2,
       "version_minor": 0
      },
      "text/plain": [
       "Canvas(toolbar=Toolbar(toolitems=[('Home', 'Reset original view', 'home', 'home'), ('Back', 'Back to previous …"
      ]
     },
     "metadata": {},
     "output_type": "display_data"
    },
    {
     "data": {
      "application/vnd.jupyter.widget-view+json": {
       "model_id": "df050f63e2714705be7dc74f0f7d4498",
       "version_major": 2,
       "version_minor": 0
      },
      "text/plain": [
       "HBox(children=(FloatSlider(value=1.0, max=1.0, step=0.01), FloatSlider(value=0.0, max=3.141592653589793, step=…"
      ]
     },
     "metadata": {},
     "output_type": "display_data"
    }
   ],
   "source": [
    "import matplotlib.pyplot as plt\n",
    "import numpy as np\n",
    "import ipywidgets as widgets\n",
    "from traitlets import HasTraits, link, Float, observe\n",
    "\n",
    "%matplotlib ipympl\n",
    "\n",
    "# Plotter is in this way a subclass of HasTraits\n",
    "class Plotter(HasTraits):\n",
    "    a = Float(1.0)\n",
    "    b = Float(0)\n",
    "    x = np.linspace(0,10)\n",
    "    \n",
    "    def open_plot(self):\n",
    "        fig, ax = plt.subplots()\n",
    "        self.line, = ax.plot(x,self.a*np.sin(x+self.b))\n",
    "\n",
    "    @observe('a', 'b')\n",
    "    def update_plot(self, value):\n",
    "        self.line.set_data(x,self.a*np.sin(x+self.b))\n",
    "\n",
    "# Create object, open plot\n",
    "P = Plotter()\n",
    "P.open_plot()\n",
    "\n",
    "# Trailet linking, this is a lot nicer!\n",
    "a_slider = widgets.FloatSlider(min=0, max=1, step=0.01, value=P.a)\n",
    "link((a_slider, \"value\"), (P, \"a\"))\n",
    "b_slider = widgets.FloatSlider(min=0, max=np.pi, step=0.01, value=P.b)\n",
    "link((b_slider, \"value\"), (P, \"b\"))\n",
    "\n",
    "# Display widgets\n",
    "display(widgets.HBox([a_slider, b_slider]))"
   ]
  },
  {
   "cell_type": "code",
   "execution_count": 89,
   "metadata": {},
   "outputs": [
    {
     "data": {
      "text/plain": [
       "{'_trait_values': {'a': 1.0, 'b': 0.0},\n",
       " '_trait_notifiers': {'a': {'change': [<traitlets.traitlets.ObserveHandler at 0x7ff581bae7d0>,\n",
       "    <bound method link._update_source of <traitlets.traitlets.link object at 0x7ff582cd0e50>>]},\n",
       "  'b': {'change': [<traitlets.traitlets.ObserveHandler at 0x7ff581bae7d0>,\n",
       "    <bound method link._update_source of <traitlets.traitlets.link object at 0x7ff5833e7910>>]}},\n",
       " '_trait_validators': {},\n",
       " '_cross_validation_lock': False,\n",
       " 'line': <matplotlib.lines.Line2D at 0x7ff582d2f050>}"
      ]
     },
     "execution_count": 89,
     "metadata": {},
     "output_type": "execute_result"
    }
   ],
   "source": [
    "P.__dict__"
   ]
  },
  {
   "cell_type": "code",
   "execution_count": 87,
   "metadata": {},
   "outputs": [
    {
     "data": {
      "text/plain": [
       "1.0"
      ]
     },
     "execution_count": 87,
     "metadata": {},
     "output_type": "execute_result"
    }
   ],
   "source": [
    "P.a"
   ]
  },
  {
   "cell_type": "markdown",
   "metadata": {},
   "source": [
    "# Now automatic? "
   ]
  },
  {
   "cell_type": "code",
   "execution_count": 160,
   "metadata": {
    "scrolled": false
   },
   "outputs": [
    {
     "data": {
      "application/vnd.jupyter.widget-view+json": {
       "model_id": "2020aed1d11947c2807a5192d3fa4ac2",
       "version_major": 2,
       "version_minor": 0
      },
      "text/plain": [
       "Canvas(toolbar=Toolbar(toolitems=[('Home', 'Reset original view', 'home', 'home'), ('Back', 'Back to previous …"
      ]
     },
     "metadata": {},
     "output_type": "display_data"
    },
    {
     "data": {
      "application/vnd.jupyter.widget-view+json": {
       "model_id": "c3bf961adcc74a57abfd8abb976afa5a",
       "version_major": 2,
       "version_minor": 0
      },
      "text/plain": [
       "HBox(children=(FloatSlider(value=1.0, description='a', max=1.0, step=0.01), FloatSlider(value=0.0, description…"
      ]
     },
     "metadata": {},
     "output_type": "display_data"
    }
   ],
   "source": [
    "import matplotlib.pyplot as plt\n",
    "import numpy as np\n",
    "import ipywidgets as widgets\n",
    "from traitlets import HasTraits, link, Float, observe\n",
    "\n",
    "# Plotter is in this way a subclass of HasTraits\n",
    "class Plotter(HasTraits):\n",
    "    # Traits need to be \"registered?\" here to get into the \n",
    "    # the list of traits(). If I \"declare\" them in init\n",
    "    # then traits() says the class has no traits. Note \n",
    "    # different behaviour to __dict__: this does not \n",
    "    # register attributes declared like this, but only \n",
    "    # ones initialised by code in __init__....\n",
    "    a = Float(1.0)\n",
    "    b = Float(0)\n",
    "    \n",
    "    def __init__(self):\n",
    "        self.a = 1.0\n",
    "        self.b = 0\n",
    "        self.x = np.linspace(0,20,1000)\n",
    "    \n",
    "    def open_plot(self):\n",
    "        self.fig, self.ax = plt.subplots()\n",
    "        self.line, = self.ax.plot(self.x,self.a*np.sin(self.x+self.b))\n",
    "\n",
    "    @observe('a', 'b')\n",
    "    def update_plot(self, value):\n",
    "        self.line.set_data(self.x,self.a*np.sin(self.x+self.b))\n",
    "    \n",
    "    # This does not do what I want: if I overwrite the object, \n",
    "    # should it not delete the old one and trigger this function? \n",
    "    # Apparently not...to clear the plt objects using ipympl, I\n",
    "    # need to explicitly delete my Plotter objects. \n",
    "    def __del__(self):\n",
    "        plt.close(self.fig)        \n",
    "\n",
    "P = Plotter()\n",
    "\n",
    "# Specify widgets to implement for the class traits we want to control\n",
    "gui = {}\n",
    "gui['a'] = widgets.FloatSlider(min=0, max=1, step=0.01)\n",
    "gui['b'] = widgets.FloatSlider(min=0, max=np.pi, step=0.01)\n",
    "\n",
    "# Construct controls\n",
    "controls = []\n",
    "for k in gui.keys():\n",
    "    controls.append(gui[k])\n",
    "    gui[k].description = k\n",
    "    gui[k].value = eval(\"P.\"+k) # can't figure out a better way here...\n",
    "    link((gui[k], \"value\"), (P, k))\n",
    "\n",
    "# Now display stuff\n",
    "P.open_plot()\n",
    "display(widgets.HBox(controls))"
   ]
  },
  {
   "cell_type": "code",
   "execution_count": 159,
   "metadata": {},
   "outputs": [],
   "source": [
    "# Rerunning the cell above, we can see that the figure number increments each time,\n",
    "# which indeed indicates that we are not closing the plt figure objects of the \n",
    "# dangling Plotter objects when overwritten. We can reset this by closing all. \n",
    "plt.close('all')"
   ]
  }
 ],
 "metadata": {
  "jupytext": {
   "formats": "ipynb,md"
  },
  "kernelspec": {
   "display_name": "Python 3",
   "language": "python",
   "name": "python3"
  },
  "language_info": {
   "codemirror_mode": {
    "name": "ipython",
    "version": 3
   },
   "file_extension": ".py",
   "mimetype": "text/x-python",
   "name": "python",
   "nbconvert_exporter": "python",
   "pygments_lexer": "ipython3",
   "version": "3.7.5"
  }
 },
 "nbformat": 4,
 "nbformat_minor": 2
}
