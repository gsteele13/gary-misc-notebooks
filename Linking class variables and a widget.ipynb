{
 "cells": [
  {
   "cell_type": "markdown",
   "metadata": {},
   "source": [
    "# Hand-coded callbacks implementation"
   ]
  },
  {
   "cell_type": "code",
   "execution_count": 49,
   "metadata": {
    "scrolled": false
   },
   "outputs": [
    {
     "data": {
      "application/vnd.jupyter.widget-view+json": {
       "model_id": "9e67d1db2071426897e912f7ffee2cb6",
       "version_major": 2,
       "version_minor": 0
      },
      "text/plain": [
       "Canvas(toolbar=Toolbar(toolitems=[('Home', 'Reset original view', 'home', 'home'), ('Back', 'Back to previous …"
      ]
     },
     "metadata": {},
     "output_type": "display_data"
    },
    {
     "data": {
      "application/vnd.jupyter.widget-view+json": {
       "model_id": "5605fc6c83d44d69bc3fd8ce047a0f4f",
       "version_major": 2,
       "version_minor": 0
      },
      "text/plain": [
       "FloatSlider(value=1.0, max=1.0, step=0.01)"
      ]
     },
     "metadata": {},
     "output_type": "display_data"
    }
   ],
   "source": [
    "import matplotlib.pyplot as plt\n",
    "import numpy as np\n",
    "import ipywidgets as widgets\n",
    "\n",
    "%matplotlib ipympl\n",
    "\n",
    "class Plotter:\n",
    "    a = 1\n",
    "    b = 1\n",
    "    x = np.linspace(0,10)\n",
    "    \n",
    "    def open_plot(self):\n",
    "        fig, ax = plt.subplots()\n",
    "        self.line, = ax.plot(x,self.a*np.sin(x+self.b))\n",
    "\n",
    "    def update_plot(self):\n",
    "        self.line.set_data(x,self.a*np.sin(x+self.b))\n",
    "\n",
    "P = Plotter()\n",
    "P.open_plot()\n",
    "\n",
    "# This is a lot of ugly boiler plate. \n",
    "#\n",
    "# Is there some way to \"link\" the slider widget to the class attribute? \n",
    "# And link an action to be taken (callback?) in the class when the \n",
    "# value of an attribute changes? \n",
    "#\n",
    "# ie. in this case somehow in the class specify that update_plot() should\n",
    "# be called if the value of a changes? \n",
    "\n",
    "a_slider = widgets.FloatSlider(min=0, max=1, step=0.01, value=P.a)\n",
    "def a_slider_cb(w):\n",
    "    P.a = a_slider.value\n",
    "a_slider.observe(a_slider_cb)\n",
    "display(a_slider)"
   ]
  },
  {
   "cell_type": "markdown",
   "metadata": {},
   "source": [
    "# Example using trailets\n",
    "\n",
    "From Anton's suggestion:\n",
    "\n",
    "https://forum.kavli.tudelft.nl/t/linking-widgets-to-class-attributes-and-class-attributes-to-actions/160/2\n"
   ]
  },
  {
   "cell_type": "code",
   "execution_count": 62,
   "metadata": {
    "scrolled": false
   },
   "outputs": [
    {
     "data": {
      "application/vnd.jupyter.widget-view+json": {
       "model_id": "65ec64a7bccf45f0bffb78212b7eac24",
       "version_major": 2,
       "version_minor": 0
      },
      "text/plain": [
       "Canvas(toolbar=Toolbar(toolitems=[('Home', 'Reset original view', 'home', 'home'), ('Back', 'Back to previous …"
      ]
     },
     "metadata": {},
     "output_type": "display_data"
    },
    {
     "data": {
      "application/vnd.jupyter.widget-view+json": {
       "model_id": "213e1731a52f472c89685aac1920a159",
       "version_major": 2,
       "version_minor": 0
      },
      "text/plain": [
       "HBox(children=(FloatSlider(value=1.0, max=1.0, step=0.01), FloatSlider(value=0.0, max=3.141592653589793, step=…"
      ]
     },
     "metadata": {},
     "output_type": "display_data"
    }
   ],
   "source": [
    "import matplotlib.pyplot as plt\n",
    "import numpy as np\n",
    "import ipywidgets as widgets\n",
    "from traitlets import HasTraits, link, Float, observe\n",
    "\n",
    "%matplotlib ipympl\n",
    "\n",
    "# Plotter is in this way a subclass of HasTraits\n",
    "class Plotter(HasTraits):\n",
    "    a = Float(1.0)\n",
    "    b = Float(0)\n",
    "    x = np.linspace(0,10)\n",
    "    \n",
    "    def open_plot(self):\n",
    "        fig, ax = plt.subplots()\n",
    "        self.line, = ax.plot(x,self.a*np.sin(x+self.b))\n",
    "\n",
    "    @observe('a', 'b')\n",
    "    def update_plot(self, value):\n",
    "        self.line.set_data(x,self.a*np.sin(x+self.b))\n",
    "\n",
    "# Create object, open plot\n",
    "P = Plotter()\n",
    "P.open_plot()\n",
    "\n",
    "# Trailet linking, this is a lot nicer!\n",
    "a_slider = widgets.FloatSlider(min=0, max=1, step=0.01, value=P.a)\n",
    "link((a_slider, \"value\"), (P, \"a\"))\n",
    "b_slider = widgets.FloatSlider(min=0, max=np.pi, step=0.01, value=P.b)\n",
    "link((b_slider, \"value\"), (P, \"b\"))\n",
    "\n",
    "# Display widgets\n",
    "display(widgets.HBox([a_slider, b_slider]))"
   ]
  },
  {
   "cell_type": "code",
   "execution_count": 63,
   "metadata": {},
   "outputs": [],
   "source": [
    "P.a = 0"
   ]
  },
  {
   "cell_type": "code",
   "execution_count": null,
   "metadata": {},
   "outputs": [],
   "source": []
  }
 ],
 "metadata": {
  "jupytext": {
   "formats": "ipynb,md"
  },
  "kernelspec": {
   "display_name": "Python 3",
   "language": "python",
   "name": "python3"
  },
  "language_info": {
   "codemirror_mode": {
    "name": "ipython",
    "version": 3
   },
   "file_extension": ".py",
   "mimetype": "text/x-python",
   "name": "python",
   "nbconvert_exporter": "python",
   "pygments_lexer": "ipython3",
   "version": "3.7.5"
  }
 },
 "nbformat": 4,
 "nbformat_minor": 2
}
