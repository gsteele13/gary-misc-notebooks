{
 "cells": [
  {
   "cell_type": "code",
   "execution_count": 1,
   "id": "193a2895",
   "metadata": {
    "ExecuteTime": {
     "end_time": "2022-04-11T19:08:02.289026Z",
     "start_time": "2022-04-11T19:08:02.211667Z"
    }
   },
   "outputs": [],
   "source": [
    "import ipywidgets as widgets"
   ]
  },
  {
   "cell_type": "code",
   "execution_count": 8,
   "id": "8c45d8d5",
   "metadata": {
    "ExecuteTime": {
     "end_time": "2022-04-11T19:10:44.258764Z",
     "start_time": "2022-04-11T19:10:44.243195Z"
    }
   },
   "outputs": [
    {
     "data": {
      "application/vnd.jupyter.widget-view+json": {
       "model_id": "6b372f0e41154c31bf80d8173ed1b470",
       "version_major": 2,
       "version_minor": 0
      },
      "text/plain": [
       "FloatRangeSlider(value=(25.0, 75.0))"
      ]
     },
     "metadata": {},
     "output_type": "display_data"
    }
   ],
   "source": [
    "w = widgets.FloatRangeSlider()\n",
    "w"
   ]
  },
  {
   "cell_type": "code",
   "execution_count": 13,
   "id": "1bed92f6",
   "metadata": {
    "ExecuteTime": {
     "end_time": "2022-04-11T19:28:03.988629Z",
     "start_time": "2022-04-11T19:28:03.982815Z"
    }
   },
   "outputs": [],
   "source": [
    "w.layout = widgets.Layout(width=\"100%\")"
   ]
  },
  {
   "cell_type": "code",
   "execution_count": 4,
   "id": "a9237cd8",
   "metadata": {
    "ExecuteTime": {
     "end_time": "2022-04-11T19:09:06.886832Z",
     "start_time": "2022-04-11T19:09:06.874257Z"
    }
   },
   "outputs": [
    {
     "data": {
      "text/plain": [
       "(34.3, 89.0)"
      ]
     },
     "execution_count": 4,
     "metadata": {},
     "output_type": "execute_result"
    }
   ],
   "source": [
    "w.min = -10\n",
    "w.max = 10"
   ]
  },
  {
   "cell_type": "code",
   "execution_count": 5,
   "id": "a42da909",
   "metadata": {
    "ExecuteTime": {
     "end_time": "2022-04-11T19:09:11.987454Z",
     "start_time": "2022-04-11T19:09:11.982616Z"
    }
   },
   "outputs": [
    {
     "data": {
      "text/plain": [
       "0.0"
      ]
     },
     "execution_count": 5,
     "metadata": {},
     "output_type": "execute_result"
    }
   ],
   "source": [
    "w.min"
   ]
  },
  {
   "cell_type": "code",
   "execution_count": 6,
   "id": "5af7aa3e",
   "metadata": {
    "ExecuteTime": {
     "end_time": "2022-04-11T19:09:14.509321Z",
     "start_time": "2022-04-11T19:09:14.504326Z"
    }
   },
   "outputs": [
    {
     "data": {
      "text/plain": [
       "100.0"
      ]
     },
     "execution_count": 6,
     "metadata": {},
     "output_type": "execute_result"
    }
   ],
   "source": [
    "w.max"
   ]
  },
  {
   "cell_type": "code",
   "execution_count": null,
   "id": "aea8a38e",
   "metadata": {},
   "outputs": [],
   "source": [
    "w.max ="
   ]
  }
 ],
 "metadata": {
  "kernelspec": {
   "display_name": "Python 3 (ipykernel)",
   "language": "python",
   "name": "python3"
  },
  "language_info": {
   "codemirror_mode": {
    "name": "ipython",
    "version": 3
   },
   "file_extension": ".py",
   "mimetype": "text/x-python",
   "name": "python",
   "nbconvert_exporter": "python",
   "pygments_lexer": "ipython3",
   "version": "3.9.10"
  },
  "toc": {
   "base_numbering": 1,
   "nav_menu": {},
   "number_sections": true,
   "sideBar": true,
   "skip_h1_title": false,
   "title_cell": "Table of Contents",
   "title_sidebar": "Contents",
   "toc_cell": false,
   "toc_position": {},
   "toc_section_display": true,
   "toc_window_display": false
  }
 },
 "nbformat": 4,
 "nbformat_minor": 5
}
