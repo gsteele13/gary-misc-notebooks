{
 "cells": [
  {
   "cell_type": "code",
   "execution_count": 33,
   "metadata": {},
   "outputs": [],
   "source": [
    "from scipy.constants import *\n",
    "import numpy as np\n",
    "from IPython.display import HTML\n",
    "from matplotlib.ticker import EngFormatter\n"
   ]
  },
  {
   "cell_type": "markdown",
   "metadata": {},
   "source": [
    "https://en.wikipedia.org/wiki/Josephson_effect#Josephson_inductance"
   ]
  },
  {
   "cell_type": "code",
   "execution_count": 5,
   "metadata": {},
   "outputs": [],
   "source": [
    "Phi0 = h/2/e\n",
    "\n",
    "def LJ(Ic):\n",
    "    return Phi0/2/pi/Ic\n",
    "\n",
    "def EJ(Ic):\n",
    "    return Phi0*Ic/2/pi"
   ]
  },
  {
   "cell_type": "code",
   "execution_count": 53,
   "metadata": {},
   "outputs": [
    {
     "data": {
      "text/html": [
       "<table><th>Ic (nA) <th> L_J (nH) <th> E_J (GHz)<tr><td>100.0 p<td>3.3 µ<td>49.7 M<tr><td>200.0 p<td>1.6 µ<td>99.3 M<tr><td>500.0 p<td>658.2 n<td>248.3 M<tr><td>1.0 n<td>329.1 n<td>496.7 M<tr><td>1.0 n<td>329.1 n<td>496.7 M<tr><td>2.0 n<td>164.6 n<td>993.4 M<tr><td>5.0 n<td>65.8 n<td>2.5 G<tr><td>10.0 n<td>32.9 n<td>5.0 G<tr><td>10.0 n<td>32.9 n<td>5.0 G<tr><td>20.0 n<td>16.5 n<td>9.9 G<tr><td>50.0 n<td>6.6 n<td>24.8 G<tr><td>100.0 n<td>3.3 n<td>49.7 G<tr><td>100.0 n<td>3.3 n<td>49.7 G<tr><td>200.0 n<td>1.6 n<td>99.3 G<tr><td>500.0 n<td>658.2 p<td>248.3 G<tr><td>1.0 µ<td>329.1 p<td>496.7 G<tr><td>1.0 µ<td>329.1 p<td>496.7 G<tr><td>2.0 µ<td>164.6 p<td>993.4 G<tr><td>5.0 µ<td>65.8 p<td>2.5 T<tr><td>10.0 µ<td>32.9 p<td>5.0 T</table>"
      ],
      "text/plain": [
       "<IPython.core.display.HTML object>"
      ]
     },
     "execution_count": 53,
     "metadata": {},
     "output_type": "execute_result"
    }
   ],
   "source": [
    "html = \"<table><th>Ic (nA) <th> L_J (nH) <th> E_J (GHz)\" \n",
    "f = EngFormatter(places=1)\n",
    "for a in range(-1,4):\n",
    "    for b in (1,2,5,10):\n",
    "        Ic = b*10**a*1e-9\n",
    "        html += \"<tr>\"\n",
    "        html += \"<td>\" + f\"{f(Ic)}\"\n",
    "        html += \"<td>\" + f\"{f(LJ(Ic))}\"\n",
    "        html += \"<td>\" + f\"{f(EJ(Ic)/h)}\"\n",
    "html += \"</table>\"\n",
    "HTML(html)"
   ]
  }
 ],
 "metadata": {
  "jupytext": {
   "formats": "ipynb,md"
  },
  "kernelspec": {
   "display_name": "Python 3",
   "language": "python",
   "name": "python3"
  },
  "language_info": {
   "codemirror_mode": {
    "name": "ipython",
    "version": 3
   },
   "file_extension": ".py",
   "mimetype": "text/x-python",
   "name": "python",
   "nbconvert_exporter": "python",
   "pygments_lexer": "ipython3",
   "version": "3.7.5"
  }
 },
 "nbformat": 4,
 "nbformat_minor": 2
}
