{
 "cells": [
  {
   "cell_type": "code",
   "execution_count": 63,
   "metadata": {},
   "outputs": [],
   "source": [
    "from scipy.constants import *\n",
    "import numpy as np\n",
    "from IPython.display import HTML\n",
    "from matplotlib.ticker import EngFormatter"
   ]
  },
  {
   "cell_type": "code",
   "execution_count": 67,
   "metadata": {},
   "outputs": [],
   "source": [
    "# Flux quantum\n",
    "Phi0 = h/2/e\n",
    "\n",
    "# Handy\n",
    "def fmt(val, unit):\n",
    "    return \"<td>\" + EngFormatter(places=1)(val) + unit"
   ]
  },
  {
   "cell_type": "markdown",
   "metadata": {},
   "source": [
    "# Critical current, Josephson Inductance, Josephson Energy\n",
    "\n",
    "https://en.wikipedia.org/wiki/Josephson_effect#Josephson_inductance"
   ]
  },
  {
   "cell_type": "code",
   "execution_count": 89,
   "metadata": {},
   "outputs": [
    {
     "data": {
      "text/html": [
       "<table><th>Ic <th> L_J <th> E_J/h<tr><td>100.0 fA<td>3.3 mH<td>49.7 kHz<tr><td>200.0 fA<td>1.6 mH<td>99.3 kHz<tr><td>500.0 fA<td>658.2 µH<td>248.3 kHz<tr><td>1.0 pA<td>329.1 µH<td>496.7 kHz<tr><td>2.0 pA<td>164.6 µH<td>993.4 kHz<tr><td>5.0 pA<td>65.8 µH<td>2.5 MHz<tr><td>10.0 pA<td>32.9 µH<td>5.0 MHz<tr><td>20.0 pA<td>16.5 µH<td>9.9 MHz<tr><td>50.0 pA<td>6.6 µH<td>24.8 MHz<tr><td>100.0 pA<td>3.3 µH<td>49.7 MHz<tr><td>200.0 pA<td>1.6 µH<td>99.3 MHz<tr><td>500.0 pA<td>658.2 nH<td>248.3 MHz<tr><td>1.0 nA<td>329.1 nH<td>496.7 MHz<tr><td>2.0 nA<td>164.6 nH<td>993.4 MHz<tr><td>5.0 nA<td>65.8 nH<td>2.5 GHz<tr><td>10.0 nA<td>32.9 nH<td>5.0 GHz<tr><td>20.0 nA<td>16.5 nH<td>9.9 GHz<tr><td>50.0 nA<td>6.6 nH<td>24.8 GHz<tr><td>100.0 nA<td>3.3 nH<td>49.7 GHz<tr><td>200.0 nA<td>1.6 nH<td>99.3 GHz<tr><td>500.0 nA<td>658.2 pH<td>248.3 GHz<tr><td>1.0 µA<td>329.1 pH<td>496.7 GHz<tr><td>2.0 µA<td>164.6 pH<td>993.4 GHz<tr><td>5.0 µA<td>65.8 pH<td>2.5 THz<tr><td>10.0 µA<td>32.9 pH<td>5.0 THz<tr><td>20.0 µA<td>16.5 pH<td>9.9 THz<tr><td>50.0 µA<td>6.6 pH<td>24.8 THz</table>"
      ],
      "text/plain": [
       "<IPython.core.display.HTML object>"
      ]
     },
     "execution_count": 89,
     "metadata": {},
     "output_type": "execute_result"
    }
   ],
   "source": [
    "html = \"<table><th>Ic <th> L_J <th> E_J/h\" \n",
    "for a in range(-13,-4):\n",
    "    for b in (1,2,5):\n",
    "        Ic = b*10**(a)\n",
    "        Lj = Phi0/2/pi/Ic\n",
    "        Ej = Phi0*Ic/2/pi\n",
    "        html += \"<tr>\"\n",
    "        html += fmt(Ic, \"A\")\n",
    "        html += fmt(Lj, \"H\")\n",
    "        html += fmt(Ej/h, \"Hz\")\n",
    "html += \"</table>\"\n",
    "HTML(html)"
   ]
  },
  {
   "cell_type": "markdown",
   "metadata": {},
   "source": [
    "# Temperature to frequency"
   ]
  },
  {
   "cell_type": "code",
   "execution_count": 92,
   "metadata": {},
   "outputs": [
    {
     "data": {
      "text/html": [
       "<table><th> T <th> kT/h<tr><td>1.0 µK<td>20.8 kHz<tr><td>2.0 µK<td>41.7 kHz<tr><td>5.0 µK<td>104.2 kHz<tr><td>10.0 µK<td>208.4 kHz<tr><td>20.0 µK<td>416.7 kHz<tr><td>50.0 µK<td>1.0 MHz<tr><td>100.0 µK<td>2.1 MHz<tr><td>200.0 µK<td>4.2 MHz<tr><td>500.0 µK<td>10.4 MHz<tr><td>1.0 mK<td>20.8 MHz<tr><td>2.0 mK<td>41.7 MHz<tr><td>5.0 mK<td>104.2 MHz<tr><td>10.0 mK<td>208.4 MHz<tr><td>20.0 mK<td>416.7 MHz<tr><td>50.0 mK<td>1.0 GHz<tr><td>100.0 mK<td>2.1 GHz<tr><td>200.0 mK<td>4.2 GHz<tr><td>500.0 mK<td>10.4 GHz<tr><td>1.0K<td>20.8 GHz<tr><td>2.0K<td>41.7 GHz<tr><td>5.0K<td>104.2 GHz<tr><td>10.0K<td>208.4 GHz<tr><td>20.0K<td>416.7 GHz<tr><td>50.0K<td>1.0 THz</table>"
      ],
      "text/plain": [
       "<IPython.core.display.HTML object>"
      ]
     },
     "execution_count": 92,
     "metadata": {},
     "output_type": "execute_result"
    }
   ],
   "source": [
    "html = \"<table><th> T <th> kT/h\" \n",
    "for a in range(-6,2):\n",
    "    for b in (1,2,5):\n",
    "        T = b*10**a\n",
    "        kT = k*T/h\n",
    "        html += \"<tr>\"\n",
    "        html += fmt(T, \"K\")\n",
    "        html += fmt(kT, \"Hz\")\n",
    "html += \"</table>\"\n",
    "HTML(html)"
   ]
  }
 ],
 "metadata": {
  "jupytext": {
   "formats": "ipynb,md"
  },
  "kernelspec": {
   "display_name": "Python 3",
   "language": "python",
   "name": "python3"
  },
  "language_info": {
   "codemirror_mode": {
    "name": "ipython",
    "version": 3
   },
   "file_extension": ".py",
   "mimetype": "text/x-python",
   "name": "python",
   "nbconvert_exporter": "python",
   "pygments_lexer": "ipython3",
   "version": "3.7.5"
  }
 },
 "nbformat": 4,
 "nbformat_minor": 2
}
