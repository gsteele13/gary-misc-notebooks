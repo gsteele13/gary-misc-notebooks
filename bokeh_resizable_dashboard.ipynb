{
 "cells": [
  {
   "cell_type": "code",
   "execution_count": 24,
   "metadata": {},
   "outputs": [
    {
     "data": {
      "text/html": [
       "\n",
       "    <div class=\"bk-root\">\n",
       "        <a href=\"https://bokeh.org\" target=\"_blank\" class=\"bk-logo bk-logo-small bk-logo-notebook\"></a>\n",
       "        <span id=\"52266\">Loading BokehJS ...</span>\n",
       "    </div>"
      ]
     },
     "metadata": {},
     "output_type": "display_data"
    },
    {
     "data": {
      "application/javascript": [
       "\n",
       "(function(root) {\n",
       "  function now() {\n",
       "    return new Date();\n",
       "  }\n",
       "\n",
       "  var force = true;\n",
       "\n",
       "  if (typeof root._bokeh_onload_callbacks === \"undefined\" || force === true) {\n",
       "    root._bokeh_onload_callbacks = [];\n",
       "    root._bokeh_is_loading = undefined;\n",
       "  }\n",
       "\n",
       "  var JS_MIME_TYPE = 'application/javascript';\n",
       "  var HTML_MIME_TYPE = 'text/html';\n",
       "  var EXEC_MIME_TYPE = 'application/vnd.bokehjs_exec.v0+json';\n",
       "  var CLASS_NAME = 'output_bokeh rendered_html';\n",
       "\n",
       "  /**\n",
       "   * Render data to the DOM node\n",
       "   */\n",
       "  function render(props, node) {\n",
       "    var script = document.createElement(\"script\");\n",
       "    node.appendChild(script);\n",
       "  }\n",
       "\n",
       "  /**\n",
       "   * Handle when an output is cleared or removed\n",
       "   */\n",
       "  function handleClearOutput(event, handle) {\n",
       "    var cell = handle.cell;\n",
       "\n",
       "    var id = cell.output_area._bokeh_element_id;\n",
       "    var server_id = cell.output_area._bokeh_server_id;\n",
       "    // Clean up Bokeh references\n",
       "    if (id != null && id in Bokeh.index) {\n",
       "      Bokeh.index[id].model.document.clear();\n",
       "      delete Bokeh.index[id];\n",
       "    }\n",
       "\n",
       "    if (server_id !== undefined) {\n",
       "      // Clean up Bokeh references\n",
       "      var cmd = \"from bokeh.io.state import curstate; print(curstate().uuid_to_server['\" + server_id + \"'].get_sessions()[0].document.roots[0]._id)\";\n",
       "      cell.notebook.kernel.execute(cmd, {\n",
       "        iopub: {\n",
       "          output: function(msg) {\n",
       "            var id = msg.content.text.trim();\n",
       "            if (id in Bokeh.index) {\n",
       "              Bokeh.index[id].model.document.clear();\n",
       "              delete Bokeh.index[id];\n",
       "            }\n",
       "          }\n",
       "        }\n",
       "      });\n",
       "      // Destroy server and session\n",
       "      var cmd = \"import bokeh.io.notebook as ion; ion.destroy_server('\" + server_id + \"')\";\n",
       "      cell.notebook.kernel.execute(cmd);\n",
       "    }\n",
       "  }\n",
       "\n",
       "  /**\n",
       "   * Handle when a new output is added\n",
       "   */\n",
       "  function handleAddOutput(event, handle) {\n",
       "    var output_area = handle.output_area;\n",
       "    var output = handle.output;\n",
       "\n",
       "    // limit handleAddOutput to display_data with EXEC_MIME_TYPE content only\n",
       "    if ((output.output_type != \"display_data\") || (!Object.prototype.hasOwnProperty.call(output.data, EXEC_MIME_TYPE))) {\n",
       "      return\n",
       "    }\n",
       "\n",
       "    var toinsert = output_area.element.find(\".\" + CLASS_NAME.split(' ')[0]);\n",
       "\n",
       "    if (output.metadata[EXEC_MIME_TYPE][\"id\"] !== undefined) {\n",
       "      toinsert[toinsert.length - 1].firstChild.textContent = output.data[JS_MIME_TYPE];\n",
       "      // store reference to embed id on output_area\n",
       "      output_area._bokeh_element_id = output.metadata[EXEC_MIME_TYPE][\"id\"];\n",
       "    }\n",
       "    if (output.metadata[EXEC_MIME_TYPE][\"server_id\"] !== undefined) {\n",
       "      var bk_div = document.createElement(\"div\");\n",
       "      bk_div.innerHTML = output.data[HTML_MIME_TYPE];\n",
       "      var script_attrs = bk_div.children[0].attributes;\n",
       "      for (var i = 0; i < script_attrs.length; i++) {\n",
       "        toinsert[toinsert.length - 1].firstChild.setAttribute(script_attrs[i].name, script_attrs[i].value);\n",
       "        toinsert[toinsert.length - 1].firstChild.textContent = bk_div.children[0].textContent\n",
       "      }\n",
       "      // store reference to server id on output_area\n",
       "      output_area._bokeh_server_id = output.metadata[EXEC_MIME_TYPE][\"server_id\"];\n",
       "    }\n",
       "  }\n",
       "\n",
       "  function register_renderer(events, OutputArea) {\n",
       "\n",
       "    function append_mime(data, metadata, element) {\n",
       "      // create a DOM node to render to\n",
       "      var toinsert = this.create_output_subarea(\n",
       "        metadata,\n",
       "        CLASS_NAME,\n",
       "        EXEC_MIME_TYPE\n",
       "      );\n",
       "      this.keyboard_manager.register_events(toinsert);\n",
       "      // Render to node\n",
       "      var props = {data: data, metadata: metadata[EXEC_MIME_TYPE]};\n",
       "      render(props, toinsert[toinsert.length - 1]);\n",
       "      element.append(toinsert);\n",
       "      return toinsert\n",
       "    }\n",
       "\n",
       "    /* Handle when an output is cleared or removed */\n",
       "    events.on('clear_output.CodeCell', handleClearOutput);\n",
       "    events.on('delete.Cell', handleClearOutput);\n",
       "\n",
       "    /* Handle when a new output is added */\n",
       "    events.on('output_added.OutputArea', handleAddOutput);\n",
       "\n",
       "    /**\n",
       "     * Register the mime type and append_mime function with output_area\n",
       "     */\n",
       "    OutputArea.prototype.register_mime_type(EXEC_MIME_TYPE, append_mime, {\n",
       "      /* Is output safe? */\n",
       "      safe: true,\n",
       "      /* Index of renderer in `output_area.display_order` */\n",
       "      index: 0\n",
       "    });\n",
       "  }\n",
       "\n",
       "  // register the mime type if in Jupyter Notebook environment and previously unregistered\n",
       "  if (root.Jupyter !== undefined) {\n",
       "    var events = require('base/js/events');\n",
       "    var OutputArea = require('notebook/js/outputarea').OutputArea;\n",
       "\n",
       "    if (OutputArea.prototype.mime_types().indexOf(EXEC_MIME_TYPE) == -1) {\n",
       "      register_renderer(events, OutputArea);\n",
       "    }\n",
       "  }\n",
       "\n",
       "  \n",
       "  if (typeof (root._bokeh_timeout) === \"undefined\" || force === true) {\n",
       "    root._bokeh_timeout = Date.now() + 5000;\n",
       "    root._bokeh_failed_load = false;\n",
       "  }\n",
       "\n",
       "  var NB_LOAD_WARNING = {'data': {'text/html':\n",
       "     \"<div style='background-color: #fdd'>\\n\"+\n",
       "     \"<p>\\n\"+\n",
       "     \"BokehJS does not appear to have successfully loaded. If loading BokehJS from CDN, this \\n\"+\n",
       "     \"may be due to a slow or bad network connection. Possible fixes:\\n\"+\n",
       "     \"</p>\\n\"+\n",
       "     \"<ul>\\n\"+\n",
       "     \"<li>re-rerun `output_notebook()` to attempt to load from CDN again, or</li>\\n\"+\n",
       "     \"<li>use INLINE resources instead, as so:</li>\\n\"+\n",
       "     \"</ul>\\n\"+\n",
       "     \"<code>\\n\"+\n",
       "     \"from bokeh.resources import INLINE\\n\"+\n",
       "     \"output_notebook(resources=INLINE)\\n\"+\n",
       "     \"</code>\\n\"+\n",
       "     \"</div>\"}};\n",
       "\n",
       "  function display_loaded() {\n",
       "    var el = document.getElementById(\"52266\");\n",
       "    if (el != null) {\n",
       "      el.textContent = \"BokehJS is loading...\";\n",
       "    }\n",
       "    if (root.Bokeh !== undefined) {\n",
       "      if (el != null) {\n",
       "        el.textContent = \"BokehJS \" + root.Bokeh.version + \" successfully loaded.\";\n",
       "      }\n",
       "    } else if (Date.now() < root._bokeh_timeout) {\n",
       "      setTimeout(display_loaded, 100)\n",
       "    }\n",
       "  }\n",
       "\n",
       "\n",
       "  function run_callbacks() {\n",
       "    try {\n",
       "      root._bokeh_onload_callbacks.forEach(function(callback) {\n",
       "        if (callback != null)\n",
       "          callback();\n",
       "      });\n",
       "    } finally {\n",
       "      delete root._bokeh_onload_callbacks\n",
       "    }\n",
       "    console.debug(\"Bokeh: all callbacks have finished\");\n",
       "  }\n",
       "\n",
       "  function load_libs(css_urls, js_urls, callback) {\n",
       "    if (css_urls == null) css_urls = [];\n",
       "    if (js_urls == null) js_urls = [];\n",
       "\n",
       "    root._bokeh_onload_callbacks.push(callback);\n",
       "    if (root._bokeh_is_loading > 0) {\n",
       "      console.debug(\"Bokeh: BokehJS is being loaded, scheduling callback at\", now());\n",
       "      return null;\n",
       "    }\n",
       "    if (js_urls == null || js_urls.length === 0) {\n",
       "      run_callbacks();\n",
       "      return null;\n",
       "    }\n",
       "    console.debug(\"Bokeh: BokehJS not loaded, scheduling load and callback at\", now());\n",
       "    root._bokeh_is_loading = css_urls.length + js_urls.length;\n",
       "\n",
       "    function on_load() {\n",
       "      root._bokeh_is_loading--;\n",
       "      if (root._bokeh_is_loading === 0) {\n",
       "        console.debug(\"Bokeh: all BokehJS libraries/stylesheets loaded\");\n",
       "        run_callbacks()\n",
       "      }\n",
       "    }\n",
       "\n",
       "    function on_error(url) {\n",
       "      console.error(\"failed to load \" + url);\n",
       "    }\n",
       "\n",
       "    for (let i = 0; i < css_urls.length; i++) {\n",
       "      const url = css_urls[i];\n",
       "      const element = document.createElement(\"link\");\n",
       "      element.onload = on_load;\n",
       "      element.onerror = on_error.bind(null, url);\n",
       "      element.rel = \"stylesheet\";\n",
       "      element.type = \"text/css\";\n",
       "      element.href = url;\n",
       "      console.debug(\"Bokeh: injecting link tag for BokehJS stylesheet: \", url);\n",
       "      document.body.appendChild(element);\n",
       "    }\n",
       "\n",
       "    const hashes = {\"https://cdn.bokeh.org/bokeh/release/bokeh-2.3.1.min.js\": \"YF85VygJKMVnHE+lLv2AM93Vbstr0yo2TbIu5v8se5Rq3UQAUmcuh4aaJwNlpKwa\", \"https://cdn.bokeh.org/bokeh/release/bokeh-widgets-2.3.1.min.js\": \"KKuas3gevv3PvrlkyCMzffFeaMq5we/a2QsP5AUoS3mJ0jmaCL7jirFJN3GoE/lM\", \"https://cdn.bokeh.org/bokeh/release/bokeh-tables-2.3.1.min.js\": \"MK/uFc3YT18pkvvXRl66tTHjP0/dxoSH2e/eiNMFIguKlun2+WVqaPTWmUy/zvh4\"};\n",
       "\n",
       "    for (let i = 0; i < js_urls.length; i++) {\n",
       "      const url = js_urls[i];\n",
       "      const element = document.createElement('script');\n",
       "      element.onload = on_load;\n",
       "      element.onerror = on_error.bind(null, url);\n",
       "      element.async = false;\n",
       "      element.src = url;\n",
       "      if (url in hashes) {\n",
       "        element.crossOrigin = \"anonymous\";\n",
       "        element.integrity = \"sha384-\" + hashes[url];\n",
       "      }\n",
       "      console.debug(\"Bokeh: injecting script tag for BokehJS library: \", url);\n",
       "      document.head.appendChild(element);\n",
       "    }\n",
       "  };\n",
       "\n",
       "  function inject_raw_css(css) {\n",
       "    const element = document.createElement(\"style\");\n",
       "    element.appendChild(document.createTextNode(css));\n",
       "    document.body.appendChild(element);\n",
       "  }\n",
       "\n",
       "  \n",
       "  var js_urls = [\"https://cdn.bokeh.org/bokeh/release/bokeh-2.3.1.min.js\", \"https://cdn.bokeh.org/bokeh/release/bokeh-widgets-2.3.1.min.js\", \"https://cdn.bokeh.org/bokeh/release/bokeh-tables-2.3.1.min.js\"];\n",
       "  var css_urls = [];\n",
       "  \n",
       "\n",
       "  var inline_js = [\n",
       "    function(Bokeh) {\n",
       "      Bokeh.set_log_level(\"info\");\n",
       "    },\n",
       "    function(Bokeh) {\n",
       "    \n",
       "    \n",
       "    }\n",
       "  ];\n",
       "\n",
       "  function run_inline_js() {\n",
       "    \n",
       "    if (root.Bokeh !== undefined || force === true) {\n",
       "      \n",
       "    for (var i = 0; i < inline_js.length; i++) {\n",
       "      inline_js[i].call(root, root.Bokeh);\n",
       "    }\n",
       "    if (force === true) {\n",
       "        display_loaded();\n",
       "      }} else if (Date.now() < root._bokeh_timeout) {\n",
       "      setTimeout(run_inline_js, 100);\n",
       "    } else if (!root._bokeh_failed_load) {\n",
       "      console.log(\"Bokeh: BokehJS failed to load within specified timeout.\");\n",
       "      root._bokeh_failed_load = true;\n",
       "    } else if (force !== true) {\n",
       "      var cell = $(document.getElementById(\"52266\")).parents('.cell').data().cell;\n",
       "      cell.output_area.append_execute_result(NB_LOAD_WARNING)\n",
       "    }\n",
       "\n",
       "  }\n",
       "\n",
       "  if (root._bokeh_is_loading === 0) {\n",
       "    console.debug(\"Bokeh: BokehJS loaded, going straight to plotting\");\n",
       "    run_inline_js();\n",
       "  } else {\n",
       "    load_libs(css_urls, js_urls, function() {\n",
       "      console.debug(\"Bokeh: BokehJS plotting callback run at\", now());\n",
       "      run_inline_js();\n",
       "    });\n",
       "  }\n",
       "}(window));"
      ],
      "application/vnd.bokehjs_load.v0+json": "\n(function(root) {\n  function now() {\n    return new Date();\n  }\n\n  var force = true;\n\n  if (typeof root._bokeh_onload_callbacks === \"undefined\" || force === true) {\n    root._bokeh_onload_callbacks = [];\n    root._bokeh_is_loading = undefined;\n  }\n\n  \n\n  \n  if (typeof (root._bokeh_timeout) === \"undefined\" || force === true) {\n    root._bokeh_timeout = Date.now() + 5000;\n    root._bokeh_failed_load = false;\n  }\n\n  var NB_LOAD_WARNING = {'data': {'text/html':\n     \"<div style='background-color: #fdd'>\\n\"+\n     \"<p>\\n\"+\n     \"BokehJS does not appear to have successfully loaded. If loading BokehJS from CDN, this \\n\"+\n     \"may be due to a slow or bad network connection. Possible fixes:\\n\"+\n     \"</p>\\n\"+\n     \"<ul>\\n\"+\n     \"<li>re-rerun `output_notebook()` to attempt to load from CDN again, or</li>\\n\"+\n     \"<li>use INLINE resources instead, as so:</li>\\n\"+\n     \"</ul>\\n\"+\n     \"<code>\\n\"+\n     \"from bokeh.resources import INLINE\\n\"+\n     \"output_notebook(resources=INLINE)\\n\"+\n     \"</code>\\n\"+\n     \"</div>\"}};\n\n  function display_loaded() {\n    var el = document.getElementById(\"52266\");\n    if (el != null) {\n      el.textContent = \"BokehJS is loading...\";\n    }\n    if (root.Bokeh !== undefined) {\n      if (el != null) {\n        el.textContent = \"BokehJS \" + root.Bokeh.version + \" successfully loaded.\";\n      }\n    } else if (Date.now() < root._bokeh_timeout) {\n      setTimeout(display_loaded, 100)\n    }\n  }\n\n\n  function run_callbacks() {\n    try {\n      root._bokeh_onload_callbacks.forEach(function(callback) {\n        if (callback != null)\n          callback();\n      });\n    } finally {\n      delete root._bokeh_onload_callbacks\n    }\n    console.debug(\"Bokeh: all callbacks have finished\");\n  }\n\n  function load_libs(css_urls, js_urls, callback) {\n    if (css_urls == null) css_urls = [];\n    if (js_urls == null) js_urls = [];\n\n    root._bokeh_onload_callbacks.push(callback);\n    if (root._bokeh_is_loading > 0) {\n      console.debug(\"Bokeh: BokehJS is being loaded, scheduling callback at\", now());\n      return null;\n    }\n    if (js_urls == null || js_urls.length === 0) {\n      run_callbacks();\n      return null;\n    }\n    console.debug(\"Bokeh: BokehJS not loaded, scheduling load and callback at\", now());\n    root._bokeh_is_loading = css_urls.length + js_urls.length;\n\n    function on_load() {\n      root._bokeh_is_loading--;\n      if (root._bokeh_is_loading === 0) {\n        console.debug(\"Bokeh: all BokehJS libraries/stylesheets loaded\");\n        run_callbacks()\n      }\n    }\n\n    function on_error(url) {\n      console.error(\"failed to load \" + url);\n    }\n\n    for (let i = 0; i < css_urls.length; i++) {\n      const url = css_urls[i];\n      const element = document.createElement(\"link\");\n      element.onload = on_load;\n      element.onerror = on_error.bind(null, url);\n      element.rel = \"stylesheet\";\n      element.type = \"text/css\";\n      element.href = url;\n      console.debug(\"Bokeh: injecting link tag for BokehJS stylesheet: \", url);\n      document.body.appendChild(element);\n    }\n\n    const hashes = {\"https://cdn.bokeh.org/bokeh/release/bokeh-2.3.1.min.js\": \"YF85VygJKMVnHE+lLv2AM93Vbstr0yo2TbIu5v8se5Rq3UQAUmcuh4aaJwNlpKwa\", \"https://cdn.bokeh.org/bokeh/release/bokeh-widgets-2.3.1.min.js\": \"KKuas3gevv3PvrlkyCMzffFeaMq5we/a2QsP5AUoS3mJ0jmaCL7jirFJN3GoE/lM\", \"https://cdn.bokeh.org/bokeh/release/bokeh-tables-2.3.1.min.js\": \"MK/uFc3YT18pkvvXRl66tTHjP0/dxoSH2e/eiNMFIguKlun2+WVqaPTWmUy/zvh4\"};\n\n    for (let i = 0; i < js_urls.length; i++) {\n      const url = js_urls[i];\n      const element = document.createElement('script');\n      element.onload = on_load;\n      element.onerror = on_error.bind(null, url);\n      element.async = false;\n      element.src = url;\n      if (url in hashes) {\n        element.crossOrigin = \"anonymous\";\n        element.integrity = \"sha384-\" + hashes[url];\n      }\n      console.debug(\"Bokeh: injecting script tag for BokehJS library: \", url);\n      document.head.appendChild(element);\n    }\n  };\n\n  function inject_raw_css(css) {\n    const element = document.createElement(\"style\");\n    element.appendChild(document.createTextNode(css));\n    document.body.appendChild(element);\n  }\n\n  \n  var js_urls = [\"https://cdn.bokeh.org/bokeh/release/bokeh-2.3.1.min.js\", \"https://cdn.bokeh.org/bokeh/release/bokeh-widgets-2.3.1.min.js\", \"https://cdn.bokeh.org/bokeh/release/bokeh-tables-2.3.1.min.js\"];\n  var css_urls = [];\n  \n\n  var inline_js = [\n    function(Bokeh) {\n      Bokeh.set_log_level(\"info\");\n    },\n    function(Bokeh) {\n    \n    \n    }\n  ];\n\n  function run_inline_js() {\n    \n    if (root.Bokeh !== undefined || force === true) {\n      \n    for (var i = 0; i < inline_js.length; i++) {\n      inline_js[i].call(root, root.Bokeh);\n    }\n    if (force === true) {\n        display_loaded();\n      }} else if (Date.now() < root._bokeh_timeout) {\n      setTimeout(run_inline_js, 100);\n    } else if (!root._bokeh_failed_load) {\n      console.log(\"Bokeh: BokehJS failed to load within specified timeout.\");\n      root._bokeh_failed_load = true;\n    } else if (force !== true) {\n      var cell = $(document.getElementById(\"52266\")).parents('.cell').data().cell;\n      cell.output_area.append_execute_result(NB_LOAD_WARNING)\n    }\n\n  }\n\n  if (root._bokeh_is_loading === 0) {\n    console.debug(\"Bokeh: BokehJS loaded, going straight to plotting\");\n    run_inline_js();\n  } else {\n    load_libs(css_urls, js_urls, function() {\n      console.debug(\"Bokeh: BokehJS plotting callback run at\", now());\n      run_inline_js();\n    });\n  }\n}(window));"
     },
     "metadata": {},
     "output_type": "display_data"
    }
   ],
   "source": [
    "import numpy as np\n",
    "import matplotlib.pyplot as plt\n",
    "import time\n",
    "\n",
    "from bokeh.plotting import figure, show\n",
    "from bokeh.io import output_notebook, push_notebook\n",
    "from bokeh.models import ColumnDataSource, Toggle, Range1d\n",
    "from bokeh.layouts import column, row\n",
    "\n",
    "import ipywidgets as widgets\n",
    "\n",
    "import IPython\n",
    "ipython = IPython.get_ipython()\n",
    "\n",
    "output_notebook()"
   ]
  },
  {
   "cell_type": "markdown",
   "metadata": {},
   "source": [
    "# Starting point: live plot\n",
    "\n",
    "Add a stop button. Use a while loop for the event loop. "
   ]
  },
  {
   "cell_type": "code",
   "execution_count": 19,
   "metadata": {},
   "outputs": [
    {
     "data": {
      "text/html": [
       "\n",
       "\n",
       "\n",
       "\n",
       "\n",
       "\n",
       "  <div class=\"bk-root\" id=\"2e59ac3c-f0ae-4d66-a06c-12877f202498\" data-root-id=\"42709\"></div>\n"
      ]
     },
     "metadata": {},
     "output_type": "display_data"
    },
    {
     "data": {
      "application/javascript": [
       "(function(root) {\n",
       "  function embed_document(root) {\n",
       "    \n",
       "  var docs_json = {\"92412368-4d8d-41b2-ae78-28a724732207\":{\"defs\":[],\"roots\":{\"references\":[{\"attributes\":{\"below\":[{\"id\":\"42720\"}],\"center\":[{\"id\":\"42723\"},{\"id\":\"42727\"}],\"height\":300,\"left\":[{\"id\":\"42724\"}],\"renderers\":[{\"id\":\"42745\"}],\"title\":{\"id\":\"42710\"},\"toolbar\":{\"id\":\"42735\"},\"width\":500,\"x_range\":{\"id\":\"42712\"},\"x_scale\":{\"id\":\"42716\"},\"y_range\":{\"id\":\"42714\"},\"y_scale\":{\"id\":\"42718\"}},\"id\":\"42709\",\"subtype\":\"Figure\",\"type\":\"Plot\"},{\"attributes\":{\"data_source\":{\"id\":\"42708\"},\"glyph\":{\"id\":\"42743\"},\"hover_glyph\":null,\"muted_glyph\":null,\"nonselection_glyph\":{\"id\":\"42744\"},\"view\":{\"id\":\"42746\"}},\"id\":\"42745\",\"type\":\"GlyphRenderer\"},{\"attributes\":{\"formatter\":{\"id\":\"42890\"},\"major_label_policy\":{\"id\":\"42888\"},\"ticker\":{\"id\":\"42725\"}},\"id\":\"42724\",\"type\":\"LinearAxis\"},{\"attributes\":{\"formatter\":{\"id\":\"42893\"},\"major_label_policy\":{\"id\":\"42891\"},\"ticker\":{\"id\":\"42721\"}},\"id\":\"42720\",\"type\":\"LinearAxis\"},{\"attributes\":{},\"id\":\"42718\",\"type\":\"LinearScale\"},{\"attributes\":{\"bottom_units\":\"screen\",\"fill_alpha\":0.5,\"fill_color\":\"lightgrey\",\"left_units\":\"screen\",\"level\":\"overlay\",\"line_alpha\":1.0,\"line_color\":\"black\",\"line_dash\":[4,4],\"line_width\":2,\"right_units\":\"screen\",\"syncable\":false,\"top_units\":\"screen\"},\"id\":\"42734\",\"type\":\"BoxAnnotation\"},{\"attributes\":{},\"id\":\"42714\",\"type\":\"DataRange1d\"},{\"attributes\":{},\"id\":\"42731\",\"type\":\"SaveTool\"},{\"attributes\":{},\"id\":\"42893\",\"type\":\"BasicTickFormatter\"},{\"attributes\":{\"text\":\"test\"},\"id\":\"42710\",\"type\":\"Title\"},{\"attributes\":{\"overlay\":{\"id\":\"42734\"}},\"id\":\"42730\",\"type\":\"BoxZoomTool\"},{\"attributes\":{},\"id\":\"42732\",\"type\":\"ResetTool\"},{\"attributes\":{\"line_color\":\"#1f77b4\",\"x\":{\"field\":\"x\"},\"y\":{\"field\":\"y\"}},\"id\":\"42743\",\"type\":\"Line\"},{\"attributes\":{\"active_multi\":null,\"tools\":[{\"id\":\"42728\"},{\"id\":\"42729\"},{\"id\":\"42730\"},{\"id\":\"42731\"},{\"id\":\"42732\"},{\"id\":\"42733\"}]},\"id\":\"42735\",\"type\":\"Toolbar\"},{\"attributes\":{\"source\":{\"id\":\"42708\"}},\"id\":\"42746\",\"type\":\"CDSView\"},{\"attributes\":{},\"id\":\"42888\",\"type\":\"AllLabels\"},{\"attributes\":{\"axis\":{\"id\":\"42724\"},\"dimension\":1,\"ticker\":null},\"id\":\"42727\",\"type\":\"Grid\"},{\"attributes\":{},\"id\":\"42895\",\"type\":\"Selection\"},{\"attributes\":{\"data\":{\"x\":{\"__ndarray__\":\"AAAAAAAAJMBDYt7OkJgjwIbEvJ0hMSPAyiabbLLJIsANiXk7Q2IiwFDrVwrU+iHAk0022WSTIcDXrxSo9SshwBoS83aGxCDAXXTRRRddIMBArV8pUOsfwMdxHMdxHB/ATjbZZJNNHsDU+pUCtX4dwFq/UqDWrxzA4YMPPvjgG8BoSMzbGRIbwO4MiXk7QxrAdNFFF110GcD7lQK1fqUYwIFav1Kg1hfACB988MEHF8CO4ziO4zgWwBWo9SsFahXAm2yyySabFMAiMW9nSMwTwKj1KwVq/RLAL7rooosuEsC1fqVArV8RwDxDYt7OkBDAhA8++OCDD8CSmLczJOYNwJ4hMW9nSAzAqqqqqqqqCsC4MyTm7QwJwMS8nSExbwfA0kUXXXTRBcDezpCYtzMEwOxXCtT6lQLA+OCDDz74AMAI1PqVArX+vyjm7QyJefu/QPjggw8++L9YCtT6lQL1v3Acx3Ecx/G/IF100UUX7b9QgVq/UqDmv4ClQK1fKeC/YJNNNtlk078Ab2dIzNu5vwBvZ0jM27k/YJNNNtlk0z+ApUCtXyngP1CBWr9SoOY/EF100UUX7T9wHMdxHMfxP1gK1PqVAvU/QPjggw8++D8g5u0MiXn7PwjU+pUCtf4/+OCDDz74AEDsVwrU+pUCQNzOkJi3MwRA0EUXXXTRBUDEvJ0hMW8HQLgzJObtDAlArKqqqqqqCkCcITFvZ0gMQJCYtzMk5g1AhA8++OCDD0A8Q2LezpAQQLR+pUCtXxFALrrooosuEkCo9SsFav0SQCIxb2dIzBNAmmyyySabFEAUqPUrBWoVQI7jOI7jOBZACB988MEHF0CAWr9SoNYXQPyVArV+pRhAdNFFF110GUDsDIl5O0MaQGhIzNsZEhtA4IMPPvjgG0Bcv1Kg1q8cQNT6lQK1fh1ATDbZZJNNHkDIcRzHcRwfQECtXylQ6x9AXHTRRRddIEAaEvN2hsQgQNavFKj1KyFAlE022WSTIUBQ61cK1PohQAyJeTtDYiJAyiabbLLJIkCGxLydITEjQERi3s6QmCNAAAAAAAAAJEA=\",\"dtype\":\"float64\",\"order\":\"little\",\"shape\":[100]},\"y\":{\"__ndarray__\":\"uDUEwNcw1z/fe02bfZ3FP4COTa3X+W6/oHGK3EV4tj+J4BT9ZALUv9P1hUDxx9y/sNCBgyJD478lSRpQYsPjv7dg1yN3UOy/P0LHlhkm7b+snRTWmbbuv6BroqhFjPG/FTC5PALf7b85Qhrip8Xtv8owt0c0Zee/783xw0IT5r8jaIjbJePkv4zEtk1bItG/pGZzGdczx79RDldvCm6wv9yZi6VKtdA/Ymm6SAAa2T9RvRq6EiDlP+L+/M+Z6+o/FkXsdNS04z9/5bcPmc/tP+PbKrlcfe4/MA2SkGbv6z9OOFpBMBTwPxc20oTwhe8/eCtijLog5j+GX1bBFZziP7QTCcAG0Nc/Q4P7Oib61T+4OSDAOKqOvwI/51S8fNW/xqBoIxqN2r/WexyKzKbhvzbbZIbYkOm/s71rkHRH6L/iS0/+X4vrvyPtfq7G4O+/+H8poqaG8r/VUFQ1tYrwv1NqJyI2Keu/P9zFe1TL57/E6YjTKOrlv+CIOL0IVNu//pPLnwtNyr8PBirrA8y2vwW8+gO9jdE/TDS8qQ/D0T/dn66vRBfgP5IfEmng9+Y/N5NYjwJu5z+ybHcVo7XuPytaLfIvme8/fZTnpfFR8j82ox+EEU/wP6AjPfakuO8/bs/eBOT94z8n1jU8jEToP+WfFw2QUto/qt7sI9jb0z/HbRDdCLLgPyBRmuLv0Lu/Ss44omXwyr/M5D8XvpLfv9sb47ZgAN6/Qza71VqM5b+AVklo827rvyC5wTbjv+2/oCIcOdXy8r/XjPgWgNzwvyBGhceqxO2/ttrY41Um678LRJw4wefsv4k3waWQvuC/qSTvqBzS2L/M6Y/2v3PWv/uLow2EeMi/nQpt4MpVur868VHxmCXTPzVxcdGB/d8/rOHvAhfy5D8kWhTctsfpP1FgiTEL2+c//BjUtTsH7T8vKeFfFK/xP4zAOHMO2fA/PGblt9+B7j8cq7w7J5zrP6I7jWT5Ee8/X47+bin/5T92o1H8Vx3XP0BjdXpQCsk/WGY83eP1vr9pm54R6u3Vv5Exk2QOUdu/AFZAVt4x3b8=\",\"dtype\":\"float64\",\"order\":\"little\",\"shape\":[100]}},\"selected\":{\"id\":\"42895\"},\"selection_policy\":{\"id\":\"42894\"}},\"id\":\"42708\",\"type\":\"ColumnDataSource\"},{\"attributes\":{},\"id\":\"42890\",\"type\":\"BasicTickFormatter\"},{\"attributes\":{\"axis\":{\"id\":\"42720\"},\"ticker\":null},\"id\":\"42723\",\"type\":\"Grid\"},{\"attributes\":{},\"id\":\"42712\",\"type\":\"DataRange1d\"},{\"attributes\":{},\"id\":\"42729\",\"type\":\"WheelZoomTool\"},{\"attributes\":{},\"id\":\"42725\",\"type\":\"BasicTicker\"},{\"attributes\":{},\"id\":\"42894\",\"type\":\"UnionRenderers\"},{\"attributes\":{},\"id\":\"42891\",\"type\":\"AllLabels\"},{\"attributes\":{},\"id\":\"42728\",\"type\":\"PanTool\"},{\"attributes\":{},\"id\":\"42716\",\"type\":\"LinearScale\"},{\"attributes\":{},\"id\":\"42721\",\"type\":\"BasicTicker\"},{\"attributes\":{},\"id\":\"42733\",\"type\":\"HelpTool\"},{\"attributes\":{\"line_alpha\":0.1,\"line_color\":\"#1f77b4\",\"x\":{\"field\":\"x\"},\"y\":{\"field\":\"y\"}},\"id\":\"42744\",\"type\":\"Line\"}],\"root_ids\":[\"42709\"]},\"title\":\"Bokeh Application\",\"version\":\"2.3.1\"}};\n",
       "  var render_items = [{\"docid\":\"92412368-4d8d-41b2-ae78-28a724732207\",\"notebook_comms_target\":\"42897\",\"root_ids\":[\"42709\"],\"roots\":{\"42709\":\"2e59ac3c-f0ae-4d66-a06c-12877f202498\"}}];\n",
       "  root.Bokeh.embed.embed_items_notebook(docs_json, render_items);\n",
       "\n",
       "  }\n",
       "  if (root.Bokeh !== undefined) {\n",
       "    embed_document(root);\n",
       "  } else {\n",
       "    var attempts = 0;\n",
       "    var timer = setInterval(function(root) {\n",
       "      if (root.Bokeh !== undefined) {\n",
       "        clearInterval(timer);\n",
       "        embed_document(root);\n",
       "      } else {\n",
       "        attempts++;\n",
       "        if (attempts > 100) {\n",
       "          clearInterval(timer);\n",
       "          console.log(\"Bokeh: ERROR: Unable to run BokehJS code because BokehJS library is missing\");\n",
       "        }\n",
       "      }\n",
       "    }, 10, root)\n",
       "  }\n",
       "})(window);"
      ],
      "application/vnd.bokehjs_exec.v0+json": ""
     },
     "metadata": {
      "application/vnd.bokehjs_exec.v0+json": {
       "id": "42709"
      }
     },
     "output_type": "display_data"
    },
    {
     "data": {
      "application/vnd.jupyter.widget-view+json": {
       "model_id": "4cd36fb38150401a93702161f96dd993",
       "version_major": 2,
       "version_minor": 0
      },
      "text/plain": [
       "ToggleButton(value=False, description='Stop')"
      ]
     },
     "metadata": {},
     "output_type": "display_data"
    }
   ],
   "source": [
    "x = np.linspace(-10,10,100)\n",
    "def f(x):\n",
    "    return np.sin(x)+np.random.normal(size=len(x))*0.1\n",
    "\n",
    "source = ColumnDataSource()\n",
    "source.data = dict(x=x, y=f(x))\n",
    "\n",
    "p = figure(title=\"test\", plot_height=300, plot_width=500)\n",
    "l = p.line('x', 'y', source=source)\n",
    "target = show(p, notebook_handle=True)\n",
    "\n",
    "stop_button = widgets.ToggleButton(description='Stop')\n",
    "display(stop_button)\n",
    "\n",
    "while True:\n",
    "    ipython.kernel.do_one_iteration()\n",
    "    if stop_button.value:\n",
    "        break \n",
    "    l.data_source.data['y'] = f(x)\n",
    "    push_notebook(handle=target)\n",
    "    time.sleep(0.01)"
   ]
  },
  {
   "cell_type": "markdown",
   "metadata": {},
   "source": [
    "# Plot to fill output width\n",
    "\n",
    "Seems to be controlled by a parameter `sizing_mode`, which can be specified by a single plot or by a row/column/grid container? \n",
    "\n",
    "https://docs.bokeh.org/en/latest/docs/reference/layouts.html\n"
   ]
  },
  {
   "cell_type": "code",
   "execution_count": 23,
   "metadata": {},
   "outputs": [
    {
     "data": {
      "text/html": [
       "\n",
       "\n",
       "\n",
       "\n",
       "\n",
       "\n",
       "  <div class=\"bk-root\" id=\"8cd38856-8a20-494a-ae85-c2be88c58197\" data-root-id=\"49411\"></div>\n"
      ]
     },
     "metadata": {},
     "output_type": "display_data"
    },
    {
     "data": {
      "application/javascript": [
       "(function(root) {\n",
       "  function embed_document(root) {\n",
       "    \n",
       "  var docs_json = {\"1635a64e-dd9c-4a4b-a053-524b438521b1\":{\"defs\":[],\"roots\":{\"references\":[{\"attributes\":{\"below\":[{\"id\":\"49422\"}],\"center\":[{\"id\":\"49425\"},{\"id\":\"49429\"}],\"height\":300,\"left\":[{\"id\":\"49426\"}],\"renderers\":[{\"id\":\"49447\"}],\"title\":{\"id\":\"49412\"},\"toolbar\":{\"id\":\"49437\"},\"x_range\":{\"id\":\"49414\"},\"x_scale\":{\"id\":\"49418\"},\"y_range\":{\"id\":\"49416\"},\"y_scale\":{\"id\":\"49420\"}},\"id\":\"49411\",\"subtype\":\"Figure\",\"type\":\"Plot\"},{\"attributes\":{},\"id\":\"49420\",\"type\":\"LinearScale\"},{\"attributes\":{},\"id\":\"49630\",\"type\":\"AllLabels\"},{\"attributes\":{},\"id\":\"49423\",\"type\":\"BasicTicker\"},{\"attributes\":{\"active_multi\":null,\"tools\":[{\"id\":\"49430\"},{\"id\":\"49431\"},{\"id\":\"49432\"},{\"id\":\"49433\"},{\"id\":\"49434\"},{\"id\":\"49435\"}]},\"id\":\"49437\",\"type\":\"Toolbar\"},{\"attributes\":{},\"id\":\"49435\",\"type\":\"HelpTool\"},{\"attributes\":{},\"id\":\"49414\",\"type\":\"DataRange1d\"},{\"attributes\":{\"text\":\"test\"},\"id\":\"49412\",\"type\":\"Title\"},{\"attributes\":{},\"id\":\"49430\",\"type\":\"PanTool\"},{\"attributes\":{},\"id\":\"49433\",\"type\":\"SaveTool\"},{\"attributes\":{},\"id\":\"49637\",\"type\":\"Selection\"},{\"attributes\":{\"axis\":{\"id\":\"49426\"},\"dimension\":1,\"ticker\":null},\"id\":\"49429\",\"type\":\"Grid\"},{\"attributes\":{\"formatter\":{\"id\":\"49632\"},\"major_label_policy\":{\"id\":\"49630\"},\"ticker\":{\"id\":\"49427\"}},\"id\":\"49426\",\"type\":\"LinearAxis\"},{\"attributes\":{\"line_alpha\":0.1,\"line_color\":\"#1f77b4\",\"x\":{\"field\":\"x\"},\"y\":{\"field\":\"y\"}},\"id\":\"49446\",\"type\":\"Line\"},{\"attributes\":{},\"id\":\"49427\",\"type\":\"BasicTicker\"},{\"attributes\":{},\"id\":\"49418\",\"type\":\"LinearScale\"},{\"attributes\":{\"formatter\":{\"id\":\"49635\"},\"major_label_policy\":{\"id\":\"49633\"},\"ticker\":{\"id\":\"49423\"}},\"id\":\"49422\",\"type\":\"LinearAxis\"},{\"attributes\":{\"axis\":{\"id\":\"49422\"},\"ticker\":null},\"id\":\"49425\",\"type\":\"Grid\"},{\"attributes\":{},\"id\":\"49635\",\"type\":\"BasicTickFormatter\"},{\"attributes\":{\"source\":{\"id\":\"49410\"}},\"id\":\"49448\",\"type\":\"CDSView\"},{\"attributes\":{\"line_color\":\"#1f77b4\",\"x\":{\"field\":\"x\"},\"y\":{\"field\":\"y\"}},\"id\":\"49445\",\"type\":\"Line\"},{\"attributes\":{\"overlay\":{\"id\":\"49436\"}},\"id\":\"49432\",\"type\":\"BoxZoomTool\"},{\"attributes\":{\"data\":{\"x\":{\"__ndarray__\":\"AAAAAAAAJMBDYt7OkJgjwIbEvJ0hMSPAyiabbLLJIsANiXk7Q2IiwFDrVwrU+iHAk0022WSTIcDXrxSo9SshwBoS83aGxCDAXXTRRRddIMBArV8pUOsfwMdxHMdxHB/ATjbZZJNNHsDU+pUCtX4dwFq/UqDWrxzA4YMPPvjgG8BoSMzbGRIbwO4MiXk7QxrAdNFFF110GcD7lQK1fqUYwIFav1Kg1hfACB988MEHF8CO4ziO4zgWwBWo9SsFahXAm2yyySabFMAiMW9nSMwTwKj1KwVq/RLAL7rooosuEsC1fqVArV8RwDxDYt7OkBDAhA8++OCDD8CSmLczJOYNwJ4hMW9nSAzAqqqqqqqqCsC4MyTm7QwJwMS8nSExbwfA0kUXXXTRBcDezpCYtzMEwOxXCtT6lQLA+OCDDz74AMAI1PqVArX+vyjm7QyJefu/QPjggw8++L9YCtT6lQL1v3Acx3Ecx/G/IF100UUX7b9QgVq/UqDmv4ClQK1fKeC/YJNNNtlk078Ab2dIzNu5vwBvZ0jM27k/YJNNNtlk0z+ApUCtXyngP1CBWr9SoOY/EF100UUX7T9wHMdxHMfxP1gK1PqVAvU/QPjggw8++D8g5u0MiXn7PwjU+pUCtf4/+OCDDz74AEDsVwrU+pUCQNzOkJi3MwRA0EUXXXTRBUDEvJ0hMW8HQLgzJObtDAlArKqqqqqqCkCcITFvZ0gMQJCYtzMk5g1AhA8++OCDD0A8Q2LezpAQQLR+pUCtXxFALrrooosuEkCo9SsFav0SQCIxb2dIzBNAmmyyySabFEAUqPUrBWoVQI7jOI7jOBZACB988MEHF0CAWr9SoNYXQPyVArV+pRhAdNFFF110GUDsDIl5O0MaQGhIzNsZEhtA4IMPPvjgG0Bcv1Kg1q8cQNT6lQK1fh1ATDbZZJNNHkDIcRzHcRwfQECtXylQ6x9AXHTRRRddIEAaEvN2hsQgQNavFKj1KyFAlE022WSTIUBQ61cK1PohQAyJeTtDYiJAyiabbLLJIkCGxLydITEjQERi3s6QmCNAAAAAAAAAJEA=\",\"dtype\":\"float64\",\"order\":\"little\",\"shape\":[100]},\"y\":{\"__ndarray__\":\"xcyHuTkt4z8A7J3k62zaP21uHcPj3Mg/eLpMUz0PYj/aSZqtv7jWv1VGWat3eNi/hQWJJriv57+JL+BgSyvmv820EW104+q/zIDNwPHi679LaSS5eqjwvwB2KJlEhvC/ksBQvUeY8L8f0j7EeI7qvzBI1ukIw+i/RsKhMCCo6L+MVHp2lIbgvyizqBrlucu/8uFhiHEfpD+GLL6iiKu4P4oGjPotXdA/5xfs/NfX4T/QFigqV+bgP65pALe67+k/rase3xIr8D/rE8OffdjuP0QtlOUOse4/4mMVbbbe8D9dUTd9eyLxP8QafyjFKu4/xrBuwHq46j8ZmBweG3TgP0x1BBzBc+A/c6qwqopUzT99XWw6K0jAP77zM/p1Q72/0EqDPiD6178PyBkAL3Xkv53OiYA9lem/YoAIGgr567+nKRwnKFnvv9FMeAhpO/K/sZhh7tcK779fz1rYOGzqv4wKUwGMfO6/GGPOTH5b5r/+CL6f+wPkvzfr2CkWIOC/qPdxFNTu3L/IPq4WxDHDv/D6ReNZU3I/zBObpYZk0T+ZW3HtjQLZP2tGFAou/eI/C1sXr96s5z+dwlbbKLbqP9BL9dWdJPE/a6VdFz5z8T/gciHekWvwPxrwTa+sye4/IDY1J1FB5z+E8QrwfqXlP5gwW+LRkuM/Bz6jIZhC1j+4pAPiW9a2P2tpjpWPIIo/9ANEiYPnv78znRm4Ynrav+YKThufcuK/4eiZIZUa6L+02ua5M73qv2Om1ePFH+6/nAIRozW367+oc+Hn6LXvvxQfI0qwIPG/PqOhhpzL6b+w9uv/Y5/svwpzDNc8zOC/Wql90Myq4r8O63vSQp/bv8uPDWbDOLe/8IMuyzIlpT/KA2Wm17zFP425pYcWKeM/lJbfSTMN5j/B/M+RvpXqP2tpdbnGxeU/WOYEyJ8n7z+42YpvAADxPyCl3tOAWu8/WrFEMafW7z+OeKt5lCbqP90dag3gI+Y/AOVnhMD74D/x6u6qocTaP7RmS+jHdtc/QIYdecYVrb+dv4UFoBq0v9vYeNCQkNG/EKwl6gRq3b8=\",\"dtype\":\"float64\",\"order\":\"little\",\"shape\":[100]}},\"selected\":{\"id\":\"49637\"},\"selection_policy\":{\"id\":\"49636\"}},\"id\":\"49410\",\"type\":\"ColumnDataSource\"},{\"attributes\":{},\"id\":\"49636\",\"type\":\"UnionRenderers\"},{\"attributes\":{\"data_source\":{\"id\":\"49410\"},\"glyph\":{\"id\":\"49445\"},\"hover_glyph\":null,\"muted_glyph\":null,\"nonselection_glyph\":{\"id\":\"49446\"},\"view\":{\"id\":\"49448\"}},\"id\":\"49447\",\"type\":\"GlyphRenderer\"},{\"attributes\":{},\"id\":\"49431\",\"type\":\"WheelZoomTool\"},{\"attributes\":{},\"id\":\"49434\",\"type\":\"ResetTool\"},{\"attributes\":{},\"id\":\"49632\",\"type\":\"BasicTickFormatter\"},{\"attributes\":{},\"id\":\"49633\",\"type\":\"AllLabels\"},{\"attributes\":{\"bottom_units\":\"screen\",\"fill_alpha\":0.5,\"fill_color\":\"lightgrey\",\"left_units\":\"screen\",\"level\":\"overlay\",\"line_alpha\":1.0,\"line_color\":\"black\",\"line_dash\":[4,4],\"line_width\":2,\"right_units\":\"screen\",\"syncable\":false,\"top_units\":\"screen\"},\"id\":\"49436\",\"type\":\"BoxAnnotation\"},{\"attributes\":{},\"id\":\"49416\",\"type\":\"DataRange1d\"}],\"root_ids\":[\"49411\"]},\"title\":\"Bokeh Application\",\"version\":\"2.3.1\"}};\n",
       "  var render_items = [{\"docid\":\"1635a64e-dd9c-4a4b-a053-524b438521b1\",\"notebook_comms_target\":\"49639\",\"root_ids\":[\"49411\"],\"roots\":{\"49411\":\"8cd38856-8a20-494a-ae85-c2be88c58197\"}}];\n",
       "  root.Bokeh.embed.embed_items_notebook(docs_json, render_items);\n",
       "\n",
       "  }\n",
       "  if (root.Bokeh !== undefined) {\n",
       "    embed_document(root);\n",
       "  } else {\n",
       "    var attempts = 0;\n",
       "    var timer = setInterval(function(root) {\n",
       "      if (root.Bokeh !== undefined) {\n",
       "        clearInterval(timer);\n",
       "        embed_document(root);\n",
       "      } else {\n",
       "        attempts++;\n",
       "        if (attempts > 100) {\n",
       "          clearInterval(timer);\n",
       "          console.log(\"Bokeh: ERROR: Unable to run BokehJS code because BokehJS library is missing\");\n",
       "        }\n",
       "      }\n",
       "    }, 10, root)\n",
       "  }\n",
       "})(window);"
      ],
      "application/vnd.bokehjs_exec.v0+json": ""
     },
     "metadata": {
      "application/vnd.bokehjs_exec.v0+json": {
       "id": "49411"
      }
     },
     "output_type": "display_data"
    },
    {
     "data": {
      "application/vnd.jupyter.widget-view+json": {
       "model_id": "a2911d96f54945df97669f07207cd845",
       "version_major": 2,
       "version_minor": 0
      },
      "text/plain": [
       "ToggleButton(value=False, description='Stop')"
      ]
     },
     "metadata": {},
     "output_type": "display_data"
    }
   ],
   "source": [
    "x = np.linspace(-10,10,100)\n",
    "def f(x):\n",
    "    return np.sin(x)+np.random.normal(size=len(x))*0.1\n",
    "\n",
    "source = ColumnDataSource()\n",
    "source.data = dict(x=x, y=f(x))\n",
    "\n",
    "p = figure(title=\"test\", height=300, width=600)\n",
    "l = p.line('x', 'y', source=source)\n",
    "target = show(p, notebook_handle=True)\n",
    "\n",
    "# This one make sense, it is not so 100% clear what the height should be\n",
    "# in an output cell...?\n",
    "p.sizing_mode = \"stretch_width\"\n",
    "\n",
    "# This is also a good option\n",
    "p.sizing_mode = \"scale_width\"\n",
    "\n",
    "stop_button = widgets.ToggleButton(description='Stop')\n",
    "display(stop_button)\n",
    "\n",
    "while True:\n",
    "    ipython.kernel.do_one_iteration()\n",
    "    if stop_button.value:\n",
    "        break \n",
    "    l.data_source.data['y'] = f(x)\n",
    "    push_notebook(handle=target)\n",
    "    time.sleep(0.01)"
   ]
  },
  {
   "cell_type": "markdown",
   "metadata": {},
   "source": [
    "# Now with columns"
   ]
  },
  {
   "cell_type": "code",
   "execution_count": 31,
   "metadata": {},
   "outputs": [
    {
     "data": {
      "text/html": [
       "\n",
       "\n",
       "\n",
       "\n",
       "\n",
       "\n",
       "  <div class=\"bk-root\" id=\"6527ab2e-466c-4432-afd6-f767bcb7c565\" data-root-id=\"60140\"></div>\n"
      ]
     },
     "metadata": {},
     "output_type": "display_data"
    },
    {
     "data": {
      "application/javascript": [
       "(function(root) {\n",
       "  function embed_document(root) {\n",
       "    \n",
       "  var docs_json = {\"2ad84c9a-ab44-49b7-83c3-cb655ec6d243\":{\"defs\":[],\"roots\":{\"references\":[{\"attributes\":{\"children\":[{\"id\":\"60064\"},{\"id\":\"60102\"}],\"sizing_mode\":\"scale_width\"},\"id\":\"60140\",\"type\":\"Row\"},{\"attributes\":{\"active_multi\":null,\"tools\":[{\"id\":\"60121\"},{\"id\":\"60122\"},{\"id\":\"60123\"},{\"id\":\"60124\"},{\"id\":\"60125\"},{\"id\":\"60126\"}]},\"id\":\"60128\",\"type\":\"Toolbar\"},{\"attributes\":{},\"id\":\"60415\",\"type\":\"AllLabels\"},{\"attributes\":{},\"id\":\"60423\",\"type\":\"BasicTickFormatter\"},{\"attributes\":{},\"id\":\"60083\",\"type\":\"PanTool\"},{\"attributes\":{},\"id\":\"60124\",\"type\":\"SaveTool\"},{\"attributes\":{},\"id\":\"60427\",\"type\":\"UnionRenderers\"},{\"attributes\":{\"text\":\"test\"},\"id\":\"60065\",\"type\":\"Title\"},{\"attributes\":{},\"id\":\"60107\",\"type\":\"DataRange1d\"},{\"attributes\":{\"line_alpha\":0.1,\"line_color\":\"#1f77b4\",\"x\":{\"field\":\"x\"},\"y\":{\"field\":\"y\"}},\"id\":\"60137\",\"type\":\"Line\"},{\"attributes\":{},\"id\":\"60426\",\"type\":\"BasicTickFormatter\"},{\"attributes\":{\"line_alpha\":0.1,\"line_color\":\"#1f77b4\",\"x\":{\"field\":\"x\"},\"y\":{\"field\":\"y\"}},\"id\":\"60099\",\"type\":\"Line\"},{\"attributes\":{},\"id\":\"60076\",\"type\":\"BasicTicker\"},{\"attributes\":{\"data\":{\"x\":{\"__ndarray__\":\"AAAAAAAAJMBDYt7OkJgjwIbEvJ0hMSPAyiabbLLJIsANiXk7Q2IiwFDrVwrU+iHAk0022WSTIcDXrxSo9SshwBoS83aGxCDAXXTRRRddIMBArV8pUOsfwMdxHMdxHB/ATjbZZJNNHsDU+pUCtX4dwFq/UqDWrxzA4YMPPvjgG8BoSMzbGRIbwO4MiXk7QxrAdNFFF110GcD7lQK1fqUYwIFav1Kg1hfACB988MEHF8CO4ziO4zgWwBWo9SsFahXAm2yyySabFMAiMW9nSMwTwKj1KwVq/RLAL7rooosuEsC1fqVArV8RwDxDYt7OkBDAhA8++OCDD8CSmLczJOYNwJ4hMW9nSAzAqqqqqqqqCsC4MyTm7QwJwMS8nSExbwfA0kUXXXTRBcDezpCYtzMEwOxXCtT6lQLA+OCDDz74AMAI1PqVArX+vyjm7QyJefu/QPjggw8++L9YCtT6lQL1v3Acx3Ecx/G/IF100UUX7b9QgVq/UqDmv4ClQK1fKeC/YJNNNtlk078Ab2dIzNu5vwBvZ0jM27k/YJNNNtlk0z+ApUCtXyngP1CBWr9SoOY/EF100UUX7T9wHMdxHMfxP1gK1PqVAvU/QPjggw8++D8g5u0MiXn7PwjU+pUCtf4/+OCDDz74AEDsVwrU+pUCQNzOkJi3MwRA0EUXXXTRBUDEvJ0hMW8HQLgzJObtDAlArKqqqqqqCkCcITFvZ0gMQJCYtzMk5g1AhA8++OCDD0A8Q2LezpAQQLR+pUCtXxFALrrooosuEkCo9SsFav0SQCIxb2dIzBNAmmyyySabFEAUqPUrBWoVQI7jOI7jOBZACB988MEHF0CAWr9SoNYXQPyVArV+pRhAdNFFF110GUDsDIl5O0MaQGhIzNsZEhtA4IMPPvjgG0Bcv1Kg1q8cQNT6lQK1fh1ATDbZZJNNHkDIcRzHcRwfQECtXylQ6x9AXHTRRRddIEAaEvN2hsQgQNavFKj1KyFAlE022WSTIUBQ61cK1PohQAyJeTtDYiJAyiabbLLJIkCGxLydITEjQERi3s6QmCNAAAAAAAAAJEA=\",\"dtype\":\"float64\",\"order\":\"little\",\"shape\":[100]},\"y\":{\"__ndarray__\":\"6n0rgrzi4T9vU28+HqfaP/qe4FP+zb4/V6DApHY8tL8g6J1RDaqzv/jeVLnNSNq/ymmS/7Xx5r/syzH7T2nov5NsfBkW1u6/j0rFTMmJ77+cNtsq4qfwv+edO9q5K/G/IfiUY6Ug8b+MnclbsBnqv8U8b4H/6+S/HvLs6k+o5L9dD8GyhGTbv+K6ZhicKtq/pqN2yZSoxb9SE4vPYyyhPwMzvEBpE88/aSOuF5l42z8Wk7zyP0vnP+RNEhoScOc/Xoyi79lR6T9vRwCc3TbvPyuaLfP9IfA/hOjyBuxZ6z8kSUGY+BnwP9CilzHS1eg/EBHw7cLN4j8iILrTZKzgP6jRotSXL9o/byIDmlz4yD/W9r0m7d2UP4kY+R0GBsm/tuCSQ8MN3b/1bhX9KEHkv9XMvELn6+e/Fj9+NdxC8b9kkI6ZfVTsv5up5QJPx+q/N324JQyh8L9NKuiepEfrv9yP6e0kE+W/XtmQYHm957+Oz1Df4iLov3RTb5csdOS/Cing1HiY0b+oMy3qc8SdvxBe3U+ZoMM/woyYON/x0z9HhMglUAzfP+Ku5TUFFeA/JBAWhimj6j8QzT+M7YfuP2qSmEc1luw/diYefM6r8T98wCZutLPyPydRSmA31PA/TsEsIPQ88D8LhC/cdyXsP3AKqJ7urec/wwe3x0L53D/X6XgJLfLIP5KfdZdFP6i/YLnJ4vjI1r+vjuf+ci3Rv51VWHHk99+/IhOyWBPl579IkfeycnHtv8GftGzIkPG/uSK+eElL7r8YrKvxKk7yv8KR3FsPnvC/g33JHBw07b834tH/eabrvzA0WvZIgOK/lNCWqxIF5r8VHhepGpnbv7moyExqucC/vkP+TtVnyD+hQF3K1GzWPzT1E7oxLNk/QRC7i8nz6D9md6bbcMjoPxpJyhRd7Oc/vp6X3Bd27T+CZ7Vg/G7vP5bKey9BF+8/QvaFCJEv7D/002d3i8zsP4inW1CXBOY/PyQlYe3b4j88vxryTK7bP5sLcd98ptQ/Q9FcY+blxT+hdAqsBJrSv0qhZFeYfNO/Znh7YboI4r8=\",\"dtype\":\"float64\",\"order\":\"little\",\"shape\":[100]}},\"selected\":{\"id\":\"60428\"},\"selection_policy\":{\"id\":\"60427\"}},\"id\":\"60063\",\"type\":\"ColumnDataSource\"},{\"attributes\":{\"line_color\":\"#1f77b4\",\"x\":{\"field\":\"x\"},\"y\":{\"field\":\"y\"}},\"id\":\"60136\",\"type\":\"Line\"},{\"attributes\":{\"axis\":{\"id\":\"60075\"},\"ticker\":null},\"id\":\"60078\",\"type\":\"Grid\"},{\"attributes\":{\"axis\":{\"id\":\"60079\"},\"dimension\":1,\"ticker\":null},\"id\":\"60082\",\"type\":\"Grid\"},{\"attributes\":{\"overlay\":{\"id\":\"60089\"}},\"id\":\"60085\",\"type\":\"BoxZoomTool\"},{\"attributes\":{},\"id\":\"60121\",\"type\":\"PanTool\"},{\"attributes\":{\"active_multi\":null,\"tools\":[{\"id\":\"60083\"},{\"id\":\"60084\"},{\"id\":\"60085\"},{\"id\":\"60086\"},{\"id\":\"60087\"},{\"id\":\"60088\"}]},\"id\":\"60090\",\"type\":\"Toolbar\"},{\"attributes\":{\"formatter\":{\"id\":\"60426\"},\"major_label_policy\":{\"id\":\"60424\"},\"ticker\":{\"id\":\"60114\"}},\"id\":\"60113\",\"type\":\"LinearAxis\"},{\"attributes\":{},\"id\":\"60088\",\"type\":\"HelpTool\"},{\"attributes\":{},\"id\":\"60067\",\"type\":\"DataRange1d\"},{\"attributes\":{},\"id\":\"60109\",\"type\":\"LinearScale\"},{\"attributes\":{},\"id\":\"60071\",\"type\":\"LinearScale\"},{\"attributes\":{},\"id\":\"60073\",\"type\":\"LinearScale\"},{\"attributes\":{\"bottom_units\":\"screen\",\"fill_alpha\":0.5,\"fill_color\":\"lightgrey\",\"left_units\":\"screen\",\"level\":\"overlay\",\"line_alpha\":1.0,\"line_color\":\"black\",\"line_dash\":[4,4],\"line_width\":2,\"right_units\":\"screen\",\"syncable\":false,\"top_units\":\"screen\"},\"id\":\"60089\",\"type\":\"BoxAnnotation\"},{\"attributes\":{},\"id\":\"60105\",\"type\":\"DataRange1d\"},{\"attributes\":{},\"id\":\"60118\",\"type\":\"BasicTicker\"},{\"attributes\":{\"below\":[{\"id\":\"60075\"}],\"center\":[{\"id\":\"60078\"},{\"id\":\"60082\"}],\"height\":300,\"left\":[{\"id\":\"60079\"}],\"renderers\":[{\"id\":\"60100\"}],\"sizing_mode\":\"scale_width\",\"title\":{\"id\":\"60065\"},\"toolbar\":{\"id\":\"60090\"},\"x_range\":{\"id\":\"60067\"},\"x_scale\":{\"id\":\"60071\"},\"y_range\":{\"id\":\"60069\"},\"y_scale\":{\"id\":\"60073\"}},\"id\":\"60064\",\"subtype\":\"Figure\",\"type\":\"Plot\"},{\"attributes\":{\"source\":{\"id\":\"60063\"}},\"id\":\"60139\",\"type\":\"CDSView\"},{\"attributes\":{},\"id\":\"60111\",\"type\":\"LinearScale\"},{\"attributes\":{\"below\":[{\"id\":\"60113\"}],\"center\":[{\"id\":\"60116\"},{\"id\":\"60120\"}],\"height\":300,\"left\":[{\"id\":\"60117\"}],\"renderers\":[{\"id\":\"60138\"}],\"sizing_mode\":\"scale_width\",\"title\":{\"id\":\"60103\"},\"toolbar\":{\"id\":\"60128\"},\"x_range\":{\"id\":\"60105\"},\"x_scale\":{\"id\":\"60109\"},\"y_range\":{\"id\":\"60107\"},\"y_scale\":{\"id\":\"60111\"}},\"id\":\"60102\",\"subtype\":\"Figure\",\"type\":\"Plot\"},{\"attributes\":{\"formatter\":{\"id\":\"60423\"},\"major_label_policy\":{\"id\":\"60421\"},\"ticker\":{\"id\":\"60118\"}},\"id\":\"60117\",\"type\":\"LinearAxis\"},{\"attributes\":{},\"id\":\"60428\",\"type\":\"Selection\"},{\"attributes\":{\"formatter\":{\"id\":\"60417\"},\"major_label_policy\":{\"id\":\"60415\"},\"ticker\":{\"id\":\"60080\"}},\"id\":\"60079\",\"type\":\"LinearAxis\"},{\"attributes\":{\"line_color\":\"#1f77b4\",\"x\":{\"field\":\"x\"},\"y\":{\"field\":\"y\"}},\"id\":\"60098\",\"type\":\"Line\"},{\"attributes\":{\"bottom_units\":\"screen\",\"fill_alpha\":0.5,\"fill_color\":\"lightgrey\",\"left_units\":\"screen\",\"level\":\"overlay\",\"line_alpha\":1.0,\"line_color\":\"black\",\"line_dash\":[4,4],\"line_width\":2,\"right_units\":\"screen\",\"syncable\":false,\"top_units\":\"screen\"},\"id\":\"60127\",\"type\":\"BoxAnnotation\"},{\"attributes\":{\"data_source\":{\"id\":\"60063\"},\"glyph\":{\"id\":\"60136\"},\"hover_glyph\":null,\"muted_glyph\":null,\"nonselection_glyph\":{\"id\":\"60137\"},\"view\":{\"id\":\"60139\"}},\"id\":\"60138\",\"type\":\"GlyphRenderer\"},{\"attributes\":{},\"id\":\"60126\",\"type\":\"HelpTool\"},{\"attributes\":{\"axis\":{\"id\":\"60113\"},\"ticker\":null},\"id\":\"60116\",\"type\":\"Grid\"},{\"attributes\":{},\"id\":\"60080\",\"type\":\"BasicTicker\"},{\"attributes\":{},\"id\":\"60420\",\"type\":\"BasicTickFormatter\"},{\"attributes\":{},\"id\":\"60424\",\"type\":\"AllLabels\"},{\"attributes\":{\"formatter\":{\"id\":\"60420\"},\"major_label_policy\":{\"id\":\"60418\"},\"ticker\":{\"id\":\"60076\"}},\"id\":\"60075\",\"type\":\"LinearAxis\"},{\"attributes\":{},\"id\":\"60122\",\"type\":\"WheelZoomTool\"},{\"attributes\":{},\"id\":\"60114\",\"type\":\"BasicTicker\"},{\"attributes\":{},\"id\":\"60087\",\"type\":\"ResetTool\"},{\"attributes\":{},\"id\":\"60418\",\"type\":\"AllLabels\"},{\"attributes\":{},\"id\":\"60417\",\"type\":\"BasicTickFormatter\"},{\"attributes\":{},\"id\":\"60084\",\"type\":\"WheelZoomTool\"},{\"attributes\":{},\"id\":\"60086\",\"type\":\"SaveTool\"},{\"attributes\":{},\"id\":\"60069\",\"type\":\"DataRange1d\"},{\"attributes\":{\"source\":{\"id\":\"60063\"}},\"id\":\"60101\",\"type\":\"CDSView\"},{\"attributes\":{},\"id\":\"60421\",\"type\":\"AllLabels\"},{\"attributes\":{\"overlay\":{\"id\":\"60127\"}},\"id\":\"60123\",\"type\":\"BoxZoomTool\"},{\"attributes\":{\"data_source\":{\"id\":\"60063\"},\"glyph\":{\"id\":\"60098\"},\"hover_glyph\":null,\"muted_glyph\":null,\"nonselection_glyph\":{\"id\":\"60099\"},\"view\":{\"id\":\"60101\"}},\"id\":\"60100\",\"type\":\"GlyphRenderer\"},{\"attributes\":{},\"id\":\"60125\",\"type\":\"ResetTool\"},{\"attributes\":{\"axis\":{\"id\":\"60117\"},\"dimension\":1,\"ticker\":null},\"id\":\"60120\",\"type\":\"Grid\"},{\"attributes\":{\"text\":\"test\"},\"id\":\"60103\",\"type\":\"Title\"}],\"root_ids\":[\"60140\"]},\"title\":\"Bokeh Application\",\"version\":\"2.3.1\"}};\n",
       "  var render_items = [{\"docid\":\"2ad84c9a-ab44-49b7-83c3-cb655ec6d243\",\"notebook_comms_target\":\"60431\",\"root_ids\":[\"60140\"],\"roots\":{\"60140\":\"6527ab2e-466c-4432-afd6-f767bcb7c565\"}}];\n",
       "  root.Bokeh.embed.embed_items_notebook(docs_json, render_items);\n",
       "\n",
       "  }\n",
       "  if (root.Bokeh !== undefined) {\n",
       "    embed_document(root);\n",
       "  } else {\n",
       "    var attempts = 0;\n",
       "    var timer = setInterval(function(root) {\n",
       "      if (root.Bokeh !== undefined) {\n",
       "        clearInterval(timer);\n",
       "        embed_document(root);\n",
       "      } else {\n",
       "        attempts++;\n",
       "        if (attempts > 100) {\n",
       "          clearInterval(timer);\n",
       "          console.log(\"Bokeh: ERROR: Unable to run BokehJS code because BokehJS library is missing\");\n",
       "        }\n",
       "      }\n",
       "    }, 10, root)\n",
       "  }\n",
       "})(window);"
      ],
      "application/vnd.bokehjs_exec.v0+json": ""
     },
     "metadata": {
      "application/vnd.bokehjs_exec.v0+json": {
       "id": "60140"
      }
     },
     "output_type": "display_data"
    },
    {
     "data": {
      "application/vnd.jupyter.widget-view+json": {
       "model_id": "99f99a9fed7e46feb0a605cd23923764",
       "version_major": 2,
       "version_minor": 0
      },
      "text/plain": [
       "ToggleButton(value=False, description='Stop')"
      ]
     },
     "metadata": {},
     "output_type": "display_data"
    }
   ],
   "source": [
    "x = np.linspace(-10,10,100)\n",
    "def f(x):\n",
    "    return np.sin(x)+np.random.normal(size=len(x))*0.1\n",
    "\n",
    "source = ColumnDataSource()\n",
    "source.data = dict(x=x, y=f(x))\n",
    "\n",
    "p = figure(title=\"test\", height=300, width=600)\n",
    "l = p.line('x', 'y', source=source)\n",
    "p2 = figure(title=\"test\", height=300, width=600)\n",
    "l2 = p2.line('x', 'y', source=source)\n",
    "\n",
    "r = row(p,p2)\n",
    "for w in p, p2, r:\n",
    "    w.sizing_mode = \"scale_width\"\n",
    "target = show(r, notebook_handle=True)\n",
    "\n",
    "stop_button = widgets.ToggleButton(description='Stop')\n",
    "display(stop_button)\n",
    "\n",
    "while True:\n",
    "    ipython.kernel.do_one_iteration()\n",
    "    if stop_button.value:\n",
    "        break \n",
    "    l.data_source.data['y'] = f(x)\n",
    "    push_notebook(handle=target)\n",
    "    time.sleep(0.01)"
   ]
  },
  {
   "cell_type": "markdown",
   "metadata": {},
   "source": [
    "# Now two columns and two rows"
   ]
  },
  {
   "cell_type": "code",
   "execution_count": 41,
   "metadata": {},
   "outputs": [
    {
     "data": {
      "text/html": [
       "\n",
       "\n",
       "\n",
       "\n",
       "\n",
       "\n",
       "  <div class=\"bk-root\" id=\"3fde96e6-3884-476c-bc45-ff3808c045f8\" data-root-id=\"79498\"></div>\n"
      ]
     },
     "metadata": {},
     "output_type": "display_data"
    },
    {
     "data": {
      "application/javascript": [
       "(function(root) {\n",
       "  function embed_document(root) {\n",
       "    \n",
       "  var docs_json = {\"f7aff910-fc33-4771-ad8e-171d55b45430\":{\"defs\":[],\"roots\":{\"references\":[{\"attributes\":{\"children\":[{\"id\":\"79497\"},{\"id\":\"79459\"}],\"sizing_mode\":\"stretch_width\"},\"id\":\"79498\",\"type\":\"Column\"},{\"attributes\":{},\"id\":\"80029\",\"type\":\"BasicTickFormatter\"},{\"attributes\":{},\"id\":\"80027\",\"type\":\"AllLabels\"},{\"attributes\":{},\"id\":\"79428\",\"type\":\"LinearScale\"},{\"attributes\":{},\"id\":\"80037\",\"type\":\"Selection\"},{\"attributes\":{},\"id\":\"79406\",\"type\":\"ResetTool\"},{\"attributes\":{},\"id\":\"79464\",\"type\":\"DataRange1d\"},{\"attributes\":{\"axis\":{\"id\":\"79432\"},\"ticker\":null},\"id\":\"79435\",\"type\":\"Grid\"},{\"attributes\":{\"data_source\":{\"id\":\"79382\"},\"glyph\":{\"id\":\"79417\"},\"hover_glyph\":null,\"muted_glyph\":null,\"nonselection_glyph\":{\"id\":\"79418\"},\"view\":{\"id\":\"79420\"}},\"id\":\"79419\",\"type\":\"GlyphRenderer\"},{\"attributes\":{\"text\":\"test\"},\"id\":\"79460\",\"type\":\"Title\"},{\"attributes\":{},\"id\":\"79426\",\"type\":\"DataRange1d\"},{\"attributes\":{},\"id\":\"80023\",\"type\":\"BasicTickFormatter\"},{\"attributes\":{},\"id\":\"79403\",\"type\":\"WheelZoomTool\"},{\"attributes\":{},\"id\":\"79462\",\"type\":\"DataRange1d\"},{\"attributes\":{},\"id\":\"80024\",\"type\":\"AllLabels\"},{\"attributes\":{},\"id\":\"79402\",\"type\":\"PanTool\"},{\"attributes\":{},\"id\":\"79471\",\"type\":\"BasicTicker\"},{\"attributes\":{\"data_source\":{\"id\":\"79382\"},\"glyph\":{\"id\":\"79493\"},\"hover_glyph\":null,\"muted_glyph\":null,\"nonselection_glyph\":{\"id\":\"79494\"},\"view\":{\"id\":\"79496\"}},\"id\":\"79495\",\"type\":\"GlyphRenderer\"},{\"attributes\":{\"formatter\":{\"id\":\"80032\"},\"major_label_policy\":{\"id\":\"80030\"},\"ticker\":{\"id\":\"79437\"}},\"id\":\"79436\",\"type\":\"LinearAxis\"},{\"attributes\":{\"axis\":{\"id\":\"79470\"},\"ticker\":null},\"id\":\"79473\",\"type\":\"Grid\"},{\"attributes\":{},\"id\":\"80030\",\"type\":\"AllLabels\"},{\"attributes\":{\"line_color\":\"#1f77b4\",\"x\":{\"field\":\"x\"},\"y\":{\"field\":\"y\"}},\"id\":\"79493\",\"type\":\"Line\"},{\"attributes\":{},\"id\":\"80035\",\"type\":\"BasicTickFormatter\"},{\"attributes\":{},\"id\":\"79407\",\"type\":\"HelpTool\"},{\"attributes\":{\"bottom_units\":\"screen\",\"fill_alpha\":0.5,\"fill_color\":\"lightgrey\",\"left_units\":\"screen\",\"level\":\"overlay\",\"line_alpha\":1.0,\"line_color\":\"black\",\"line_dash\":[4,4],\"line_width\":2,\"right_units\":\"screen\",\"syncable\":false,\"top_units\":\"screen\"},\"id\":\"79446\",\"type\":\"BoxAnnotation\"},{\"attributes\":{\"formatter\":{\"id\":\"80035\"},\"major_label_policy\":{\"id\":\"80033\"},\"ticker\":{\"id\":\"79433\"}},\"id\":\"79432\",\"type\":\"LinearAxis\"},{\"attributes\":{\"overlay\":{\"id\":\"79408\"}},\"id\":\"79404\",\"type\":\"BoxZoomTool\"},{\"attributes\":{\"active_multi\":null,\"tools\":[{\"id\":\"79478\"},{\"id\":\"79479\"},{\"id\":\"79480\"},{\"id\":\"79481\"},{\"id\":\"79482\"},{\"id\":\"79483\"}]},\"id\":\"79485\",\"type\":\"Toolbar\"},{\"attributes\":{\"children\":[{\"id\":\"79383\"},{\"id\":\"79421\"}],\"sizing_mode\":\"stretch_width\"},\"id\":\"79497\",\"type\":\"Row\"},{\"attributes\":{},\"id\":\"79479\",\"type\":\"WheelZoomTool\"},{\"attributes\":{},\"id\":\"80026\",\"type\":\"BasicTickFormatter\"},{\"attributes\":{},\"id\":\"79481\",\"type\":\"SaveTool\"},{\"attributes\":{\"line_color\":\"#1f77b4\",\"x\":{\"field\":\"x\"},\"y\":{\"field\":\"y\"}},\"id\":\"79455\",\"type\":\"Line\"},{\"attributes\":{\"text\":\"test\"},\"id\":\"79422\",\"type\":\"Title\"},{\"attributes\":{\"source\":{\"id\":\"79382\"}},\"id\":\"79496\",\"type\":\"CDSView\"},{\"attributes\":{},\"id\":\"80036\",\"type\":\"UnionRenderers\"},{\"attributes\":{},\"id\":\"79430\",\"type\":\"LinearScale\"},{\"attributes\":{},\"id\":\"79405\",\"type\":\"SaveTool\"},{\"attributes\":{},\"id\":\"79468\",\"type\":\"LinearScale\"},{\"attributes\":{},\"id\":\"79424\",\"type\":\"DataRange1d\"},{\"attributes\":{\"line_alpha\":0.1,\"line_color\":\"#1f77b4\",\"x\":{\"field\":\"x\"},\"y\":{\"field\":\"y\"}},\"id\":\"79418\",\"type\":\"Line\"},{\"attributes\":{},\"id\":\"79482\",\"type\":\"ResetTool\"},{\"attributes\":{\"source\":{\"id\":\"79382\"}},\"id\":\"79420\",\"type\":\"CDSView\"},{\"attributes\":{},\"id\":\"80033\",\"type\":\"AllLabels\"},{\"attributes\":{\"bottom_units\":\"screen\",\"fill_alpha\":0.5,\"fill_color\":\"lightgrey\",\"left_units\":\"screen\",\"level\":\"overlay\",\"line_alpha\":1.0,\"line_color\":\"black\",\"line_dash\":[4,4],\"line_width\":2,\"right_units\":\"screen\",\"syncable\":false,\"top_units\":\"screen\"},\"id\":\"79484\",\"type\":\"BoxAnnotation\"},{\"attributes\":{\"below\":[{\"id\":\"79470\"}],\"center\":[{\"id\":\"79473\"},{\"id\":\"79477\"}],\"height\":300,\"left\":[{\"id\":\"79474\"}],\"renderers\":[{\"id\":\"79495\"}],\"sizing_mode\":\"stretch_width\",\"title\":{\"id\":\"79460\"},\"toolbar\":{\"id\":\"79485\"},\"x_range\":{\"id\":\"79462\"},\"x_scale\":{\"id\":\"79466\"},\"y_range\":{\"id\":\"79464\"},\"y_scale\":{\"id\":\"79468\"}},\"id\":\"79459\",\"subtype\":\"Figure\",\"type\":\"Plot\"},{\"attributes\":{},\"id\":\"80032\",\"type\":\"BasicTickFormatter\"},{\"attributes\":{\"line_alpha\":0.1,\"line_color\":\"#1f77b4\",\"x\":{\"field\":\"x\"},\"y\":{\"field\":\"y\"}},\"id\":\"79494\",\"type\":\"Line\"},{\"attributes\":{\"bottom_units\":\"screen\",\"fill_alpha\":0.5,\"fill_color\":\"lightgrey\",\"left_units\":\"screen\",\"level\":\"overlay\",\"line_alpha\":1.0,\"line_color\":\"black\",\"line_dash\":[4,4],\"line_width\":2,\"right_units\":\"screen\",\"syncable\":false,\"top_units\":\"screen\"},\"id\":\"79408\",\"type\":\"BoxAnnotation\"},{\"attributes\":{\"overlay\":{\"id\":\"79484\"}},\"id\":\"79480\",\"type\":\"BoxZoomTool\"},{\"attributes\":{\"formatter\":{\"id\":\"80023\"},\"major_label_policy\":{\"id\":\"80021\"},\"ticker\":{\"id\":\"79471\"}},\"id\":\"79470\",\"type\":\"LinearAxis\"},{\"attributes\":{},\"id\":\"79478\",\"type\":\"PanTool\"},{\"attributes\":{\"active_multi\":null,\"tools\":[{\"id\":\"79402\"},{\"id\":\"79403\"},{\"id\":\"79404\"},{\"id\":\"79405\"},{\"id\":\"79406\"},{\"id\":\"79407\"}]},\"id\":\"79409\",\"type\":\"Toolbar\"},{\"attributes\":{},\"id\":\"79466\",\"type\":\"LinearScale\"},{\"attributes\":{},\"id\":\"79433\",\"type\":\"BasicTicker\"},{\"attributes\":{},\"id\":\"79483\",\"type\":\"HelpTool\"},{\"attributes\":{},\"id\":\"79388\",\"type\":\"DataRange1d\"},{\"attributes\":{\"line_color\":\"#1f77b4\",\"x\":{\"field\":\"x\"},\"y\":{\"field\":\"y\"}},\"id\":\"79417\",\"type\":\"Line\"},{\"attributes\":{},\"id\":\"79445\",\"type\":\"HelpTool\"},{\"attributes\":{},\"id\":\"79395\",\"type\":\"BasicTicker\"},{\"attributes\":{},\"id\":\"79440\",\"type\":\"PanTool\"},{\"attributes\":{},\"id\":\"79444\",\"type\":\"ResetTool\"},{\"attributes\":{},\"id\":\"79399\",\"type\":\"BasicTicker\"},{\"attributes\":{},\"id\":\"79390\",\"type\":\"LinearScale\"},{\"attributes\":{\"data\":{\"x\":{\"__ndarray__\":\"AAAAAAAAJMBDYt7OkJgjwIbEvJ0hMSPAyiabbLLJIsANiXk7Q2IiwFDrVwrU+iHAk0022WSTIcDXrxSo9SshwBoS83aGxCDAXXTRRRddIMBArV8pUOsfwMdxHMdxHB/ATjbZZJNNHsDU+pUCtX4dwFq/UqDWrxzA4YMPPvjgG8BoSMzbGRIbwO4MiXk7QxrAdNFFF110GcD7lQK1fqUYwIFav1Kg1hfACB988MEHF8CO4ziO4zgWwBWo9SsFahXAm2yyySabFMAiMW9nSMwTwKj1KwVq/RLAL7rooosuEsC1fqVArV8RwDxDYt7OkBDAhA8++OCDD8CSmLczJOYNwJ4hMW9nSAzAqqqqqqqqCsC4MyTm7QwJwMS8nSExbwfA0kUXXXTRBcDezpCYtzMEwOxXCtT6lQLA+OCDDz74AMAI1PqVArX+vyjm7QyJefu/QPjggw8++L9YCtT6lQL1v3Acx3Ecx/G/IF100UUX7b9QgVq/UqDmv4ClQK1fKeC/YJNNNtlk078Ab2dIzNu5vwBvZ0jM27k/YJNNNtlk0z+ApUCtXyngP1CBWr9SoOY/EF100UUX7T9wHMdxHMfxP1gK1PqVAvU/QPjggw8++D8g5u0MiXn7PwjU+pUCtf4/+OCDDz74AEDsVwrU+pUCQNzOkJi3MwRA0EUXXXTRBUDEvJ0hMW8HQLgzJObtDAlArKqqqqqqCkCcITFvZ0gMQJCYtzMk5g1AhA8++OCDD0A8Q2LezpAQQLR+pUCtXxFALrrooosuEkCo9SsFav0SQCIxb2dIzBNAmmyyySabFEAUqPUrBWoVQI7jOI7jOBZACB988MEHF0CAWr9SoNYXQPyVArV+pRhAdNFFF110GUDsDIl5O0MaQGhIzNsZEhtA4IMPPvjgG0Bcv1Kg1q8cQNT6lQK1fh1ATDbZZJNNHkDIcRzHcRwfQECtXylQ6x9AXHTRRRddIEAaEvN2hsQgQNavFKj1KyFAlE022WSTIUBQ61cK1PohQAyJeTtDYiJAyiabbLLJIkCGxLydITEjQERi3s6QmCNAAAAAAAAAJEA=\",\"dtype\":\"float64\",\"order\":\"little\",\"shape\":[100]},\"y\":{\"__ndarray__\":\"fKAI8jXw2z9GKt9t6XHPP77WsHWoIdQ/oMHbpA3ZXL+ATBnAnGK7v+Yk36l+YtW/1VnqN6cs4b9wbreGDoXqv/+ySi+8J+y/xYOEweKZ7L9IhEhXYujvvz5+viL+3/C/ejC71VyJ7b8Qi0bXGVPpv7eP2fofGum/7Np8QDKO57+mmAmOTzrhvzSeTblYxsi/KfOOyzIsyL9ZWxkV25rFPzgSIZHBZck/Vii4i+xO3j/RI3B0fIfmP1LUPAfU/uM/mj3iK18e7z+qll9OUPrzP/HPpgD9Cuw/hC8vnVqN6z9UwgUuAKnsP/5E3hWJoOY/HOKXbHoS5j9egNp5YnzjP2YFs2DcWds/Trfnd1mRvj9gih1vpOmHP7qvekh/x9C/wBE2zmzh4L+1ceKknYzmv4zVMtb16OW/DPfIXR9v678ArCoi+Ybxv+brVR00ae+/JKgU9OxE77/2fbYPaYrwv1Q1vdLH0um/akL3jp3M5b/Hn99L47vnv7z2t6QOaOK/5ohkuPHn07+4SWUHGgugv+ww7z+x7JA/hM2eCTFBwD/q3pBf7TniP0KL8A5juOM/e14DBCSl6T+bvfS09SftPxT2QbqWpek/rtWMbb378D/VPWOZ6PrwPw2gfggWx/I/CFWaol4t5T/jD0mlm9vpP3QjN2sxAdU/PhAl3xgr1j/n1+6/JJXSP6BGLEFVasq/fOJpYG8EzL/4hYj0fr3Tv+Bv3BTmF+C/jT668qsc5L/C/nD6X9rsvzkJqBTTdu2/Q2cMfyVW8L/6xpbk/j7wv2+k+407D/C/Vbk+jFYO57+Vf9fknhvnv2PcYe79meu/6S4k60k947/sci+iR2PBv5maXJ7XwNK/XB6UYHbznL9Nq4VTiq3SPyV22ZHCst0/7aHmlyvl5j93CVb8XhbtP0ctctlQcec/97ufq4BA7z+KMy6XqVvxP2mb/IjAIu8/URdp+I218D90qVE3DWfvPzyJ6lwW0OY/zU+GHJeN5z90j/Vn07bXP+ih7+hqm9w/xc/+eSQLtL8jY3fpr3zXvwtovZszD9S/lrGdhT1B378=\",\"dtype\":\"float64\",\"order\":\"little\",\"shape\":[100]}},\"selected\":{\"id\":\"80037\"},\"selection_policy\":{\"id\":\"80036\"}},\"id\":\"79382\",\"type\":\"ColumnDataSource\"},{\"attributes\":{},\"id\":\"79386\",\"type\":\"DataRange1d\"},{\"attributes\":{},\"id\":\"79475\",\"type\":\"BasicTicker\"},{\"attributes\":{},\"id\":\"79441\",\"type\":\"WheelZoomTool\"},{\"attributes\":{\"axis\":{\"id\":\"79394\"},\"ticker\":null},\"id\":\"79397\",\"type\":\"Grid\"},{\"attributes\":{\"source\":{\"id\":\"79382\"}},\"id\":\"79458\",\"type\":\"CDSView\"},{\"attributes\":{},\"id\":\"80021\",\"type\":\"AllLabels\"},{\"attributes\":{\"text\":\"test\"},\"id\":\"79384\",\"type\":\"Title\"},{\"attributes\":{\"axis\":{\"id\":\"79398\"},\"dimension\":1,\"ticker\":null},\"id\":\"79401\",\"type\":\"Grid\"},{\"attributes\":{},\"id\":\"79443\",\"type\":\"SaveTool\"},{\"attributes\":{},\"id\":\"80018\",\"type\":\"AllLabels\"},{\"attributes\":{\"below\":[{\"id\":\"79432\"}],\"center\":[{\"id\":\"79435\"},{\"id\":\"79439\"}],\"height\":300,\"left\":[{\"id\":\"79436\"}],\"renderers\":[{\"id\":\"79457\"}],\"sizing_mode\":\"stretch_width\",\"title\":{\"id\":\"79422\"},\"toolbar\":{\"id\":\"79447\"},\"x_range\":{\"id\":\"79424\"},\"x_scale\":{\"id\":\"79428\"},\"y_range\":{\"id\":\"79426\"},\"y_scale\":{\"id\":\"79430\"}},\"id\":\"79421\",\"subtype\":\"Figure\",\"type\":\"Plot\"},{\"attributes\":{},\"id\":\"79392\",\"type\":\"LinearScale\"},{\"attributes\":{\"formatter\":{\"id\":\"80029\"},\"major_label_policy\":{\"id\":\"80027\"},\"ticker\":{\"id\":\"79395\"}},\"id\":\"79394\",\"type\":\"LinearAxis\"},{\"attributes\":{\"line_alpha\":0.1,\"line_color\":\"#1f77b4\",\"x\":{\"field\":\"x\"},\"y\":{\"field\":\"y\"}},\"id\":\"79456\",\"type\":\"Line\"},{\"attributes\":{\"data_source\":{\"id\":\"79382\"},\"glyph\":{\"id\":\"79455\"},\"hover_glyph\":null,\"muted_glyph\":null,\"nonselection_glyph\":{\"id\":\"79456\"},\"view\":{\"id\":\"79458\"}},\"id\":\"79457\",\"type\":\"GlyphRenderer\"},{\"attributes\":{\"axis\":{\"id\":\"79474\"},\"dimension\":1,\"ticker\":null},\"id\":\"79477\",\"type\":\"Grid\"},{\"attributes\":{},\"id\":\"79437\",\"type\":\"BasicTicker\"},{\"attributes\":{\"formatter\":{\"id\":\"80026\"},\"major_label_policy\":{\"id\":\"80024\"},\"ticker\":{\"id\":\"79399\"}},\"id\":\"79398\",\"type\":\"LinearAxis\"},{\"attributes\":{\"below\":[{\"id\":\"79394\"}],\"center\":[{\"id\":\"79397\"},{\"id\":\"79401\"}],\"height\":300,\"left\":[{\"id\":\"79398\"}],\"renderers\":[{\"id\":\"79419\"}],\"sizing_mode\":\"stretch_width\",\"title\":{\"id\":\"79384\"},\"toolbar\":{\"id\":\"79409\"},\"x_range\":{\"id\":\"79386\"},\"x_scale\":{\"id\":\"79390\"},\"y_range\":{\"id\":\"79388\"},\"y_scale\":{\"id\":\"79392\"}},\"id\":\"79383\",\"subtype\":\"Figure\",\"type\":\"Plot\"},{\"attributes\":{},\"id\":\"80020\",\"type\":\"BasicTickFormatter\"},{\"attributes\":{\"overlay\":{\"id\":\"79446\"}},\"id\":\"79442\",\"type\":\"BoxZoomTool\"},{\"attributes\":{\"axis\":{\"id\":\"79436\"},\"dimension\":1,\"ticker\":null},\"id\":\"79439\",\"type\":\"Grid\"},{\"attributes\":{\"active_multi\":null,\"tools\":[{\"id\":\"79440\"},{\"id\":\"79441\"},{\"id\":\"79442\"},{\"id\":\"79443\"},{\"id\":\"79444\"},{\"id\":\"79445\"}]},\"id\":\"79447\",\"type\":\"Toolbar\"},{\"attributes\":{\"formatter\":{\"id\":\"80020\"},\"major_label_policy\":{\"id\":\"80018\"},\"ticker\":{\"id\":\"79475\"}},\"id\":\"79474\",\"type\":\"LinearAxis\"}],\"root_ids\":[\"79498\"]},\"title\":\"Bokeh Application\",\"version\":\"2.3.1\"}};\n",
       "  var render_items = [{\"docid\":\"f7aff910-fc33-4771-ad8e-171d55b45430\",\"notebook_comms_target\":\"80041\",\"root_ids\":[\"79498\"],\"roots\":{\"79498\":\"3fde96e6-3884-476c-bc45-ff3808c045f8\"}}];\n",
       "  root.Bokeh.embed.embed_items_notebook(docs_json, render_items);\n",
       "\n",
       "  }\n",
       "  if (root.Bokeh !== undefined) {\n",
       "    embed_document(root);\n",
       "  } else {\n",
       "    var attempts = 0;\n",
       "    var timer = setInterval(function(root) {\n",
       "      if (root.Bokeh !== undefined) {\n",
       "        clearInterval(timer);\n",
       "        embed_document(root);\n",
       "      } else {\n",
       "        attempts++;\n",
       "        if (attempts > 100) {\n",
       "          clearInterval(timer);\n",
       "          console.log(\"Bokeh: ERROR: Unable to run BokehJS code because BokehJS library is missing\");\n",
       "        }\n",
       "      }\n",
       "    }, 10, root)\n",
       "  }\n",
       "})(window);"
      ],
      "application/vnd.bokehjs_exec.v0+json": ""
     },
     "metadata": {
      "application/vnd.bokehjs_exec.v0+json": {
       "id": "79498"
      }
     },
     "output_type": "display_data"
    },
    {
     "data": {
      "application/vnd.jupyter.widget-view+json": {
       "model_id": "c306c07e68144ab29353d940d214adf4",
       "version_major": 2,
       "version_minor": 0
      },
      "text/plain": [
       "ToggleButton(value=False, description='Stop')"
      ]
     },
     "metadata": {},
     "output_type": "display_data"
    }
   ],
   "source": [
    "x = np.linspace(-10,10,100)\n",
    "def f(x):\n",
    "    return np.sin(x)+np.random.normal(size=len(x))*0.1\n",
    "\n",
    "source = ColumnDataSource()\n",
    "source.data = dict(x=x, y=f(x))\n",
    "\n",
    "p = figure(title=\"test\", height=300)\n",
    "l = p.line('x', 'y', source=source)\n",
    "p2 = figure(title=\"test\", height=300)\n",
    "l2 = p2.line('x', 'y', source=source)\n",
    "p3 = figure(title=\"test\", height=300)\n",
    "l3 = p3.line('x', 'y', source=source)\n",
    "\n",
    "r = row(p,p2)\n",
    "c = column(r,p3)\n",
    "for w in p, p2, p3, r, c:\n",
    "    w.sizing_mode = \"stretch_width\"\n",
    "target = show(c, notebook_handle=True)\n",
    "\n",
    "stop_button = widgets.ToggleButton(description='Stop')\n",
    "display(stop_button)\n",
    "\n",
    "while True:\n",
    "    ipython.kernel.do_one_iteration()\n",
    "    if stop_button.value:\n",
    "        break \n",
    "    l.data_source.data['y'] = f(x)\n",
    "    push_notebook(handle=target)\n",
    "    time.sleep(0.01)"
   ]
  }
 ],
 "metadata": {
  "jupytext": {
   "formats": "ipynb,md"
  },
  "kernelspec": {
   "display_name": "Python 3",
   "language": "python",
   "name": "python3"
  },
  "language_info": {
   "codemirror_mode": {
    "name": "ipython",
    "version": 3
   },
   "file_extension": ".py",
   "mimetype": "text/x-python",
   "name": "python",
   "nbconvert_exporter": "python",
   "pygments_lexer": "ipython3",
   "version": "3.7.5"
  },
  "toc": {
   "base_numbering": 1,
   "nav_menu": {},
   "number_sections": true,
   "sideBar": true,
   "skip_h1_title": false,
   "title_cell": "Table of Contents",
   "title_sidebar": "Contents",
   "toc_cell": false,
   "toc_position": {},
   "toc_section_display": true,
   "toc_window_display": false
  }
 },
 "nbformat": 4,
 "nbformat_minor": 2
}
