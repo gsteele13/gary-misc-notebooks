{
 "cells": [
  {
   "cell_type": "code",
   "execution_count": 1,
   "metadata": {},
   "outputs": [
    {
     "data": {
      "text/html": [
       "\n",
       "    <div class=\"bk-root\">\n",
       "        <a href=\"https://bokeh.org\" target=\"_blank\" class=\"bk-logo bk-logo-small bk-logo-notebook\"></a>\n",
       "        <span id=\"1002\">Loading BokehJS ...</span>\n",
       "    </div>"
      ]
     },
     "metadata": {},
     "output_type": "display_data"
    },
    {
     "data": {
      "application/javascript": [
       "\n",
       "(function(root) {\n",
       "  function now() {\n",
       "    return new Date();\n",
       "  }\n",
       "\n",
       "  var force = true;\n",
       "\n",
       "  if (typeof root._bokeh_onload_callbacks === \"undefined\" || force === true) {\n",
       "    root._bokeh_onload_callbacks = [];\n",
       "    root._bokeh_is_loading = undefined;\n",
       "  }\n",
       "\n",
       "  var JS_MIME_TYPE = 'application/javascript';\n",
       "  var HTML_MIME_TYPE = 'text/html';\n",
       "  var EXEC_MIME_TYPE = 'application/vnd.bokehjs_exec.v0+json';\n",
       "  var CLASS_NAME = 'output_bokeh rendered_html';\n",
       "\n",
       "  /**\n",
       "   * Render data to the DOM node\n",
       "   */\n",
       "  function render(props, node) {\n",
       "    var script = document.createElement(\"script\");\n",
       "    node.appendChild(script);\n",
       "  }\n",
       "\n",
       "  /**\n",
       "   * Handle when an output is cleared or removed\n",
       "   */\n",
       "  function handleClearOutput(event, handle) {\n",
       "    var cell = handle.cell;\n",
       "\n",
       "    var id = cell.output_area._bokeh_element_id;\n",
       "    var server_id = cell.output_area._bokeh_server_id;\n",
       "    // Clean up Bokeh references\n",
       "    if (id != null && id in Bokeh.index) {\n",
       "      Bokeh.index[id].model.document.clear();\n",
       "      delete Bokeh.index[id];\n",
       "    }\n",
       "\n",
       "    if (server_id !== undefined) {\n",
       "      // Clean up Bokeh references\n",
       "      var cmd = \"from bokeh.io.state import curstate; print(curstate().uuid_to_server['\" + server_id + \"'].get_sessions()[0].document.roots[0]._id)\";\n",
       "      cell.notebook.kernel.execute(cmd, {\n",
       "        iopub: {\n",
       "          output: function(msg) {\n",
       "            var id = msg.content.text.trim();\n",
       "            if (id in Bokeh.index) {\n",
       "              Bokeh.index[id].model.document.clear();\n",
       "              delete Bokeh.index[id];\n",
       "            }\n",
       "          }\n",
       "        }\n",
       "      });\n",
       "      // Destroy server and session\n",
       "      var cmd = \"import bokeh.io.notebook as ion; ion.destroy_server('\" + server_id + \"')\";\n",
       "      cell.notebook.kernel.execute(cmd);\n",
       "    }\n",
       "  }\n",
       "\n",
       "  /**\n",
       "   * Handle when a new output is added\n",
       "   */\n",
       "  function handleAddOutput(event, handle) {\n",
       "    var output_area = handle.output_area;\n",
       "    var output = handle.output;\n",
       "\n",
       "    // limit handleAddOutput to display_data with EXEC_MIME_TYPE content only\n",
       "    if ((output.output_type != \"display_data\") || (!Object.prototype.hasOwnProperty.call(output.data, EXEC_MIME_TYPE))) {\n",
       "      return\n",
       "    }\n",
       "\n",
       "    var toinsert = output_area.element.find(\".\" + CLASS_NAME.split(' ')[0]);\n",
       "\n",
       "    if (output.metadata[EXEC_MIME_TYPE][\"id\"] !== undefined) {\n",
       "      toinsert[toinsert.length - 1].firstChild.textContent = output.data[JS_MIME_TYPE];\n",
       "      // store reference to embed id on output_area\n",
       "      output_area._bokeh_element_id = output.metadata[EXEC_MIME_TYPE][\"id\"];\n",
       "    }\n",
       "    if (output.metadata[EXEC_MIME_TYPE][\"server_id\"] !== undefined) {\n",
       "      var bk_div = document.createElement(\"div\");\n",
       "      bk_div.innerHTML = output.data[HTML_MIME_TYPE];\n",
       "      var script_attrs = bk_div.children[0].attributes;\n",
       "      for (var i = 0; i < script_attrs.length; i++) {\n",
       "        toinsert[toinsert.length - 1].firstChild.setAttribute(script_attrs[i].name, script_attrs[i].value);\n",
       "        toinsert[toinsert.length - 1].firstChild.textContent = bk_div.children[0].textContent\n",
       "      }\n",
       "      // store reference to server id on output_area\n",
       "      output_area._bokeh_server_id = output.metadata[EXEC_MIME_TYPE][\"server_id\"];\n",
       "    }\n",
       "  }\n",
       "\n",
       "  function register_renderer(events, OutputArea) {\n",
       "\n",
       "    function append_mime(data, metadata, element) {\n",
       "      // create a DOM node to render to\n",
       "      var toinsert = this.create_output_subarea(\n",
       "        metadata,\n",
       "        CLASS_NAME,\n",
       "        EXEC_MIME_TYPE\n",
       "      );\n",
       "      this.keyboard_manager.register_events(toinsert);\n",
       "      // Render to node\n",
       "      var props = {data: data, metadata: metadata[EXEC_MIME_TYPE]};\n",
       "      render(props, toinsert[toinsert.length - 1]);\n",
       "      element.append(toinsert);\n",
       "      return toinsert\n",
       "    }\n",
       "\n",
       "    /* Handle when an output is cleared or removed */\n",
       "    events.on('clear_output.CodeCell', handleClearOutput);\n",
       "    events.on('delete.Cell', handleClearOutput);\n",
       "\n",
       "    /* Handle when a new output is added */\n",
       "    events.on('output_added.OutputArea', handleAddOutput);\n",
       "\n",
       "    /**\n",
       "     * Register the mime type and append_mime function with output_area\n",
       "     */\n",
       "    OutputArea.prototype.register_mime_type(EXEC_MIME_TYPE, append_mime, {\n",
       "      /* Is output safe? */\n",
       "      safe: true,\n",
       "      /* Index of renderer in `output_area.display_order` */\n",
       "      index: 0\n",
       "    });\n",
       "  }\n",
       "\n",
       "  // register the mime type if in Jupyter Notebook environment and previously unregistered\n",
       "  if (root.Jupyter !== undefined) {\n",
       "    var events = require('base/js/events');\n",
       "    var OutputArea = require('notebook/js/outputarea').OutputArea;\n",
       "\n",
       "    if (OutputArea.prototype.mime_types().indexOf(EXEC_MIME_TYPE) == -1) {\n",
       "      register_renderer(events, OutputArea);\n",
       "    }\n",
       "  }\n",
       "\n",
       "  \n",
       "  if (typeof (root._bokeh_timeout) === \"undefined\" || force === true) {\n",
       "    root._bokeh_timeout = Date.now() + 5000;\n",
       "    root._bokeh_failed_load = false;\n",
       "  }\n",
       "\n",
       "  var NB_LOAD_WARNING = {'data': {'text/html':\n",
       "     \"<div style='background-color: #fdd'>\\n\"+\n",
       "     \"<p>\\n\"+\n",
       "     \"BokehJS does not appear to have successfully loaded. If loading BokehJS from CDN, this \\n\"+\n",
       "     \"may be due to a slow or bad network connection. Possible fixes:\\n\"+\n",
       "     \"</p>\\n\"+\n",
       "     \"<ul>\\n\"+\n",
       "     \"<li>re-rerun `output_notebook()` to attempt to load from CDN again, or</li>\\n\"+\n",
       "     \"<li>use INLINE resources instead, as so:</li>\\n\"+\n",
       "     \"</ul>\\n\"+\n",
       "     \"<code>\\n\"+\n",
       "     \"from bokeh.resources import INLINE\\n\"+\n",
       "     \"output_notebook(resources=INLINE)\\n\"+\n",
       "     \"</code>\\n\"+\n",
       "     \"</div>\"}};\n",
       "\n",
       "  function display_loaded() {\n",
       "    var el = document.getElementById(\"1002\");\n",
       "    if (el != null) {\n",
       "      el.textContent = \"BokehJS is loading...\";\n",
       "    }\n",
       "    if (root.Bokeh !== undefined) {\n",
       "      if (el != null) {\n",
       "        el.textContent = \"BokehJS \" + root.Bokeh.version + \" successfully loaded.\";\n",
       "      }\n",
       "    } else if (Date.now() < root._bokeh_timeout) {\n",
       "      setTimeout(display_loaded, 100)\n",
       "    }\n",
       "  }\n",
       "\n",
       "\n",
       "  function run_callbacks() {\n",
       "    try {\n",
       "      root._bokeh_onload_callbacks.forEach(function(callback) {\n",
       "        if (callback != null)\n",
       "          callback();\n",
       "      });\n",
       "    } finally {\n",
       "      delete root._bokeh_onload_callbacks\n",
       "    }\n",
       "    console.debug(\"Bokeh: all callbacks have finished\");\n",
       "  }\n",
       "\n",
       "  function load_libs(css_urls, js_urls, callback) {\n",
       "    if (css_urls == null) css_urls = [];\n",
       "    if (js_urls == null) js_urls = [];\n",
       "\n",
       "    root._bokeh_onload_callbacks.push(callback);\n",
       "    if (root._bokeh_is_loading > 0) {\n",
       "      console.debug(\"Bokeh: BokehJS is being loaded, scheduling callback at\", now());\n",
       "      return null;\n",
       "    }\n",
       "    if (js_urls == null || js_urls.length === 0) {\n",
       "      run_callbacks();\n",
       "      return null;\n",
       "    }\n",
       "    console.debug(\"Bokeh: BokehJS not loaded, scheduling load and callback at\", now());\n",
       "    root._bokeh_is_loading = css_urls.length + js_urls.length;\n",
       "\n",
       "    function on_load() {\n",
       "      root._bokeh_is_loading--;\n",
       "      if (root._bokeh_is_loading === 0) {\n",
       "        console.debug(\"Bokeh: all BokehJS libraries/stylesheets loaded\");\n",
       "        run_callbacks()\n",
       "      }\n",
       "    }\n",
       "\n",
       "    function on_error(url) {\n",
       "      console.error(\"failed to load \" + url);\n",
       "    }\n",
       "\n",
       "    for (let i = 0; i < css_urls.length; i++) {\n",
       "      const url = css_urls[i];\n",
       "      const element = document.createElement(\"link\");\n",
       "      element.onload = on_load;\n",
       "      element.onerror = on_error.bind(null, url);\n",
       "      element.rel = \"stylesheet\";\n",
       "      element.type = \"text/css\";\n",
       "      element.href = url;\n",
       "      console.debug(\"Bokeh: injecting link tag for BokehJS stylesheet: \", url);\n",
       "      document.body.appendChild(element);\n",
       "    }\n",
       "\n",
       "    const hashes = {\"https://cdn.bokeh.org/bokeh/release/bokeh-2.3.1.min.js\": \"YF85VygJKMVnHE+lLv2AM93Vbstr0yo2TbIu5v8se5Rq3UQAUmcuh4aaJwNlpKwa\", \"https://cdn.bokeh.org/bokeh/release/bokeh-widgets-2.3.1.min.js\": \"KKuas3gevv3PvrlkyCMzffFeaMq5we/a2QsP5AUoS3mJ0jmaCL7jirFJN3GoE/lM\", \"https://cdn.bokeh.org/bokeh/release/bokeh-tables-2.3.1.min.js\": \"MK/uFc3YT18pkvvXRl66tTHjP0/dxoSH2e/eiNMFIguKlun2+WVqaPTWmUy/zvh4\"};\n",
       "\n",
       "    for (let i = 0; i < js_urls.length; i++) {\n",
       "      const url = js_urls[i];\n",
       "      const element = document.createElement('script');\n",
       "      element.onload = on_load;\n",
       "      element.onerror = on_error.bind(null, url);\n",
       "      element.async = false;\n",
       "      element.src = url;\n",
       "      if (url in hashes) {\n",
       "        element.crossOrigin = \"anonymous\";\n",
       "        element.integrity = \"sha384-\" + hashes[url];\n",
       "      }\n",
       "      console.debug(\"Bokeh: injecting script tag for BokehJS library: \", url);\n",
       "      document.head.appendChild(element);\n",
       "    }\n",
       "  };\n",
       "\n",
       "  function inject_raw_css(css) {\n",
       "    const element = document.createElement(\"style\");\n",
       "    element.appendChild(document.createTextNode(css));\n",
       "    document.body.appendChild(element);\n",
       "  }\n",
       "\n",
       "  \n",
       "  var js_urls = [\"https://cdn.bokeh.org/bokeh/release/bokeh-2.3.1.min.js\", \"https://cdn.bokeh.org/bokeh/release/bokeh-widgets-2.3.1.min.js\", \"https://cdn.bokeh.org/bokeh/release/bokeh-tables-2.3.1.min.js\"];\n",
       "  var css_urls = [];\n",
       "  \n",
       "\n",
       "  var inline_js = [\n",
       "    function(Bokeh) {\n",
       "      Bokeh.set_log_level(\"info\");\n",
       "    },\n",
       "    function(Bokeh) {\n",
       "    \n",
       "    \n",
       "    }\n",
       "  ];\n",
       "\n",
       "  function run_inline_js() {\n",
       "    \n",
       "    if (root.Bokeh !== undefined || force === true) {\n",
       "      \n",
       "    for (var i = 0; i < inline_js.length; i++) {\n",
       "      inline_js[i].call(root, root.Bokeh);\n",
       "    }\n",
       "    if (force === true) {\n",
       "        display_loaded();\n",
       "      }} else if (Date.now() < root._bokeh_timeout) {\n",
       "      setTimeout(run_inline_js, 100);\n",
       "    } else if (!root._bokeh_failed_load) {\n",
       "      console.log(\"Bokeh: BokehJS failed to load within specified timeout.\");\n",
       "      root._bokeh_failed_load = true;\n",
       "    } else if (force !== true) {\n",
       "      var cell = $(document.getElementById(\"1002\")).parents('.cell').data().cell;\n",
       "      cell.output_area.append_execute_result(NB_LOAD_WARNING)\n",
       "    }\n",
       "\n",
       "  }\n",
       "\n",
       "  if (root._bokeh_is_loading === 0) {\n",
       "    console.debug(\"Bokeh: BokehJS loaded, going straight to plotting\");\n",
       "    run_inline_js();\n",
       "  } else {\n",
       "    load_libs(css_urls, js_urls, function() {\n",
       "      console.debug(\"Bokeh: BokehJS plotting callback run at\", now());\n",
       "      run_inline_js();\n",
       "    });\n",
       "  }\n",
       "}(window));"
      ],
      "application/vnd.bokehjs_load.v0+json": "\n(function(root) {\n  function now() {\n    return new Date();\n  }\n\n  var force = true;\n\n  if (typeof root._bokeh_onload_callbacks === \"undefined\" || force === true) {\n    root._bokeh_onload_callbacks = [];\n    root._bokeh_is_loading = undefined;\n  }\n\n  \n\n  \n  if (typeof (root._bokeh_timeout) === \"undefined\" || force === true) {\n    root._bokeh_timeout = Date.now() + 5000;\n    root._bokeh_failed_load = false;\n  }\n\n  var NB_LOAD_WARNING = {'data': {'text/html':\n     \"<div style='background-color: #fdd'>\\n\"+\n     \"<p>\\n\"+\n     \"BokehJS does not appear to have successfully loaded. If loading BokehJS from CDN, this \\n\"+\n     \"may be due to a slow or bad network connection. Possible fixes:\\n\"+\n     \"</p>\\n\"+\n     \"<ul>\\n\"+\n     \"<li>re-rerun `output_notebook()` to attempt to load from CDN again, or</li>\\n\"+\n     \"<li>use INLINE resources instead, as so:</li>\\n\"+\n     \"</ul>\\n\"+\n     \"<code>\\n\"+\n     \"from bokeh.resources import INLINE\\n\"+\n     \"output_notebook(resources=INLINE)\\n\"+\n     \"</code>\\n\"+\n     \"</div>\"}};\n\n  function display_loaded() {\n    var el = document.getElementById(\"1002\");\n    if (el != null) {\n      el.textContent = \"BokehJS is loading...\";\n    }\n    if (root.Bokeh !== undefined) {\n      if (el != null) {\n        el.textContent = \"BokehJS \" + root.Bokeh.version + \" successfully loaded.\";\n      }\n    } else if (Date.now() < root._bokeh_timeout) {\n      setTimeout(display_loaded, 100)\n    }\n  }\n\n\n  function run_callbacks() {\n    try {\n      root._bokeh_onload_callbacks.forEach(function(callback) {\n        if (callback != null)\n          callback();\n      });\n    } finally {\n      delete root._bokeh_onload_callbacks\n    }\n    console.debug(\"Bokeh: all callbacks have finished\");\n  }\n\n  function load_libs(css_urls, js_urls, callback) {\n    if (css_urls == null) css_urls = [];\n    if (js_urls == null) js_urls = [];\n\n    root._bokeh_onload_callbacks.push(callback);\n    if (root._bokeh_is_loading > 0) {\n      console.debug(\"Bokeh: BokehJS is being loaded, scheduling callback at\", now());\n      return null;\n    }\n    if (js_urls == null || js_urls.length === 0) {\n      run_callbacks();\n      return null;\n    }\n    console.debug(\"Bokeh: BokehJS not loaded, scheduling load and callback at\", now());\n    root._bokeh_is_loading = css_urls.length + js_urls.length;\n\n    function on_load() {\n      root._bokeh_is_loading--;\n      if (root._bokeh_is_loading === 0) {\n        console.debug(\"Bokeh: all BokehJS libraries/stylesheets loaded\");\n        run_callbacks()\n      }\n    }\n\n    function on_error(url) {\n      console.error(\"failed to load \" + url);\n    }\n\n    for (let i = 0; i < css_urls.length; i++) {\n      const url = css_urls[i];\n      const element = document.createElement(\"link\");\n      element.onload = on_load;\n      element.onerror = on_error.bind(null, url);\n      element.rel = \"stylesheet\";\n      element.type = \"text/css\";\n      element.href = url;\n      console.debug(\"Bokeh: injecting link tag for BokehJS stylesheet: \", url);\n      document.body.appendChild(element);\n    }\n\n    const hashes = {\"https://cdn.bokeh.org/bokeh/release/bokeh-2.3.1.min.js\": \"YF85VygJKMVnHE+lLv2AM93Vbstr0yo2TbIu5v8se5Rq3UQAUmcuh4aaJwNlpKwa\", \"https://cdn.bokeh.org/bokeh/release/bokeh-widgets-2.3.1.min.js\": \"KKuas3gevv3PvrlkyCMzffFeaMq5we/a2QsP5AUoS3mJ0jmaCL7jirFJN3GoE/lM\", \"https://cdn.bokeh.org/bokeh/release/bokeh-tables-2.3.1.min.js\": \"MK/uFc3YT18pkvvXRl66tTHjP0/dxoSH2e/eiNMFIguKlun2+WVqaPTWmUy/zvh4\"};\n\n    for (let i = 0; i < js_urls.length; i++) {\n      const url = js_urls[i];\n      const element = document.createElement('script');\n      element.onload = on_load;\n      element.onerror = on_error.bind(null, url);\n      element.async = false;\n      element.src = url;\n      if (url in hashes) {\n        element.crossOrigin = \"anonymous\";\n        element.integrity = \"sha384-\" + hashes[url];\n      }\n      console.debug(\"Bokeh: injecting script tag for BokehJS library: \", url);\n      document.head.appendChild(element);\n    }\n  };\n\n  function inject_raw_css(css) {\n    const element = document.createElement(\"style\");\n    element.appendChild(document.createTextNode(css));\n    document.body.appendChild(element);\n  }\n\n  \n  var js_urls = [\"https://cdn.bokeh.org/bokeh/release/bokeh-2.3.1.min.js\", \"https://cdn.bokeh.org/bokeh/release/bokeh-widgets-2.3.1.min.js\", \"https://cdn.bokeh.org/bokeh/release/bokeh-tables-2.3.1.min.js\"];\n  var css_urls = [];\n  \n\n  var inline_js = [\n    function(Bokeh) {\n      Bokeh.set_log_level(\"info\");\n    },\n    function(Bokeh) {\n    \n    \n    }\n  ];\n\n  function run_inline_js() {\n    \n    if (root.Bokeh !== undefined || force === true) {\n      \n    for (var i = 0; i < inline_js.length; i++) {\n      inline_js[i].call(root, root.Bokeh);\n    }\n    if (force === true) {\n        display_loaded();\n      }} else if (Date.now() < root._bokeh_timeout) {\n      setTimeout(run_inline_js, 100);\n    } else if (!root._bokeh_failed_load) {\n      console.log(\"Bokeh: BokehJS failed to load within specified timeout.\");\n      root._bokeh_failed_load = true;\n    } else if (force !== true) {\n      var cell = $(document.getElementById(\"1002\")).parents('.cell').data().cell;\n      cell.output_area.append_execute_result(NB_LOAD_WARNING)\n    }\n\n  }\n\n  if (root._bokeh_is_loading === 0) {\n    console.debug(\"Bokeh: BokehJS loaded, going straight to plotting\");\n    run_inline_js();\n  } else {\n    load_libs(css_urls, js_urls, function() {\n      console.debug(\"Bokeh: BokehJS plotting callback run at\", now());\n      run_inline_js();\n    });\n  }\n}(window));"
     },
     "metadata": {},
     "output_type": "display_data"
    }
   ],
   "source": [
    "import numpy as np\n",
    "import matplotlib.pyplot as plt\n",
    "import time\n",
    "\n",
    "from bokeh.plotting import figure, show\n",
    "from bokeh.io import output_notebook, push_notebook\n",
    "from bokeh.models import ColumnDataSource, Toggle, Range1d\n",
    "from bokeh.layouts import column, row\n",
    "\n",
    "import ipywidgets as widgets\n",
    "\n",
    "import IPython\n",
    "ipython = IPython.get_ipython()\n",
    "\n",
    "output_notebook()"
   ]
  },
  {
   "cell_type": "markdown",
   "metadata": {},
   "source": [
    "# Starting point: live plot\n",
    "\n",
    "Add a stop button. Use a while loop for the event loop. "
   ]
  },
  {
   "cell_type": "code",
   "execution_count": 2,
   "metadata": {},
   "outputs": [
    {
     "data": {
      "text/html": [
       "\n",
       "\n",
       "\n",
       "\n",
       "\n",
       "\n",
       "  <div class=\"bk-root\" id=\"ebc309b7-7634-4b73-a522-10cf5197838c\" data-root-id=\"1004\"></div>\n"
      ]
     },
     "metadata": {},
     "output_type": "display_data"
    },
    {
     "data": {
      "application/javascript": [
       "(function(root) {\n",
       "  function embed_document(root) {\n",
       "    \n",
       "  var docs_json = {\"6bbeef4f-a0c6-42d0-93e5-c5686404c86d\":{\"defs\":[],\"roots\":{\"references\":[{\"attributes\":{\"below\":[{\"id\":\"1015\"}],\"center\":[{\"id\":\"1018\"},{\"id\":\"1022\"}],\"height\":300,\"left\":[{\"id\":\"1019\"}],\"renderers\":[{\"id\":\"1040\"}],\"title\":{\"id\":\"1005\"},\"toolbar\":{\"id\":\"1030\"},\"width\":500,\"x_range\":{\"id\":\"1007\"},\"x_scale\":{\"id\":\"1011\"},\"y_range\":{\"id\":\"1009\"},\"y_scale\":{\"id\":\"1013\"}},\"id\":\"1004\",\"subtype\":\"Figure\",\"type\":\"Plot\"},{\"attributes\":{\"data_source\":{\"id\":\"1003\"},\"glyph\":{\"id\":\"1038\"},\"hover_glyph\":null,\"muted_glyph\":null,\"nonselection_glyph\":{\"id\":\"1039\"},\"view\":{\"id\":\"1041\"}},\"id\":\"1040\",\"type\":\"GlyphRenderer\"},{\"attributes\":{},\"id\":\"1043\",\"type\":\"AllLabels\"},{\"attributes\":{\"line_alpha\":0.1,\"line_color\":\"#1f77b4\",\"x\":{\"field\":\"x\"},\"y\":{\"field\":\"y\"}},\"id\":\"1039\",\"type\":\"Line\"},{\"attributes\":{},\"id\":\"1007\",\"type\":\"DataRange1d\"},{\"attributes\":{},\"id\":\"1026\",\"type\":\"SaveTool\"},{\"attributes\":{},\"id\":\"1044\",\"type\":\"BasicTickFormatter\"},{\"attributes\":{\"data\":{\"x\":{\"__ndarray__\":\"AAAAAAAAJMBDYt7OkJgjwIbEvJ0hMSPAyiabbLLJIsANiXk7Q2IiwFDrVwrU+iHAk0022WSTIcDXrxSo9SshwBoS83aGxCDAXXTRRRddIMBArV8pUOsfwMdxHMdxHB/ATjbZZJNNHsDU+pUCtX4dwFq/UqDWrxzA4YMPPvjgG8BoSMzbGRIbwO4MiXk7QxrAdNFFF110GcD7lQK1fqUYwIFav1Kg1hfACB988MEHF8CO4ziO4zgWwBWo9SsFahXAm2yyySabFMAiMW9nSMwTwKj1KwVq/RLAL7rooosuEsC1fqVArV8RwDxDYt7OkBDAhA8++OCDD8CSmLczJOYNwJ4hMW9nSAzAqqqqqqqqCsC4MyTm7QwJwMS8nSExbwfA0kUXXXTRBcDezpCYtzMEwOxXCtT6lQLA+OCDDz74AMAI1PqVArX+vyjm7QyJefu/QPjggw8++L9YCtT6lQL1v3Acx3Ecx/G/IF100UUX7b9QgVq/UqDmv4ClQK1fKeC/YJNNNtlk078Ab2dIzNu5vwBvZ0jM27k/YJNNNtlk0z+ApUCtXyngP1CBWr9SoOY/EF100UUX7T9wHMdxHMfxP1gK1PqVAvU/QPjggw8++D8g5u0MiXn7PwjU+pUCtf4/+OCDDz74AEDsVwrU+pUCQNzOkJi3MwRA0EUXXXTRBUDEvJ0hMW8HQLgzJObtDAlArKqqqqqqCkCcITFvZ0gMQJCYtzMk5g1AhA8++OCDD0A8Q2LezpAQQLR+pUCtXxFALrrooosuEkCo9SsFav0SQCIxb2dIzBNAmmyyySabFEAUqPUrBWoVQI7jOI7jOBZACB988MEHF0CAWr9SoNYXQPyVArV+pRhAdNFFF110GUDsDIl5O0MaQGhIzNsZEhtA4IMPPvjgG0Bcv1Kg1q8cQNT6lQK1fh1ATDbZZJNNHkDIcRzHcRwfQECtXylQ6x9AXHTRRRddIEAaEvN2hsQgQNavFKj1KyFAlE022WSTIUBQ61cK1PohQAyJeTtDYiJAyiabbLLJIkCGxLydITEjQERi3s6QmCNAAAAAAAAAJEA=\",\"dtype\":\"float64\",\"order\":\"little\",\"shape\":[100]},\"y\":{\"__ndarray__\":\"Znd7kCuW4D8kv6rgb1rhP5KMd5xcLNc/0ON9OjuzXb9srRr/B9Szv4W5wczHHNW/l2+f+OWH5b8qKI2vinrkv+Me7z02ne+/tRi1/3LX7L8pq3ZNekbtv1usWjw8Suy/EN2jjueo67/bAJrjDuXrv5NencKK1em/xS9PqZmb5b/vOBV7Em7gvzpBa77xudG/S0WqvIlQwb90cZldKZrDP1alZTkwbcU/THhGhSmI4j8PoLj8TL7lP4DjGAj5C+o/aXyWUv+L8D9cA8LdALbwPzZZJUTdIvE/dAkB42iU6j+K9bjTMSXwP0rwNKxqdec/PNjXC+eG5D8c65xHHpTgPz5qs5KzBdU/gRds4CiNwj+5GbbCMk+8vzSpM/voxde/aVpGSC0q4L8Q2rJfRW/kv4x7mU85e+S/8qHvD3ZF8b8jq1fQ7pPxv/5s3GL8z++/E22GvDyr7r/efYZFTlbtvw5xUCu9S/C/P6QKVdZE6r8atCspBMTiv9Cz9dXRkdW/MUgL3r2O178gwuwYuUDBv2uGmQgkBsI/tGYY9CJk3T9v+OZlpcXYPwhKPjJvwOQ/4hWgrAYl6D+HP6BnmVfvP7rszhURk+k/K35Gvqd08T92Af0cCcXyPx63dZyCbPA/ejiJ7wN/6D9tGYJ1xe7iP/icwyzC7uE/i1EBP0Sw2T9sznsp0wzOP7VKwIVkLbO/OMWNoHCY0L8XcfdbUJvhvzhdKFlWdNy/ahNecw/n4L/2m00r8wvnvwRkRBWjce+/H9xPzRzg8r+M3nUxtDTsv7aasDs5cu2/m/bK5tsd8L/u4vhNdOHrv2zVeu5Gq92/nNpEvYim4b/D88X7jSPSvwZzN9qAPdO/PmpdNHuzzj9Ky50rSVzIP3X00MM4jt4/UAGli3wc3z9uncHPm5PqPzbiaeuTBe4/p/U0NEy+8T88RWGnCQvwP3WgYbxWXPE/cYlb1u9Q7D+jLM8SBKvrP7JEj7dbtOM/g6kHlpRM5T9drsBl6qXIP9evQEnOxto/tkuKOdH3wr/2TEibU5y2vzSE1mW7S8+/G/fCHRIn4b8=\",\"dtype\":\"float64\",\"order\":\"little\",\"shape\":[100]}},\"selected\":{\"id\":\"1050\"},\"selection_policy\":{\"id\":\"1049\"}},\"id\":\"1003\",\"type\":\"ColumnDataSource\"},{\"attributes\":{},\"id\":\"1024\",\"type\":\"WheelZoomTool\"},{\"attributes\":{\"text\":\"test\"},\"id\":\"1005\",\"type\":\"Title\"},{\"attributes\":{},\"id\":\"1023\",\"type\":\"PanTool\"},{\"attributes\":{},\"id\":\"1046\",\"type\":\"AllLabels\"},{\"attributes\":{\"axis\":{\"id\":\"1015\"},\"ticker\":null},\"id\":\"1018\",\"type\":\"Grid\"},{\"attributes\":{},\"id\":\"1047\",\"type\":\"BasicTickFormatter\"},{\"attributes\":{},\"id\":\"1049\",\"type\":\"UnionRenderers\"},{\"attributes\":{},\"id\":\"1028\",\"type\":\"HelpTool\"},{\"attributes\":{},\"id\":\"1050\",\"type\":\"Selection\"},{\"attributes\":{},\"id\":\"1009\",\"type\":\"DataRange1d\"},{\"attributes\":{},\"id\":\"1027\",\"type\":\"ResetTool\"},{\"attributes\":{},\"id\":\"1011\",\"type\":\"LinearScale\"},{\"attributes\":{\"overlay\":{\"id\":\"1029\"}},\"id\":\"1025\",\"type\":\"BoxZoomTool\"},{\"attributes\":{\"active_multi\":null,\"tools\":[{\"id\":\"1023\"},{\"id\":\"1024\"},{\"id\":\"1025\"},{\"id\":\"1026\"},{\"id\":\"1027\"},{\"id\":\"1028\"}]},\"id\":\"1030\",\"type\":\"Toolbar\"},{\"attributes\":{},\"id\":\"1016\",\"type\":\"BasicTicker\"},{\"attributes\":{},\"id\":\"1020\",\"type\":\"BasicTicker\"},{\"attributes\":{},\"id\":\"1013\",\"type\":\"LinearScale\"},{\"attributes\":{\"formatter\":{\"id\":\"1044\"},\"major_label_policy\":{\"id\":\"1043\"},\"ticker\":{\"id\":\"1020\"}},\"id\":\"1019\",\"type\":\"LinearAxis\"},{\"attributes\":{\"axis\":{\"id\":\"1019\"},\"dimension\":1,\"ticker\":null},\"id\":\"1022\",\"type\":\"Grid\"},{\"attributes\":{\"formatter\":{\"id\":\"1047\"},\"major_label_policy\":{\"id\":\"1046\"},\"ticker\":{\"id\":\"1016\"}},\"id\":\"1015\",\"type\":\"LinearAxis\"},{\"attributes\":{\"bottom_units\":\"screen\",\"fill_alpha\":0.5,\"fill_color\":\"lightgrey\",\"left_units\":\"screen\",\"level\":\"overlay\",\"line_alpha\":1.0,\"line_color\":\"black\",\"line_dash\":[4,4],\"line_width\":2,\"right_units\":\"screen\",\"syncable\":false,\"top_units\":\"screen\"},\"id\":\"1029\",\"type\":\"BoxAnnotation\"},{\"attributes\":{\"source\":{\"id\":\"1003\"}},\"id\":\"1041\",\"type\":\"CDSView\"},{\"attributes\":{\"line_color\":\"#1f77b4\",\"x\":{\"field\":\"x\"},\"y\":{\"field\":\"y\"}},\"id\":\"1038\",\"type\":\"Line\"}],\"root_ids\":[\"1004\"]},\"title\":\"Bokeh Application\",\"version\":\"2.3.1\"}};\n",
       "  var render_items = [{\"docid\":\"6bbeef4f-a0c6-42d0-93e5-c5686404c86d\",\"notebook_comms_target\":\"1052\",\"root_ids\":[\"1004\"],\"roots\":{\"1004\":\"ebc309b7-7634-4b73-a522-10cf5197838c\"}}];\n",
       "  root.Bokeh.embed.embed_items_notebook(docs_json, render_items);\n",
       "\n",
       "  }\n",
       "  if (root.Bokeh !== undefined) {\n",
       "    embed_document(root);\n",
       "  } else {\n",
       "    var attempts = 0;\n",
       "    var timer = setInterval(function(root) {\n",
       "      if (root.Bokeh !== undefined) {\n",
       "        clearInterval(timer);\n",
       "        embed_document(root);\n",
       "      } else {\n",
       "        attempts++;\n",
       "        if (attempts > 100) {\n",
       "          clearInterval(timer);\n",
       "          console.log(\"Bokeh: ERROR: Unable to run BokehJS code because BokehJS library is missing\");\n",
       "        }\n",
       "      }\n",
       "    }, 10, root)\n",
       "  }\n",
       "})(window);"
      ],
      "application/vnd.bokehjs_exec.v0+json": ""
     },
     "metadata": {
      "application/vnd.bokehjs_exec.v0+json": {
       "id": "1004"
      }
     },
     "output_type": "display_data"
    },
    {
     "data": {
      "application/vnd.jupyter.widget-view+json": {
       "model_id": "e611e8e56bb14fb5bf0daa39a78868bc",
       "version_major": 2,
       "version_minor": 0
      },
      "text/plain": [
       "ToggleButton(value=False, description='Stop')"
      ]
     },
     "metadata": {},
     "output_type": "display_data"
    }
   ],
   "source": [
    "x = np.linspace(-10,10,100)\n",
    "def f(x):\n",
    "    return np.sin(x)+np.random.normal(size=len(x))*0.1\n",
    "\n",
    "source = ColumnDataSource()\n",
    "source.data = dict(x=x, y=f(x))\n",
    "\n",
    "p = figure(title=\"test\", plot_height=300, plot_width=500)\n",
    "l = p.line('x', 'y', source=source)\n",
    "target = show(p, notebook_handle=True)\n",
    "\n",
    "stop_button = widgets.ToggleButton(description='Stop')\n",
    "display(stop_button)\n",
    "\n",
    "while True:\n",
    "    ipython.kernel.do_one_iteration()\n",
    "    if stop_button.value:\n",
    "        break \n",
    "    l.data_source.data['y'] = f(x)\n",
    "    push_notebook(handle=target)\n",
    "    time.sleep(0.01)"
   ]
  },
  {
   "cell_type": "markdown",
   "metadata": {},
   "source": [
    "# Plot to fill output width\n",
    "\n",
    "Seems to be controlled by a parameter `sizing_mode`, which can be specified by a single plot or by a row/column/grid container? \n",
    "\n",
    "https://docs.bokeh.org/en/latest/docs/reference/layouts.html\n"
   ]
  },
  {
   "cell_type": "code",
   "execution_count": 4,
   "metadata": {},
   "outputs": [
    {
     "data": {
      "text/html": [
       "\n",
       "\n",
       "\n",
       "\n",
       "\n",
       "\n",
       "  <div class=\"bk-root\" id=\"accb7db1-1609-4940-86e5-62b2b451ffc1\" data-root-id=\"1524\"></div>\n"
      ]
     },
     "metadata": {},
     "output_type": "display_data"
    },
    {
     "data": {
      "application/javascript": [
       "(function(root) {\n",
       "  function embed_document(root) {\n",
       "    \n",
       "  var docs_json = {\"aa67b3b4-358f-4d14-aa08-e9b4fc7c4685\":{\"defs\":[],\"roots\":{\"references\":[{\"attributes\":{\"below\":[{\"id\":\"1535\"}],\"center\":[{\"id\":\"1538\"},{\"id\":\"1542\"}],\"height\":300,\"left\":[{\"id\":\"1539\"}],\"renderers\":[{\"id\":\"1560\"}],\"title\":{\"id\":\"1525\"},\"toolbar\":{\"id\":\"1550\"},\"x_range\":{\"id\":\"1527\"},\"x_scale\":{\"id\":\"1531\"},\"y_range\":{\"id\":\"1529\"},\"y_scale\":{\"id\":\"1533\"}},\"id\":\"1524\",\"subtype\":\"Figure\",\"type\":\"Plot\"},{\"attributes\":{\"axis\":{\"id\":\"1539\"},\"dimension\":1,\"ticker\":null},\"id\":\"1542\",\"type\":\"Grid\"},{\"attributes\":{},\"id\":\"1548\",\"type\":\"HelpTool\"},{\"attributes\":{},\"id\":\"1547\",\"type\":\"ResetTool\"},{\"attributes\":{},\"id\":\"1529\",\"type\":\"DataRange1d\"},{\"attributes\":{},\"id\":\"1573\",\"type\":\"BasicTickFormatter\"},{\"attributes\":{\"data\":{\"x\":{\"__ndarray__\":\"AAAAAAAAJMBDYt7OkJgjwIbEvJ0hMSPAyiabbLLJIsANiXk7Q2IiwFDrVwrU+iHAk0022WSTIcDXrxSo9SshwBoS83aGxCDAXXTRRRddIMBArV8pUOsfwMdxHMdxHB/ATjbZZJNNHsDU+pUCtX4dwFq/UqDWrxzA4YMPPvjgG8BoSMzbGRIbwO4MiXk7QxrAdNFFF110GcD7lQK1fqUYwIFav1Kg1hfACB988MEHF8CO4ziO4zgWwBWo9SsFahXAm2yyySabFMAiMW9nSMwTwKj1KwVq/RLAL7rooosuEsC1fqVArV8RwDxDYt7OkBDAhA8++OCDD8CSmLczJOYNwJ4hMW9nSAzAqqqqqqqqCsC4MyTm7QwJwMS8nSExbwfA0kUXXXTRBcDezpCYtzMEwOxXCtT6lQLA+OCDDz74AMAI1PqVArX+vyjm7QyJefu/QPjggw8++L9YCtT6lQL1v3Acx3Ecx/G/IF100UUX7b9QgVq/UqDmv4ClQK1fKeC/YJNNNtlk078Ab2dIzNu5vwBvZ0jM27k/YJNNNtlk0z+ApUCtXyngP1CBWr9SoOY/EF100UUX7T9wHMdxHMfxP1gK1PqVAvU/QPjggw8++D8g5u0MiXn7PwjU+pUCtf4/+OCDDz74AEDsVwrU+pUCQNzOkJi3MwRA0EUXXXTRBUDEvJ0hMW8HQLgzJObtDAlArKqqqqqqCkCcITFvZ0gMQJCYtzMk5g1AhA8++OCDD0A8Q2LezpAQQLR+pUCtXxFALrrooosuEkCo9SsFav0SQCIxb2dIzBNAmmyyySabFEAUqPUrBWoVQI7jOI7jOBZACB988MEHF0CAWr9SoNYXQPyVArV+pRhAdNFFF110GUDsDIl5O0MaQGhIzNsZEhtA4IMPPvjgG0Bcv1Kg1q8cQNT6lQK1fh1ATDbZZJNNHkDIcRzHcRwfQECtXylQ6x9AXHTRRRddIEAaEvN2hsQgQNavFKj1KyFAlE022WSTIUBQ61cK1PohQAyJeTtDYiJAyiabbLLJIkCGxLydITEjQERi3s6QmCNAAAAAAAAAJEA=\",\"dtype\":\"float64\",\"order\":\"little\",\"shape\":[100]},\"y\":{\"__ndarray__\":\"BGg5UyH83D+sIRoJj3zcP7HgK/5nFtE/t/mz05Xhsb8V3HJMVmfev1K8T45bFNK/Q8a+gt0D5L+otslJZAblv1PCT8pjP+2/qt0/yy6777+fvi3Rm53xv155lDLd3e+/a8CEtAiT67/6mHkvUJjvv/o5iu79NOq/D4OEW8hi5r9HRdvmKCXVvwYa6adSj9m/xxfhzLy+pr+cAEtCO3aaP4oYnIff998/7FD843eO2z9OCWMmLhHiP7eLux4m1ek/5FtYGVSK6T/9d+IkQTTwP++6zJ8rF/Q/ToPvx+bi7T9msPSRkDzrP1MyMutAA+c/20m8HShR4j8p505OQGPrP27EVURWTNw/XdtuMVMwzD/2ODboJCi7P6XjaexoOsG/Mn53Jz8a2L8pOfyFP9jgvzm8Qa0MfuW/WV3OR27x5r9hqdYHlNzuv3x5HQdVi+y/PVkeWfNx778aMMn6tX7wv8iN2+IY2uu/sLpLONzC8L/IaLnem3zsvwjaky2nDt6/VJvFvqLAx79q+By5LobDv3fvZN0tg7c/ax2zpgzA1D+Zw3Br777jP5DZfFW0yeQ/4iEmpLVg4T9/KBr6j0/uPyPymKrWg+4/1A7nBbfY7z+P6a15VALwPzZ2r+8GEes/LzVSyEqv7D+K5IpE6K/jP1rcg5sKfuU/0Cp1sKWy2D/KVYGqWevPP+RVYsYMSao/VuxJcNOt07+L12Esj83Vv+jXzRORhNO/b/1ha8a6579BP9P4OVXuv96WNhvycPC/UPYft/V86b+mOFKXtxjsv4SPzLlap+2/PTjtLvle7r8/cnHMMU7ovxJxJoJOp+S/hDR3bsE74r/1q2U/bRTMv1CbHpppZMO/5slcMtCErr9G5z7lpUzKP0LKykvv+to/JU+EH7t+5T+3TVFn2zzlPwBMR5KqK+k/QVkh/Bd17j/WBJ5muxbtPyr9R5QMou8/lGVa4lYS7z/8WaYGAk3uP3Lf1IXX8+Y/vpzVWRnA5j9KR+RGkXXbP5inbRVU+LI/prjgJx0Ijb/4Vqt1DaS2v6hf4g91RtC/i1lYmIFe478=\",\"dtype\":\"float64\",\"order\":\"little\",\"shape\":[100]}},\"selected\":{\"id\":\"1580\"},\"selection_policy\":{\"id\":\"1581\"}},\"id\":\"1523\",\"type\":\"ColumnDataSource\"},{\"attributes\":{},\"id\":\"1527\",\"type\":\"DataRange1d\"},{\"attributes\":{\"line_alpha\":0.1,\"line_color\":\"#1f77b4\",\"x\":{\"field\":\"x\"},\"y\":{\"field\":\"y\"}},\"id\":\"1559\",\"type\":\"Line\"},{\"attributes\":{\"source\":{\"id\":\"1523\"}},\"id\":\"1561\",\"type\":\"CDSView\"},{\"attributes\":{},\"id\":\"1543\",\"type\":\"PanTool\"},{\"attributes\":{\"overlay\":{\"id\":\"1549\"}},\"id\":\"1545\",\"type\":\"BoxZoomTool\"},{\"attributes\":{},\"id\":\"1536\",\"type\":\"BasicTicker\"},{\"attributes\":{\"bottom_units\":\"screen\",\"fill_alpha\":0.5,\"fill_color\":\"lightgrey\",\"left_units\":\"screen\",\"level\":\"overlay\",\"line_alpha\":1.0,\"line_color\":\"black\",\"line_dash\":[4,4],\"line_width\":2,\"right_units\":\"screen\",\"syncable\":false,\"top_units\":\"screen\"},\"id\":\"1549\",\"type\":\"BoxAnnotation\"},{\"attributes\":{\"data_source\":{\"id\":\"1523\"},\"glyph\":{\"id\":\"1558\"},\"hover_glyph\":null,\"muted_glyph\":null,\"nonselection_glyph\":{\"id\":\"1559\"},\"view\":{\"id\":\"1561\"}},\"id\":\"1560\",\"type\":\"GlyphRenderer\"},{\"attributes\":{},\"id\":\"1576\",\"type\":\"BasicTickFormatter\"},{\"attributes\":{\"text\":\"test\"},\"id\":\"1525\",\"type\":\"Title\"},{\"attributes\":{},\"id\":\"1581\",\"type\":\"UnionRenderers\"},{\"attributes\":{},\"id\":\"1531\",\"type\":\"LinearScale\"},{\"attributes\":{},\"id\":\"1544\",\"type\":\"WheelZoomTool\"},{\"attributes\":{\"axis\":{\"id\":\"1535\"},\"ticker\":null},\"id\":\"1538\",\"type\":\"Grid\"},{\"attributes\":{},\"id\":\"1533\",\"type\":\"LinearScale\"},{\"attributes\":{\"line_color\":\"#1f77b4\",\"x\":{\"field\":\"x\"},\"y\":{\"field\":\"y\"}},\"id\":\"1558\",\"type\":\"Line\"},{\"attributes\":{},\"id\":\"1580\",\"type\":\"Selection\"},{\"attributes\":{\"formatter\":{\"id\":\"1576\"},\"major_label_policy\":{\"id\":\"1577\"},\"ticker\":{\"id\":\"1540\"}},\"id\":\"1539\",\"type\":\"LinearAxis\"},{\"attributes\":{},\"id\":\"1574\",\"type\":\"AllLabels\"},{\"attributes\":{\"active_multi\":null,\"tools\":[{\"id\":\"1543\"},{\"id\":\"1544\"},{\"id\":\"1545\"},{\"id\":\"1546\"},{\"id\":\"1547\"},{\"id\":\"1548\"}]},\"id\":\"1550\",\"type\":\"Toolbar\"},{\"attributes\":{},\"id\":\"1577\",\"type\":\"AllLabels\"},{\"attributes\":{},\"id\":\"1540\",\"type\":\"BasicTicker\"},{\"attributes\":{},\"id\":\"1546\",\"type\":\"SaveTool\"},{\"attributes\":{\"formatter\":{\"id\":\"1573\"},\"major_label_policy\":{\"id\":\"1574\"},\"ticker\":{\"id\":\"1536\"}},\"id\":\"1535\",\"type\":\"LinearAxis\"}],\"root_ids\":[\"1524\"]},\"title\":\"Bokeh Application\",\"version\":\"2.3.1\"}};\n",
       "  var render_items = [{\"docid\":\"aa67b3b4-358f-4d14-aa08-e9b4fc7c4685\",\"notebook_comms_target\":\"1582\",\"root_ids\":[\"1524\"],\"roots\":{\"1524\":\"accb7db1-1609-4940-86e5-62b2b451ffc1\"}}];\n",
       "  root.Bokeh.embed.embed_items_notebook(docs_json, render_items);\n",
       "\n",
       "  }\n",
       "  if (root.Bokeh !== undefined) {\n",
       "    embed_document(root);\n",
       "  } else {\n",
       "    var attempts = 0;\n",
       "    var timer = setInterval(function(root) {\n",
       "      if (root.Bokeh !== undefined) {\n",
       "        clearInterval(timer);\n",
       "        embed_document(root);\n",
       "      } else {\n",
       "        attempts++;\n",
       "        if (attempts > 100) {\n",
       "          clearInterval(timer);\n",
       "          console.log(\"Bokeh: ERROR: Unable to run BokehJS code because BokehJS library is missing\");\n",
       "        }\n",
       "      }\n",
       "    }, 10, root)\n",
       "  }\n",
       "})(window);"
      ],
      "application/vnd.bokehjs_exec.v0+json": ""
     },
     "metadata": {
      "application/vnd.bokehjs_exec.v0+json": {
       "id": "1524"
      }
     },
     "output_type": "display_data"
    },
    {
     "data": {
      "application/vnd.jupyter.widget-view+json": {
       "model_id": "2d9d9526cc67498dac985a58e0b55aa2",
       "version_major": 2,
       "version_minor": 0
      },
      "text/plain": [
       "ToggleButton(value=False, description='Stop')"
      ]
     },
     "metadata": {},
     "output_type": "display_data"
    }
   ],
   "source": [
    "x = np.linspace(-10,10,100)\n",
    "def f(x):\n",
    "    return np.sin(x)+np.random.normal(size=len(x))*0.1\n",
    "\n",
    "source = ColumnDataSource()\n",
    "source.data = dict(x=x, y=f(x))\n",
    "\n",
    "p = figure(title=\"test\", height=300, width=600)\n",
    "l = p.line('x', 'y', source=source)\n",
    "target = show(p, notebook_handle=True)\n",
    "\n",
    "# This one make sense, it is not so 100% clear what the height should be\n",
    "# in an output cell...?\n",
    "p.sizing_mode = \"stretch_width\"\n",
    "\n",
    "# This is also a good option\n",
    "p.sizing_mode = \"scale_width\"\n",
    "\n",
    "stop_button = widgets.ToggleButton(description='Stop')\n",
    "display(stop_button)\n",
    "\n",
    "while True:\n",
    "    ipython.kernel.do_one_iteration()\n",
    "    if stop_button.value:\n",
    "        break \n",
    "    l.data_source.data['y'] = f(x)\n",
    "    push_notebook(handle=target)\n",
    "    time.sleep(0.01)"
   ]
  },
  {
   "cell_type": "markdown",
   "metadata": {},
   "source": [
    "# Now with columns"
   ]
  },
  {
   "cell_type": "code",
   "execution_count": 50,
   "metadata": {},
   "outputs": [
    {
     "data": {
      "text/html": [
       "\n",
       "\n",
       "\n",
       "\n",
       "\n",
       "\n",
       "  <div class=\"bk-root\" id=\"c7e5e18d-731d-49ca-8ac0-8ff3bbc022ae\" data-root-id=\"109360\"></div>\n"
      ]
     },
     "metadata": {},
     "output_type": "display_data"
    },
    {
     "data": {
      "application/javascript": [
       "(function(root) {\n",
       "  function embed_document(root) {\n",
       "    \n",
       "  var docs_json = {\"229cc2a1-83d5-42ff-82fe-89dd43c40f55\":{\"defs\":[],\"roots\":{\"references\":[{\"attributes\":{\"children\":[{\"id\":\"109284\"},{\"id\":\"109322\"}],\"sizing_mode\":\"scale_width\"},\"id\":\"109360\",\"type\":\"Row\"},{\"attributes\":{\"data_source\":{\"id\":\"109283\"},\"glyph\":{\"id\":\"109318\"},\"hover_glyph\":null,\"muted_glyph\":null,\"nonselection_glyph\":{\"id\":\"109319\"},\"view\":{\"id\":\"109321\"}},\"id\":\"109320\",\"type\":\"GlyphRenderer\"},{\"attributes\":{\"text\":\"test\"},\"id\":\"109285\",\"type\":\"Title\"},{\"attributes\":{},\"id\":\"109325\",\"type\":\"DataRange1d\"},{\"attributes\":{\"bottom_units\":\"screen\",\"fill_alpha\":0.5,\"fill_color\":\"lightgrey\",\"left_units\":\"screen\",\"level\":\"overlay\",\"line_alpha\":1.0,\"line_color\":\"black\",\"line_dash\":[4,4],\"line_width\":2,\"right_units\":\"screen\",\"syncable\":false,\"top_units\":\"screen\"},\"id\":\"109347\",\"type\":\"BoxAnnotation\"},{\"attributes\":{\"below\":[{\"id\":\"109295\"}],\"center\":[{\"id\":\"109298\"},{\"id\":\"109302\"}],\"height\":300,\"left\":[{\"id\":\"109299\"}],\"renderers\":[{\"id\":\"109320\"}],\"sizing_mode\":\"scale_width\",\"title\":{\"id\":\"109285\"},\"toolbar\":{\"id\":\"109310\"},\"x_range\":{\"id\":\"109287\"},\"x_scale\":{\"id\":\"109291\"},\"y_range\":{\"id\":\"109289\"},\"y_scale\":{\"id\":\"109293\"}},\"id\":\"109284\",\"subtype\":\"Figure\",\"type\":\"Plot\"},{\"attributes\":{\"active_multi\":null,\"tools\":[{\"id\":\"109341\"},{\"id\":\"109342\"},{\"id\":\"109343\"},{\"id\":\"109344\"},{\"id\":\"109345\"},{\"id\":\"109346\"}]},\"id\":\"109348\",\"type\":\"Toolbar\"},{\"attributes\":{\"line_alpha\":0.1,\"line_color\":\"#1f77b4\",\"x\":{\"field\":\"x\"},\"y\":{\"field\":\"y\"}},\"id\":\"109319\",\"type\":\"Line\"},{\"attributes\":{},\"id\":\"110001\",\"type\":\"UnionRenderers\"},{\"attributes\":{},\"id\":\"109329\",\"type\":\"LinearScale\"},{\"attributes\":{\"formatter\":{\"id\":\"110000\"},\"major_label_policy\":{\"id\":\"109998\"},\"ticker\":{\"id\":\"109334\"}},\"id\":\"109333\",\"type\":\"LinearAxis\"},{\"attributes\":{},\"id\":\"109989\",\"type\":\"AllLabels\"},{\"attributes\":{},\"id\":\"109345\",\"type\":\"ResetTool\"},{\"attributes\":{\"axis\":{\"id\":\"109299\"},\"dimension\":1,\"ticker\":null},\"id\":\"109302\",\"type\":\"Grid\"},{\"attributes\":{},\"id\":\"109994\",\"type\":\"BasicTickFormatter\"},{\"attributes\":{},\"id\":\"109327\",\"type\":\"DataRange1d\"},{\"attributes\":{},\"id\":\"109287\",\"type\":\"DataRange1d\"},{\"attributes\":{},\"id\":\"109303\",\"type\":\"PanTool\"},{\"attributes\":{\"below\":[{\"id\":\"109333\"}],\"center\":[{\"id\":\"109336\"},{\"id\":\"109340\"}],\"height\":300,\"left\":[{\"id\":\"109337\"}],\"renderers\":[{\"id\":\"109358\"}],\"sizing_mode\":\"scale_width\",\"title\":{\"id\":\"109323\"},\"toolbar\":{\"id\":\"109348\"},\"x_range\":{\"id\":\"109325\"},\"x_scale\":{\"id\":\"109329\"},\"y_range\":{\"id\":\"109327\"},\"y_scale\":{\"id\":\"109331\"}},\"id\":\"109322\",\"subtype\":\"Figure\",\"type\":\"Plot\"},{\"attributes\":{},\"id\":\"109338\",\"type\":\"BasicTicker\"},{\"attributes\":{},\"id\":\"109308\",\"type\":\"HelpTool\"},{\"attributes\":{\"overlay\":{\"id\":\"109347\"}},\"id\":\"109343\",\"type\":\"BoxZoomTool\"},{\"attributes\":{\"formatter\":{\"id\":\"109994\"},\"major_label_policy\":{\"id\":\"109992\"},\"ticker\":{\"id\":\"109296\"}},\"id\":\"109295\",\"type\":\"LinearAxis\"},{\"attributes\":{},\"id\":\"109334\",\"type\":\"BasicTicker\"},{\"attributes\":{\"active_multi\":null,\"tools\":[{\"id\":\"109303\"},{\"id\":\"109304\"},{\"id\":\"109305\"},{\"id\":\"109306\"},{\"id\":\"109307\"},{\"id\":\"109308\"}]},\"id\":\"109310\",\"type\":\"Toolbar\"},{\"attributes\":{},\"id\":\"110000\",\"type\":\"BasicTickFormatter\"},{\"attributes\":{},\"id\":\"110002\",\"type\":\"Selection\"},{\"attributes\":{\"line_color\":\"#1f77b4\",\"x\":{\"field\":\"x\"},\"y\":{\"field\":\"y\"}},\"id\":\"109318\",\"type\":\"Line\"},{\"attributes\":{\"line_alpha\":0.1,\"line_color\":\"#1f77b4\",\"x\":{\"field\":\"x\"},\"y\":{\"field\":\"y\"}},\"id\":\"109357\",\"type\":\"Line\"},{\"attributes\":{},\"id\":\"109995\",\"type\":\"AllLabels\"},{\"attributes\":{},\"id\":\"109344\",\"type\":\"SaveTool\"},{\"attributes\":{\"axis\":{\"id\":\"109295\"},\"ticker\":null},\"id\":\"109298\",\"type\":\"Grid\"},{\"attributes\":{},\"id\":\"109997\",\"type\":\"BasicTickFormatter\"},{\"attributes\":{},\"id\":\"109291\",\"type\":\"LinearScale\"},{\"attributes\":{},\"id\":\"109300\",\"type\":\"BasicTicker\"},{\"attributes\":{\"axis\":{\"id\":\"109337\"},\"dimension\":1,\"ticker\":null},\"id\":\"109340\",\"type\":\"Grid\"},{\"attributes\":{},\"id\":\"109991\",\"type\":\"BasicTickFormatter\"},{\"attributes\":{},\"id\":\"109342\",\"type\":\"WheelZoomTool\"},{\"attributes\":{},\"id\":\"109346\",\"type\":\"HelpTool\"},{\"attributes\":{\"source\":{\"id\":\"109283\"}},\"id\":\"109321\",\"type\":\"CDSView\"},{\"attributes\":{},\"id\":\"109992\",\"type\":\"AllLabels\"},{\"attributes\":{},\"id\":\"109998\",\"type\":\"AllLabels\"},{\"attributes\":{\"bottom_units\":\"screen\",\"fill_alpha\":0.5,\"fill_color\":\"lightgrey\",\"left_units\":\"screen\",\"level\":\"overlay\",\"line_alpha\":1.0,\"line_color\":\"black\",\"line_dash\":[4,4],\"line_width\":2,\"right_units\":\"screen\",\"syncable\":false,\"top_units\":\"screen\"},\"id\":\"109309\",\"type\":\"BoxAnnotation\"},{\"attributes\":{},\"id\":\"109293\",\"type\":\"LinearScale\"},{\"attributes\":{},\"id\":\"109304\",\"type\":\"WheelZoomTool\"},{\"attributes\":{\"source\":{\"id\":\"109283\"}},\"id\":\"109359\",\"type\":\"CDSView\"},{\"attributes\":{},\"id\":\"109341\",\"type\":\"PanTool\"},{\"attributes\":{\"data\":{\"x\":{\"__ndarray__\":\"AAAAAAAAJMBDYt7OkJgjwIbEvJ0hMSPAyiabbLLJIsANiXk7Q2IiwFDrVwrU+iHAk0022WSTIcDXrxSo9SshwBoS83aGxCDAXXTRRRddIMBArV8pUOsfwMdxHMdxHB/ATjbZZJNNHsDU+pUCtX4dwFq/UqDWrxzA4YMPPvjgG8BoSMzbGRIbwO4MiXk7QxrAdNFFF110GcD7lQK1fqUYwIFav1Kg1hfACB988MEHF8CO4ziO4zgWwBWo9SsFahXAm2yyySabFMAiMW9nSMwTwKj1KwVq/RLAL7rooosuEsC1fqVArV8RwDxDYt7OkBDAhA8++OCDD8CSmLczJOYNwJ4hMW9nSAzAqqqqqqqqCsC4MyTm7QwJwMS8nSExbwfA0kUXXXTRBcDezpCYtzMEwOxXCtT6lQLA+OCDDz74AMAI1PqVArX+vyjm7QyJefu/QPjggw8++L9YCtT6lQL1v3Acx3Ecx/G/IF100UUX7b9QgVq/UqDmv4ClQK1fKeC/YJNNNtlk078Ab2dIzNu5vwBvZ0jM27k/YJNNNtlk0z+ApUCtXyngP1CBWr9SoOY/EF100UUX7T9wHMdxHMfxP1gK1PqVAvU/QPjggw8++D8g5u0MiXn7PwjU+pUCtf4/+OCDDz74AEDsVwrU+pUCQNzOkJi3MwRA0EUXXXTRBUDEvJ0hMW8HQLgzJObtDAlArKqqqqqqCkCcITFvZ0gMQJCYtzMk5g1AhA8++OCDD0A8Q2LezpAQQLR+pUCtXxFALrrooosuEkCo9SsFav0SQCIxb2dIzBNAmmyyySabFEAUqPUrBWoVQI7jOI7jOBZACB988MEHF0CAWr9SoNYXQPyVArV+pRhAdNFFF110GUDsDIl5O0MaQGhIzNsZEhtA4IMPPvjgG0Bcv1Kg1q8cQNT6lQK1fh1ATDbZZJNNHkDIcRzHcRwfQECtXylQ6x9AXHTRRRddIEAaEvN2hsQgQNavFKj1KyFAlE022WSTIUBQ61cK1PohQAyJeTtDYiJAyiabbLLJIkCGxLydITEjQERi3s6QmCNAAAAAAAAAJEA=\",\"dtype\":\"float64\",\"order\":\"little\",\"shape\":[100]},\"y\":{\"__ndarray__\":\"fhi5lkK03z/dqnRmMfLRP/x4HIMPmcQ/UpwpXgZcgT95D4qNL3bIv3HQigAHJOC/d4T1WV0O4L+s+o18/Rbqv+QNWFK0Y+2/aZ072O3U6r8Ip3+AZyjxvwUjepz8B/O/d/Kc+DkA6r+SEKG7uB7wv+0WFzrAyum/XYoxI+Wc57/ucwEzHJDivw+cSw0gZtC//BHxaDMYw78UOiFk6OPAP2qe0tjQkdc/vnCQZdbT4T85zPFzsD3jP/FRqd1BTOo/AZrGpukO7z/vC/xX1KvwP6XTwU+FvPE/Lzg4iHN66j8W2zxDHZ3rPwXRT1k+gOk/TdHr88LD6T/8nVKng2DfPzg6ZSPKVts/R0A++CH41j/Ws+Wgar96vyXDlE2P/Li/OlSlQ81R2b8ZI3InsSXfvxi2dBQ7zOW/hm5rr3PC6r9ZdqnFTUHtv6O+EXqGnem/GVSM6AsG8L9Rj5e9+1nwv6QPuqOg8eu/0yvxNqVZ6b9z4fUB+cTkv5If7COsb+O/eRbtIQfs0r+INBMPxIG9v2zIOVCZg56/5EZzmthS1j/IdbSy4vTUP2KYTUCLC+A/cmF1U7Gt5z8uyBOTKEjqP747LIWCT/I/h676SqNG8z9uUny+GkPvPz/81yN2YfA/iFLCKGeh7j8chtsLbXfnP6CNnVyrJOA//+8liBkQ3T8gdt3kRsiOPxiSPIqt1sc/2TdKf6tfz7+EI5aH57Div7O0yk88LOa/l7HpM7Pk5L/akO51r4/wv3aHw6vpLeu/o97y0zXK7b8NJbZ45+Duv3KLwRs8o+e/lHV2pXq48b/Iz+vovEjpv8eR/W1Z1+S/u8Yr8daN4L9EykWJ92vbv7An+iJAdn2/tiPpLOA1wL85S06OiKLeP2I5LV80gN8/ft7kfLf85T/XGdQKj0znPxGmx5vCdew/jKYOjla28D+3WSblphfwPx0LV5cOWvA/Q+IjOuNP7z8rSOBKAwftP3PwfbgE2Ok/YOqSAlFP2D9shFoFJ73eP9r0CHB889Q/YfidUd+gnL9U5AYl6Gm1v90pL8Yz/te/yH6hBxhb178=\",\"dtype\":\"float64\",\"order\":\"little\",\"shape\":[100]}},\"selected\":{\"id\":\"110002\"},\"selection_policy\":{\"id\":\"110001\"}},\"id\":\"109283\",\"type\":\"ColumnDataSource\"},{\"attributes\":{\"formatter\":{\"id\":\"109997\"},\"major_label_policy\":{\"id\":\"109995\"},\"ticker\":{\"id\":\"109338\"}},\"id\":\"109337\",\"type\":\"LinearAxis\"},{\"attributes\":{},\"id\":\"109307\",\"type\":\"ResetTool\"},{\"attributes\":{},\"id\":\"109296\",\"type\":\"BasicTicker\"},{\"attributes\":{\"axis\":{\"id\":\"109333\"},\"ticker\":null},\"id\":\"109336\",\"type\":\"Grid\"},{\"attributes\":{\"overlay\":{\"id\":\"109309\"}},\"id\":\"109305\",\"type\":\"BoxZoomTool\"},{\"attributes\":{},\"id\":\"109306\",\"type\":\"SaveTool\"},{\"attributes\":{\"formatter\":{\"id\":\"109991\"},\"major_label_policy\":{\"id\":\"109989\"},\"ticker\":{\"id\":\"109300\"}},\"id\":\"109299\",\"type\":\"LinearAxis\"},{\"attributes\":{\"data_source\":{\"id\":\"109283\"},\"glyph\":{\"id\":\"109356\"},\"hover_glyph\":null,\"muted_glyph\":null,\"nonselection_glyph\":{\"id\":\"109357\"},\"view\":{\"id\":\"109359\"}},\"id\":\"109358\",\"type\":\"GlyphRenderer\"},{\"attributes\":{},\"id\":\"109331\",\"type\":\"LinearScale\"},{\"attributes\":{\"line_color\":\"#1f77b4\",\"x\":{\"field\":\"x\"},\"y\":{\"field\":\"y\"}},\"id\":\"109356\",\"type\":\"Line\"},{\"attributes\":{},\"id\":\"109289\",\"type\":\"DataRange1d\"},{\"attributes\":{\"text\":\"test\"},\"id\":\"109323\",\"type\":\"Title\"}],\"root_ids\":[\"109360\"]},\"title\":\"Bokeh Application\",\"version\":\"2.3.1\"}};\n",
       "  var render_items = [{\"docid\":\"229cc2a1-83d5-42ff-82fe-89dd43c40f55\",\"notebook_comms_target\":\"110005\",\"root_ids\":[\"109360\"],\"roots\":{\"109360\":\"c7e5e18d-731d-49ca-8ac0-8ff3bbc022ae\"}}];\n",
       "  root.Bokeh.embed.embed_items_notebook(docs_json, render_items);\n",
       "\n",
       "  }\n",
       "  if (root.Bokeh !== undefined) {\n",
       "    embed_document(root);\n",
       "  } else {\n",
       "    var attempts = 0;\n",
       "    var timer = setInterval(function(root) {\n",
       "      if (root.Bokeh !== undefined) {\n",
       "        clearInterval(timer);\n",
       "        embed_document(root);\n",
       "      } else {\n",
       "        attempts++;\n",
       "        if (attempts > 100) {\n",
       "          clearInterval(timer);\n",
       "          console.log(\"Bokeh: ERROR: Unable to run BokehJS code because BokehJS library is missing\");\n",
       "        }\n",
       "      }\n",
       "    }, 10, root)\n",
       "  }\n",
       "})(window);"
      ],
      "application/vnd.bokehjs_exec.v0+json": ""
     },
     "metadata": {
      "application/vnd.bokehjs_exec.v0+json": {
       "id": "109360"
      }
     },
     "output_type": "display_data"
    },
    {
     "data": {
      "application/vnd.jupyter.widget-view+json": {
       "model_id": "13ae97bf87fd4d3b9b55954630f2174a",
       "version_major": 2,
       "version_minor": 0
      },
      "text/plain": [
       "ToggleButton(value=False, description='Stop')"
      ]
     },
     "metadata": {},
     "output_type": "display_data"
    }
   ],
   "source": [
    "x = np.linspace(-10,10,100)\n",
    "def f(x):\n",
    "    return np.sin(x)+np.random.normal(size=len(x))*0.1\n",
    "\n",
    "source = ColumnDataSource()\n",
    "source.data = dict(x=x, y=f(x))\n",
    "\n",
    "p = figure(title=\"test\", height=300, width=600)\n",
    "l = p.line('x', 'y', source=source)\n",
    "p2 = figure(title=\"test\", height=300, width=600)\n",
    "l2 = p2.line('x', 'y', source=source)\n",
    "\n",
    "r = row(p,p2)\n",
    "for w in p, p2, r:\n",
    "    w.sizing_mode = \"scale_width\"\n",
    "target = show(r, notebook_handle=True)\n",
    "\n",
    "stop_button = widgets.ToggleButton(description='Stop')\n",
    "display(stop_button)\n",
    "\n",
    "while True:\n",
    "    ipython.kernel.do_one_iteration()\n",
    "    if stop_button.value:\n",
    "        break \n",
    "    l.data_source.data['y'] = f(x)\n",
    "    push_notebook(handle=target)\n",
    "    time.sleep(0.01)"
   ]
  },
  {
   "cell_type": "markdown",
   "metadata": {},
   "source": [
    "# Now two columns and two rows"
   ]
  },
  {
   "cell_type": "code",
   "execution_count": 51,
   "metadata": {},
   "outputs": [
    {
     "data": {
      "text/html": [
       "\n",
       "\n",
       "\n",
       "\n",
       "\n",
       "\n",
       "  <div class=\"bk-root\" id=\"5e192fc6-b113-44b7-80c0-2f27f578dc10\" data-root-id=\"111830\"></div>\n"
      ]
     },
     "metadata": {},
     "output_type": "display_data"
    },
    {
     "data": {
      "application/javascript": [
       "(function(root) {\n",
       "  function embed_document(root) {\n",
       "    \n",
       "  var docs_json = {\"b1b78df1-cf13-4a8d-b569-5faf4c5beb9c\":{\"defs\":[],\"roots\":{\"references\":[{\"attributes\":{\"children\":[{\"id\":\"111829\"},{\"id\":\"111791\"}],\"sizing_mode\":\"stretch_width\"},\"id\":\"111830\",\"type\":\"Column\"},{\"attributes\":{},\"id\":\"111772\",\"type\":\"PanTool\"},{\"attributes\":{\"bottom_units\":\"screen\",\"fill_alpha\":0.5,\"fill_color\":\"lightgrey\",\"left_units\":\"screen\",\"level\":\"overlay\",\"line_alpha\":1.0,\"line_color\":\"black\",\"line_dash\":[4,4],\"line_width\":2,\"right_units\":\"screen\",\"syncable\":false,\"top_units\":\"screen\"},\"id\":\"111778\",\"type\":\"BoxAnnotation\"},{\"attributes\":{},\"id\":\"112497\",\"type\":\"Selection\"},{\"attributes\":{},\"id\":\"111798\",\"type\":\"LinearScale\"},{\"attributes\":{},\"id\":\"111756\",\"type\":\"DataRange1d\"},{\"attributes\":{\"overlay\":{\"id\":\"111778\"}},\"id\":\"111774\",\"type\":\"BoxZoomTool\"},{\"attributes\":{\"active_multi\":null,\"tools\":[{\"id\":\"111810\"},{\"id\":\"111811\"},{\"id\":\"111812\"},{\"id\":\"111813\"},{\"id\":\"111814\"},{\"id\":\"111815\"}]},\"id\":\"111817\",\"type\":\"Toolbar\"},{\"attributes\":{\"active_multi\":null,\"tools\":[{\"id\":\"111734\"},{\"id\":\"111735\"},{\"id\":\"111736\"},{\"id\":\"111737\"},{\"id\":\"111738\"},{\"id\":\"111739\"}]},\"id\":\"111741\",\"type\":\"Toolbar\"},{\"attributes\":{\"formatter\":{\"id\":\"112492\"},\"major_label_policy\":{\"id\":\"112490\"},\"ticker\":{\"id\":\"111769\"}},\"id\":\"111768\",\"type\":\"LinearAxis\"},{\"attributes\":{},\"id\":\"111762\",\"type\":\"LinearScale\"},{\"attributes\":{},\"id\":\"111794\",\"type\":\"DataRange1d\"},{\"attributes\":{},\"id\":\"111796\",\"type\":\"DataRange1d\"},{\"attributes\":{},\"id\":\"112495\",\"type\":\"BasicTickFormatter\"},{\"attributes\":{\"overlay\":{\"id\":\"111816\"}},\"id\":\"111812\",\"type\":\"BoxZoomTool\"},{\"attributes\":{},\"id\":\"111760\",\"type\":\"LinearScale\"},{\"attributes\":{},\"id\":\"111758\",\"type\":\"DataRange1d\"},{\"attributes\":{},\"id\":\"111773\",\"type\":\"WheelZoomTool\"},{\"attributes\":{},\"id\":\"111815\",\"type\":\"HelpTool\"},{\"attributes\":{},\"id\":\"111813\",\"type\":\"SaveTool\"},{\"attributes\":{\"line_alpha\":0.1,\"line_color\":\"#1f77b4\",\"x\":{\"field\":\"x\"},\"y\":{\"field\":\"y\"}},\"id\":\"111826\",\"type\":\"Line\"},{\"attributes\":{\"formatter\":{\"id\":\"112495\"},\"major_label_policy\":{\"id\":\"112493\"},\"ticker\":{\"id\":\"111765\"}},\"id\":\"111764\",\"type\":\"LinearAxis\"},{\"attributes\":{},\"id\":\"111814\",\"type\":\"ResetTool\"},{\"attributes\":{\"axis\":{\"id\":\"111768\"},\"dimension\":1,\"ticker\":null},\"id\":\"111771\",\"type\":\"Grid\"},{\"attributes\":{\"text\":\"test\"},\"id\":\"111754\",\"type\":\"Title\"},{\"attributes\":{},\"id\":\"111775\",\"type\":\"SaveTool\"},{\"attributes\":{},\"id\":\"111769\",\"type\":\"BasicTicker\"},{\"attributes\":{\"data_source\":{\"id\":\"111714\"},\"glyph\":{\"id\":\"111787\"},\"hover_glyph\":null,\"muted_glyph\":null,\"nonselection_glyph\":{\"id\":\"111788\"},\"view\":{\"id\":\"111790\"}},\"id\":\"111789\",\"type\":\"GlyphRenderer\"},{\"attributes\":{\"below\":[{\"id\":\"111726\"}],\"center\":[{\"id\":\"111729\"},{\"id\":\"111733\"}],\"height\":300,\"left\":[{\"id\":\"111730\"}],\"renderers\":[{\"id\":\"111751\"}],\"sizing_mode\":\"stretch_width\",\"title\":{\"id\":\"111716\"},\"toolbar\":{\"id\":\"111741\"},\"x_range\":{\"id\":\"111718\"},\"x_scale\":{\"id\":\"111722\"},\"y_range\":{\"id\":\"111720\"},\"y_scale\":{\"id\":\"111724\"}},\"id\":\"111715\",\"subtype\":\"Figure\",\"type\":\"Plot\"},{\"attributes\":{\"source\":{\"id\":\"111714\"}},\"id\":\"111790\",\"type\":\"CDSView\"},{\"attributes\":{\"bottom_units\":\"screen\",\"fill_alpha\":0.5,\"fill_color\":\"lightgrey\",\"left_units\":\"screen\",\"level\":\"overlay\",\"line_alpha\":1.0,\"line_color\":\"black\",\"line_dash\":[4,4],\"line_width\":2,\"right_units\":\"screen\",\"syncable\":false,\"top_units\":\"screen\"},\"id\":\"111740\",\"type\":\"BoxAnnotation\"},{\"attributes\":{\"text\":\"test\"},\"id\":\"111792\",\"type\":\"Title\"},{\"attributes\":{\"bottom_units\":\"screen\",\"fill_alpha\":0.5,\"fill_color\":\"lightgrey\",\"left_units\":\"screen\",\"level\":\"overlay\",\"line_alpha\":1.0,\"line_color\":\"black\",\"line_dash\":[4,4],\"line_width\":2,\"right_units\":\"screen\",\"syncable\":false,\"top_units\":\"screen\"},\"id\":\"111816\",\"type\":\"BoxAnnotation\"},{\"attributes\":{\"line_alpha\":0.1,\"line_color\":\"#1f77b4\",\"x\":{\"field\":\"x\"},\"y\":{\"field\":\"y\"}},\"id\":\"111788\",\"type\":\"Line\"},{\"attributes\":{\"source\":{\"id\":\"111714\"}},\"id\":\"111828\",\"type\":\"CDSView\"},{\"attributes\":{\"line_color\":\"#1f77b4\",\"x\":{\"field\":\"x\"},\"y\":{\"field\":\"y\"}},\"id\":\"111787\",\"type\":\"Line\"},{\"attributes\":{\"axis\":{\"id\":\"111764\"},\"ticker\":null},\"id\":\"111767\",\"type\":\"Grid\"},{\"attributes\":{},\"id\":\"111765\",\"type\":\"BasicTicker\"},{\"attributes\":{},\"id\":\"112496\",\"type\":\"UnionRenderers\"},{\"attributes\":{\"line_alpha\":0.1,\"line_color\":\"#1f77b4\",\"x\":{\"field\":\"x\"},\"y\":{\"field\":\"y\"}},\"id\":\"111750\",\"type\":\"Line\"},{\"attributes\":{\"axis\":{\"id\":\"111806\"},\"dimension\":1,\"ticker\":null},\"id\":\"111809\",\"type\":\"Grid\"},{\"attributes\":{\"data_source\":{\"id\":\"111714\"},\"glyph\":{\"id\":\"111749\"},\"hover_glyph\":null,\"muted_glyph\":null,\"nonselection_glyph\":{\"id\":\"111750\"},\"view\":{\"id\":\"111752\"}},\"id\":\"111751\",\"type\":\"GlyphRenderer\"},{\"attributes\":{\"line_color\":\"#1f77b4\",\"x\":{\"field\":\"x\"},\"y\":{\"field\":\"y\"}},\"id\":\"111749\",\"type\":\"Line\"},{\"attributes\":{},\"id\":\"112489\",\"type\":\"BasicTickFormatter\"},{\"attributes\":{},\"id\":\"111718\",\"type\":\"DataRange1d\"},{\"attributes\":{},\"id\":\"111810\",\"type\":\"PanTool\"},{\"attributes\":{},\"id\":\"111776\",\"type\":\"ResetTool\"},{\"attributes\":{},\"id\":\"111731\",\"type\":\"BasicTicker\"},{\"attributes\":{},\"id\":\"111724\",\"type\":\"LinearScale\"},{\"attributes\":{},\"id\":\"112478\",\"type\":\"AllLabels\"},{\"attributes\":{\"below\":[{\"id\":\"111764\"}],\"center\":[{\"id\":\"111767\"},{\"id\":\"111771\"}],\"height\":300,\"left\":[{\"id\":\"111768\"}],\"renderers\":[{\"id\":\"111789\"}],\"sizing_mode\":\"stretch_width\",\"title\":{\"id\":\"111754\"},\"toolbar\":{\"id\":\"111779\"},\"x_range\":{\"id\":\"111756\"},\"x_scale\":{\"id\":\"111760\"},\"y_range\":{\"id\":\"111758\"},\"y_scale\":{\"id\":\"111762\"}},\"id\":\"111753\",\"subtype\":\"Figure\",\"type\":\"Plot\"},{\"attributes\":{},\"id\":\"111811\",\"type\":\"WheelZoomTool\"},{\"attributes\":{},\"id\":\"111735\",\"type\":\"WheelZoomTool\"},{\"attributes\":{\"data_source\":{\"id\":\"111714\"},\"glyph\":{\"id\":\"111825\"},\"hover_glyph\":null,\"muted_glyph\":null,\"nonselection_glyph\":{\"id\":\"111826\"},\"view\":{\"id\":\"111828\"}},\"id\":\"111827\",\"type\":\"GlyphRenderer\"},{\"attributes\":{\"formatter\":{\"id\":\"112486\"},\"major_label_policy\":{\"id\":\"112484\"},\"ticker\":{\"id\":\"111731\"}},\"id\":\"111730\",\"type\":\"LinearAxis\"},{\"attributes\":{\"axis\":{\"id\":\"111802\"},\"ticker\":null},\"id\":\"111805\",\"type\":\"Grid\"},{\"attributes\":{},\"id\":\"112487\",\"type\":\"AllLabels\"},{\"attributes\":{\"formatter\":{\"id\":\"112480\"},\"major_label_policy\":{\"id\":\"112478\"},\"ticker\":{\"id\":\"111807\"}},\"id\":\"111806\",\"type\":\"LinearAxis\"},{\"attributes\":{},\"id\":\"111803\",\"type\":\"BasicTicker\"},{\"attributes\":{\"formatter\":{\"id\":\"112489\"},\"major_label_policy\":{\"id\":\"112487\"},\"ticker\":{\"id\":\"111727\"}},\"id\":\"111726\",\"type\":\"LinearAxis\"},{\"attributes\":{\"source\":{\"id\":\"111714\"}},\"id\":\"111752\",\"type\":\"CDSView\"},{\"attributes\":{},\"id\":\"111800\",\"type\":\"LinearScale\"},{\"attributes\":{},\"id\":\"112480\",\"type\":\"BasicTickFormatter\"},{\"attributes\":{\"active_multi\":null,\"tools\":[{\"id\":\"111772\"},{\"id\":\"111773\"},{\"id\":\"111774\"},{\"id\":\"111775\"},{\"id\":\"111776\"},{\"id\":\"111777\"}]},\"id\":\"111779\",\"type\":\"Toolbar\"},{\"attributes\":{\"below\":[{\"id\":\"111802\"}],\"center\":[{\"id\":\"111805\"},{\"id\":\"111809\"}],\"height\":300,\"left\":[{\"id\":\"111806\"}],\"renderers\":[{\"id\":\"111827\"}],\"sizing_mode\":\"stretch_width\",\"title\":{\"id\":\"111792\"},\"toolbar\":{\"id\":\"111817\"},\"x_range\":{\"id\":\"111794\"},\"x_scale\":{\"id\":\"111798\"},\"y_range\":{\"id\":\"111796\"},\"y_scale\":{\"id\":\"111800\"}},\"id\":\"111791\",\"subtype\":\"Figure\",\"type\":\"Plot\"},{\"attributes\":{\"line_color\":\"#1f77b4\",\"x\":{\"field\":\"x\"},\"y\":{\"field\":\"y\"}},\"id\":\"111825\",\"type\":\"Line\"},{\"attributes\":{},\"id\":\"111738\",\"type\":\"ResetTool\"},{\"attributes\":{},\"id\":\"111720\",\"type\":\"DataRange1d\"},{\"attributes\":{},\"id\":\"112490\",\"type\":\"AllLabels\"},{\"attributes\":{},\"id\":\"111739\",\"type\":\"HelpTool\"},{\"attributes\":{\"formatter\":{\"id\":\"112483\"},\"major_label_policy\":{\"id\":\"112481\"},\"ticker\":{\"id\":\"111803\"}},\"id\":\"111802\",\"type\":\"LinearAxis\"},{\"attributes\":{},\"id\":\"111777\",\"type\":\"HelpTool\"},{\"attributes\":{},\"id\":\"112493\",\"type\":\"AllLabels\"},{\"attributes\":{\"axis\":{\"id\":\"111726\"},\"ticker\":null},\"id\":\"111729\",\"type\":\"Grid\"},{\"attributes\":{},\"id\":\"112484\",\"type\":\"AllLabels\"},{\"attributes\":{\"data\":{\"x\":{\"__ndarray__\":\"AAAAAAAAJMBDYt7OkJgjwIbEvJ0hMSPAyiabbLLJIsANiXk7Q2IiwFDrVwrU+iHAk0022WSTIcDXrxSo9SshwBoS83aGxCDAXXTRRRddIMBArV8pUOsfwMdxHMdxHB/ATjbZZJNNHsDU+pUCtX4dwFq/UqDWrxzA4YMPPvjgG8BoSMzbGRIbwO4MiXk7QxrAdNFFF110GcD7lQK1fqUYwIFav1Kg1hfACB988MEHF8CO4ziO4zgWwBWo9SsFahXAm2yyySabFMAiMW9nSMwTwKj1KwVq/RLAL7rooosuEsC1fqVArV8RwDxDYt7OkBDAhA8++OCDD8CSmLczJOYNwJ4hMW9nSAzAqqqqqqqqCsC4MyTm7QwJwMS8nSExbwfA0kUXXXTRBcDezpCYtzMEwOxXCtT6lQLA+OCDDz74AMAI1PqVArX+vyjm7QyJefu/QPjggw8++L9YCtT6lQL1v3Acx3Ecx/G/IF100UUX7b9QgVq/UqDmv4ClQK1fKeC/YJNNNtlk078Ab2dIzNu5vwBvZ0jM27k/YJNNNtlk0z+ApUCtXyngP1CBWr9SoOY/EF100UUX7T9wHMdxHMfxP1gK1PqVAvU/QPjggw8++D8g5u0MiXn7PwjU+pUCtf4/+OCDDz74AEDsVwrU+pUCQNzOkJi3MwRA0EUXXXTRBUDEvJ0hMW8HQLgzJObtDAlArKqqqqqqCkCcITFvZ0gMQJCYtzMk5g1AhA8++OCDD0A8Q2LezpAQQLR+pUCtXxFALrrooosuEkCo9SsFav0SQCIxb2dIzBNAmmyyySabFEAUqPUrBWoVQI7jOI7jOBZACB988MEHF0CAWr9SoNYXQPyVArV+pRhAdNFFF110GUDsDIl5O0MaQGhIzNsZEhtA4IMPPvjgG0Bcv1Kg1q8cQNT6lQK1fh1ATDbZZJNNHkDIcRzHcRwfQECtXylQ6x9AXHTRRRddIEAaEvN2hsQgQNavFKj1KyFAlE022WSTIUBQ61cK1PohQAyJeTtDYiJAyiabbLLJIkCGxLydITEjQERi3s6QmCNAAAAAAAAAJEA=\",\"dtype\":\"float64\",\"order\":\"little\",\"shape\":[100]},\"y\":{\"__ndarray__\":\"OCNlxa1m3j/FAte4f6TNP0Q0ljGYR6m/6ALqw5slrz+Qp+5GEdfJv/ECnUfiydu/NOKKTjox47+Pp6kpMejov8xjXPbCLua/oufYFa6L6b8CP5EaeQzuv5fmHxqMOPC/cVgF5eHH7L9oYXPvJGfwv08vEPGyz+e/IbNxxWVN5r/AL7g2atrUvxTunE05p9G/mvU5FXYUub8iH0uoL1KhP847lI1zMtw/1zoDpupq2T9QS7H7JsTkP9pQVlaASug/ZjtQA+6W6T9mfqtSBQ3xP92m2lW6P+w/6044zKT97z+eckBbqurwP6PwetuvZOs/ioVP2I8d6D8BCdqiD0/hP4NwjWj/GtQ/XQo4rkYUxT8UD5zbCqulvxhiQZn9Edq/QOubBg3f27/rFFU8WWzgvwq97JwVJfC/qLjp1OWd67/mZV3wotbuv5vaqG5Pr/K/6Ttp31B67L/S7N/yrlPyv/lOPLZkCOq/Vf6qxaV46r9RIgLbTUHlv0bc3yn2SuG/VKchGMzl2L9Tz0eXpb6ov31VRddema8/dD+u0Yqf2z/ieNlFzYfXP49rRkQaHOM/uagQyikq4j+ibG5W2RzwPyOlzSsPWfI/hHljmFRz7T8WqmYSMz3wP6mWipNUwO8/7okmbWPn6z+W/zp0BZPhP4vNeSGNJeA/onDizs3h1j9BZpmyq9HFPwj723sMXXK/+pA5F89Vw7+k1kzdzeHSv+LblEwjsNi/8BUYvdB75b/6jS1X9dvnv5a1K2idY+m/8Mvniyo58L9VgDcYosvqvxqPgGVekeu/21etnzJb5r8FS+t1Xr/rv2Bzmnab+ue/JERangEl1b/Uw+1Fu8rRv0SLZTiCNZO/T7uqo6mlwz/jMn3LaH3MPyxH0SEfYOE/brQy1pVf4D/W3QSzE8nnP86LlzgF5PA/NgmJ/goE8T//AiDYkPvwP5BspetfJvA/waSio28Z8D8k+ykZbifnPwpLeZ0bXes/4jzAm5Tw4T8C4WOCQ7TdP8xAzlhhf8Y/EuHLTJhkoD+WGETwqjnLvxzLz6dYrt+/KOqYTQkW478=\",\"dtype\":\"float64\",\"order\":\"little\",\"shape\":[100]}},\"selected\":{\"id\":\"112497\"},\"selection_policy\":{\"id\":\"112496\"}},\"id\":\"111714\",\"type\":\"ColumnDataSource\"},{\"attributes\":{},\"id\":\"112492\",\"type\":\"BasicTickFormatter\"},{\"attributes\":{},\"id\":\"111734\",\"type\":\"PanTool\"},{\"attributes\":{\"children\":[{\"id\":\"111715\"},{\"id\":\"111753\"}],\"sizing_mode\":\"stretch_width\"},\"id\":\"111829\",\"type\":\"Row\"},{\"attributes\":{\"overlay\":{\"id\":\"111740\"}},\"id\":\"111736\",\"type\":\"BoxZoomTool\"},{\"attributes\":{\"text\":\"test\"},\"id\":\"111716\",\"type\":\"Title\"},{\"attributes\":{},\"id\":\"111722\",\"type\":\"LinearScale\"},{\"attributes\":{},\"id\":\"112481\",\"type\":\"AllLabels\"},{\"attributes\":{},\"id\":\"112483\",\"type\":\"BasicTickFormatter\"},{\"attributes\":{},\"id\":\"111807\",\"type\":\"BasicTicker\"},{\"attributes\":{\"axis\":{\"id\":\"111730\"},\"dimension\":1,\"ticker\":null},\"id\":\"111733\",\"type\":\"Grid\"},{\"attributes\":{},\"id\":\"112486\",\"type\":\"BasicTickFormatter\"},{\"attributes\":{},\"id\":\"111727\",\"type\":\"BasicTicker\"},{\"attributes\":{},\"id\":\"111737\",\"type\":\"SaveTool\"}],\"root_ids\":[\"111830\"]},\"title\":\"Bokeh Application\",\"version\":\"2.3.1\"}};\n",
       "  var render_items = [{\"docid\":\"b1b78df1-cf13-4a8d-b569-5faf4c5beb9c\",\"notebook_comms_target\":\"112501\",\"root_ids\":[\"111830\"],\"roots\":{\"111830\":\"5e192fc6-b113-44b7-80c0-2f27f578dc10\"}}];\n",
       "  root.Bokeh.embed.embed_items_notebook(docs_json, render_items);\n",
       "\n",
       "  }\n",
       "  if (root.Bokeh !== undefined) {\n",
       "    embed_document(root);\n",
       "  } else {\n",
       "    var attempts = 0;\n",
       "    var timer = setInterval(function(root) {\n",
       "      if (root.Bokeh !== undefined) {\n",
       "        clearInterval(timer);\n",
       "        embed_document(root);\n",
       "      } else {\n",
       "        attempts++;\n",
       "        if (attempts > 100) {\n",
       "          clearInterval(timer);\n",
       "          console.log(\"Bokeh: ERROR: Unable to run BokehJS code because BokehJS library is missing\");\n",
       "        }\n",
       "      }\n",
       "    }, 10, root)\n",
       "  }\n",
       "})(window);"
      ],
      "application/vnd.bokehjs_exec.v0+json": ""
     },
     "metadata": {
      "application/vnd.bokehjs_exec.v0+json": {
       "id": "111830"
      }
     },
     "output_type": "display_data"
    },
    {
     "data": {
      "application/vnd.jupyter.widget-view+json": {
       "model_id": "dc5a93fb2e644510be8dc56893493fd4",
       "version_major": 2,
       "version_minor": 0
      },
      "text/plain": [
       "ToggleButton(value=False, description='Stop')"
      ]
     },
     "metadata": {},
     "output_type": "display_data"
    }
   ],
   "source": [
    "x = np.linspace(-10,10,100)\n",
    "def f(x):\n",
    "    return np.sin(x)+np.random.normal(size=len(x))*0.1\n",
    "\n",
    "source = ColumnDataSource()\n",
    "source.data = dict(x=x, y=f(x))\n",
    "\n",
    "p = figure(title=\"test\", height=300)\n",
    "l = p.line('x', 'y', source=source)\n",
    "p2 = figure(title=\"test\", height=300)\n",
    "l2 = p2.line('x', 'y', source=source)\n",
    "p3 = figure(title=\"test\", height=300)\n",
    "l3 = p3.line('x', 'y', source=source)\n",
    "\n",
    "r = row(p,p2)\n",
    "c = column(r,p3)\n",
    "for w in p, p2, p3, r, c:\n",
    "    w.sizing_mode = \"stretch_width\"\n",
    "target = show(c, notebook_handle=True)\n",
    "\n",
    "stop_button = widgets.ToggleButton(description='Stop')\n",
    "display(stop_button)\n",
    "\n",
    "while True:\n",
    "    ipython.kernel.do_one_iteration()\n",
    "    if stop_button.value:\n",
    "        break \n",
    "    l.data_source.data['y'] = f(x)\n",
    "    push_notebook(handle=target)\n",
    "    time.sleep(0.01)"
   ]
  },
  {
   "cell_type": "code",
   "execution_count": null,
   "metadata": {},
   "outputs": [],
   "source": []
  }
 ],
 "metadata": {
  "jupytext": {
   "formats": "ipynb,md"
  },
  "kernelspec": {
   "display_name": "Python 3",
   "language": "python",
   "name": "python3"
  },
  "language_info": {
   "codemirror_mode": {
    "name": "ipython",
    "version": 3
   },
   "file_extension": ".py",
   "mimetype": "text/x-python",
   "name": "python",
   "nbconvert_exporter": "python",
   "pygments_lexer": "ipython3",
   "version": "3.7.5"
  },
  "toc": {
   "base_numbering": 1,
   "nav_menu": {},
   "number_sections": true,
   "sideBar": true,
   "skip_h1_title": false,
   "title_cell": "Table of Contents",
   "title_sidebar": "Contents",
   "toc_cell": false,
   "toc_position": {},
   "toc_section_display": true,
   "toc_window_display": false
  }
 },
 "nbformat": 4,
 "nbformat_minor": 2
}
