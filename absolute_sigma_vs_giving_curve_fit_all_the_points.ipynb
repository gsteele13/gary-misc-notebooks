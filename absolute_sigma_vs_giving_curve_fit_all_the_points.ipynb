{
 "cells": [
  {
   "cell_type": "code",
   "execution_count": 6,
   "metadata": {},
   "outputs": [],
   "source": [
    "import numpy as np\n",
    "import matplotlib.pyplot as plt"
   ]
  },
  {
   "cell_type": "markdown",
   "metadata": {},
   "source": [
    "# Formulation  of the problem\n",
    "\n",
    "Say I have a set of 10 repeated measurements for 5 different experimental settings. \n",
    "\n",
    "How should I fit this data?  \n",
    "\n",
    "There are two  approaches I can think of that should be equivalent:\n",
    "\n",
    "1. Use `curve_fit` with all the data, providing no sigma (assumption  of equal vertical error on each point)\n",
    "2. For each x-value, calculate the average y value and the standard deviation. Feed this then into curve_fit as the error value using `sigma=` and then also specify that these represent the absolute error using `absolute_sigma=True`\n",
    "\n",
    "On first glance, I thought that these would be equivalent. But my experiments below suggest it is not...?"
   ]
  },
  {
   "cell_type": "markdown",
   "metadata": {},
   "source": [
    "## Generate the data\n",
    "\n",
    "To make sure I avoid the problems of convergence for small sets of numbers, I will make the generated data with 100 repetitions for each x-value."
   ]
  },
  {
   "cell_type": "code",
   "execution_count": 83,
   "metadata": {},
   "outputs": [
    {
     "data": {
      "text/plain": [
       "[<matplotlib.lines.Line2D at 0x10273defd0>]"
      ]
     },
     "execution_count": 83,
     "metadata": {},
     "output_type": "execute_result"
    },
    {
     "data": {
      "image/png": "[encoded data removed]",
      "text/plain": [
       "<Figure size 432x288 with 1 Axes>"
      ]
     },
     "metadata": {
      "needs_background": "light"
     },
     "output_type": "display_data"
    }
   ],
   "source": [
    "N = 5 # x values\n",
    "M =  100 # repeat\n",
    "x  = np.array(list(range(N))*M)\n",
    "y = 5*x + np.random.normal(size=N*M)\n",
    "plt.plot(x,y,'o')"
   ]
  },
  {
   "cell_type": "markdown",
   "metadata": {},
   "source": [
    "## Technique 1:  Fit without absolute error"
   ]
  },
  {
   "cell_type": "code",
   "execution_count": 84,
   "metadata": {},
   "outputs": [],
   "source": [
    "from scipy.optimize import curve_fit"
   ]
  },
  {
   "cell_type": "code",
   "execution_count": 85,
   "metadata": {},
   "outputs": [
    {
     "name": "stdout",
     "output_type": "stream",
     "text": [
      "5.003641448494591\n",
      "-0.018260549240249845\n",
      "\n",
      "0.03140993465036448\n",
      "0.07693848787434143\n"
     ]
    }
   ],
   "source": [
    "def f(x,a,b):\n",
    "    return a*x + b\n",
    "\n",
    "val,cov = curve_fit(f,x,y)\n",
    "\n",
    "print(val[0])\n",
    "print(val[1])\n",
    "print()\n",
    "print(np.sqrt(cov[0,0]))\n",
    "print(np.sqrt(cov[1,1]))"
   ]
  },
  {
   "cell_type": "markdown",
   "metadata": {},
   "source": [
    "##  Technique 2: Calculate standard deviation and use that as absolute error"
   ]
  },
  {
   "cell_type": "code",
   "execution_count": 87,
   "metadata": {},
   "outputs": [],
   "source": [
    "xs = np.reshape(x,(M,N))\n",
    "#xs"
   ]
  },
  {
   "cell_type": "code",
   "execution_count": 88,
   "metadata": {},
   "outputs": [
    {
     "data": {
      "text/plain": [
       "array([0., 1., 2., 3., 4.])"
      ]
     },
     "execution_count": 88,
     "metadata": {},
     "output_type": "execute_result"
    }
   ],
   "source": [
    "xavg = np.average(xs,axis=0)\n",
    "xavg"
   ]
  },
  {
   "cell_type": "code",
   "execution_count": 89,
   "metadata": {},
   "outputs": [],
   "source": [
    "ys = np.reshape(y,(M,N))\n",
    "yavg = np.average(ys,axis=0)\n",
    "yerr = np.std(ys,axis=0)"
   ]
  },
  {
   "cell_type": "code",
   "execution_count": 90,
   "metadata": {},
   "outputs": [
    {
     "data": {
      "text/plain": [
       "<ErrorbarContainer object of 3 artists>"
      ]
     },
     "execution_count": 90,
     "metadata": {},
     "output_type": "execute_result"
    },
    {
     "data": {
      "image/png": "[encoded data removed]",
      "text/plain": [
       "<Figure size 432x288 with 1 Axes>"
      ]
     },
     "metadata": {
      "needs_background": "light"
     },
     "output_type": "display_data"
    }
   ],
   "source": [
    "plt.errorbar(xavg,yavg,yerr,marker='o')"
   ]
  },
  {
   "cell_type": "code",
   "execution_count": 91,
   "metadata": {},
   "outputs": [
    {
     "name": "stdout",
     "output_type": "stream",
     "text": [
      "4.99865831468316\n",
      "-0.001298106831086665\n",
      "\n",
      "0.32798797993246115\n",
      "0.8006553089815647\n"
     ]
    }
   ],
   "source": [
    "val,cov = curve_fit(f,xavg,yavg,sigma=yerr, absolute_sigma=True)\n",
    "\n",
    "print(val[0])\n",
    "print(val[1])\n",
    "print()\n",
    "print(np.sqrt(cov[0,0]))\n",
    "print(np.sqrt(cov[1,1]))"
   ]
  },
  {
   "cell_type": "markdown",
   "metadata": {},
   "source": [
    "OK, crazy, why are these so different? A factor of 10!?\n",
    "\n",
    "Hmmm...if I increase the number of \"repeats\", then it gets EVEN worse!\n",
    "\n",
    "I guess I am missing an important point: the error I am feeding into the fit should not be the standard deviation, since that is the error of a single point, and not of the average. \n",
    "\n",
    "The error on the average should be reduced by a factor of $\\sqrt{M}$...that must be it! \n",
    "\n",
    "Let's check."
   ]
  },
  {
   "cell_type": "code",
   "execution_count": 92,
   "metadata": {},
   "outputs": [
    {
     "name": "stdout",
     "output_type": "stream",
     "text": [
      "4.998658414160376\n",
      "-0.0012981842953818656\n",
      "\n",
      "0.0327972861422589\n",
      "0.08006265957964656\n"
     ]
    }
   ],
   "source": [
    "val,cov = curve_fit(f,xavg,yavg,sigma=yerr/np.sqrt(M), absolute_sigma=True)\n",
    "\n",
    "print(val[0])\n",
    "print(val[1])\n",
    "print()\n",
    "print(np.sqrt(cov[0,0]))\n",
    "print(np.sqrt(cov[1,1]))"
   ]
  },
  {
   "cell_type": "markdown",
   "metadata": {},
   "source": [
    "**Oooooooo, yeah!**"
   ]
  }
 ],
 "metadata": {
  "jupytext": {
   "formats": "ipynb,md"
  },
  "kernelspec": {
   "display_name": "Python 3 (ipykernel)",
   "language": "python",
   "name": "python3"
  },
  "language_info": {
   "codemirror_mode": {
    "name": "ipython",
    "version": 3
   },
   "file_extension": ".py",
   "mimetype": "text/x-python",
   "name": "python",
   "nbconvert_exporter": "python",
   "pygments_lexer": "ipython3",
   "version": "3.10.10"
  },
  "toc": {
   "base_numbering": 1,
   "nav_menu": {},
   "number_sections": false,
   "sideBar": true,
   "skip_h1_title": false,
   "title_cell": "Table of Contents",
   "title_sidebar": "Contents",
   "toc_cell": false,
   "toc_position": {},
   "toc_section_display": true,
   "toc_window_display": false
  }
 },
 "nbformat": 4,
 "nbformat_minor": 2
}
