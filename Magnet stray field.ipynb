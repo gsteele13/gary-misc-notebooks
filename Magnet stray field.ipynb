{
 "cells": [
  {
   "cell_type": "markdown",
   "metadata": {},
   "source": [
    "http://hyperphysics.phy-astr.gsu.edu/hbase/magnetic/curloo.html\n",
    "\n",
    "Let's do a rough estimate. If $B_0$ is the field at the middle of the ring, then the field on axis in z-direction at large distances is:\n",
    "\n",
    "$$\n",
    "B =  \\frac{B_0 R^3}{Z^3}\n",
    "$$\n",
    "\n",
    "Let's take $B_0 = 10$ T. "
   ]
  },
  {
   "cell_type": "code",
   "execution_count": 1,
   "metadata": {},
   "outputs": [
    {
     "data": {
      "text/plain": [
       "1.0000000000000002e-08"
      ]
     },
     "execution_count": 1,
     "metadata": {},
     "output_type": "execute_result"
    }
   ],
   "source": [
    "B0 = 10\n",
    "R = 5e-2 # 5 cm\n",
    "Z = 50 # meters\n",
    "\n",
    "B0*R**3/Z**3"
   ]
  }
 ],
 "metadata": {
  "jupytext": {
   "formats": "ipynb,md"
  },
  "kernelspec": {
   "display_name": "Python 3",
   "language": "python",
   "name": "python3"
  },
  "language_info": {
   "codemirror_mode": {
    "name": "ipython",
    "version": 3
   },
   "file_extension": ".py",
   "mimetype": "text/x-python",
   "name": "python",
   "nbconvert_exporter": "python",
   "pygments_lexer": "ipython3",
   "version": "3.7.5"
  },
  "toc": {
   "base_numbering": 1,
   "nav_menu": {},
   "number_sections": true,
   "sideBar": true,
   "skip_h1_title": false,
   "title_cell": "Table of Contents",
   "title_sidebar": "Contents",
   "toc_cell": false,
   "toc_position": {},
   "toc_section_display": true,
   "toc_window_display": false
  }
 },
 "nbformat": 4,
 "nbformat_minor": 2
}
