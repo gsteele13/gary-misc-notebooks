{
 "cells": [
  {
   "cell_type": "code",
   "execution_count": 1,
   "metadata": {
    "ExecuteTime": {
     "end_time": "2021-09-21T18:41:16.642692Z",
     "start_time": "2021-09-21T18:41:13.821146Z"
    }
   },
   "outputs": [
    {
     "data": {
      "text/plain": [
       ":AdjointLayout\n",
       "   :DynamicMap   []\n",
       "   :DynamicMap   []"
      ]
     },
     "execution_count": 1,
     "metadata": {},
     "output_type": "execute_result"
    }
   ],
   "source": [
    "\"\"\"\n",
    "Example app demonstrating how to use the HoloViews API to generate\n",
    "a bokeh app with complex interactivity. Uses a RangeXY stream to allow\n",
    "interactive exploration of the mandelbrot set.\n",
    "\"\"\"\n",
    "\n",
    "import numpy as np\n",
    "import holoviews as hv\n",
    "\n",
    "from holoviews import opts\n",
    "from holoviews.streams import RangeXY\n",
    "from numba import jit\n",
    "\n",
    "renderer = hv.renderer('bokeh')\n",
    "\n",
    "@jit\n",
    "def mandel(x, y, max_iters):\n",
    "    \"\"\"\n",
    "    Given the real and imaginary parts of a complex number,\n",
    "    determine if it is a candidate for membership in the Mandelbrot\n",
    "    set given a fixed number of iterations.\n",
    "    \"\"\"\n",
    "    i = 0\n",
    "    c = complex(x,y)\n",
    "    z = 0.0j\n",
    "    for i in range(max_iters):\n",
    "        z = z*z + c\n",
    "        if (z.real*z.real + z.imag*z.imag) >= 4:\n",
    "            return i\n",
    "\n",
    "    return 255\n",
    "\n",
    "@jit\n",
    "def create_fractal(min_x, max_x, min_y, max_y, image, iters):\n",
    "    height = image.shape[0]\n",
    "    width = image.shape[1]\n",
    "\n",
    "    pixel_size_x = (max_x - min_x) / width\n",
    "    pixel_size_y = (max_y - min_y) / height\n",
    "    for x in range(width):\n",
    "        real = min_x + x * pixel_size_x\n",
    "        for y in range(height):\n",
    "            imag = min_y + y * pixel_size_y\n",
    "            color = mandel(real, imag, iters)\n",
    "            image[y, x] = color\n",
    "\n",
    "    return image\n",
    "\n",
    "def get_fractal(x_range, y_range):\n",
    "    (x0, x1), (y0, y1) = x_range, y_range\n",
    "    image = np.zeros((600, 600), dtype=np.uint8)\n",
    "    return hv.Image(create_fractal(x0, x1, -y1, -y0, image, 200),\n",
    "                    bounds=(x0, y0, x1, y1))\n",
    "\n",
    "# Define stream linked to axis XY-range\n",
    "range_stream = RangeXY(x_range=(-1., 1.), y_range=(-1., 1.))\n",
    "\n",
    "# Create DynamicMap to compute fractal per zoom range and\n",
    "# adjoin a logarithmic histogram\n",
    "dmap = hv.DynamicMap(get_fractal, label='Manderbrot Explorer',\n",
    "                     streams=[range_stream]).hist(log=True)\n",
    "\n",
    "dmap.opts(\n",
    "    opts.Histogram(framewise=True, logy=True, width=200, xlim=(1, None)),\n",
    "    opts.Image(cmap='fire', logz=True, height=600, width=600,\n",
    "               xaxis=None, yaxis=None))"
   ]
  },
  {
   "cell_type": "code",
   "execution_count": null,
   "metadata": {},
   "outputs": [],
   "source": []
  }
 ],
 "metadata": {
  "jupytext": {
   "formats": "ipynb,md"
  },
  "kernelspec": {
   "display_name": "Python 3",
   "language": "python",
   "name": "python3"
  },
  "language_info": {
   "codemirror_mode": {
    "name": "ipython",
    "version": 3
   },
   "file_extension": ".py",
   "mimetype": "text/x-python",
   "name": "python",
   "nbconvert_exporter": "python",
   "pygments_lexer": "ipython3",
   "version": "3.7.5"
  },
  "toc": {
   "base_numbering": 1,
   "nav_menu": {},
   "number_sections": true,
   "sideBar": true,
   "skip_h1_title": false,
   "title_cell": "Table of Contents",
   "title_sidebar": "Contents",
   "toc_cell": false,
   "toc_position": {},
   "toc_section_display": true,
   "toc_window_display": false
  }
 },
 "nbformat": 4,
 "nbformat_minor": 2
}
