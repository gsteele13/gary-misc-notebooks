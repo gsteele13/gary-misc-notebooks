{
 "cells": [
  {
   "cell_type": "code",
   "execution_count": 2,
   "id": "eeb46cd4",
   "metadata": {
    "ExecuteTime": {
     "end_time": "2022-05-19T09:15:59.031280Z",
     "start_time": "2022-05-19T09:15:45.721382Z"
    }
   },
   "outputs": [],
   "source": [
    "import lmfit\n",
    "import numpy as np\n",
    "import matplotlib.pyplot as plt"
   ]
  },
  {
   "cell_type": "markdown",
   "id": "1b9888b6",
   "metadata": {},
   "source": [
    "## LC circuit"
   ]
  },
  {
   "cell_type": "code",
   "execution_count": 7,
   "id": "ee3fe543",
   "metadata": {
    "ExecuteTime": {
     "end_time": "2022-05-19T09:27:27.870959Z",
     "start_time": "2022-05-19T09:27:27.866038Z"
    }
   },
   "outputs": [],
   "source": [
    "def Z_LC_im(w,L,C):\n",
    "    return -1*w*L/(w**2*L*C-1)"
   ]
  },
  {
   "cell_type": "code",
   "execution_count": 8,
   "id": "9a8ab8ea",
   "metadata": {
    "ExecuteTime": {
     "end_time": "2022-05-19T09:27:28.600503Z",
     "start_time": "2022-05-19T09:27:28.594952Z"
    }
   },
   "outputs": [],
   "source": [
    "L = 1e-9 # H\n",
    "C = 1e-12 # F\n",
    "w0 = 1/(C*L)**0.5\n",
    "\n",
    "w = np.linspace(0,2*w0,1000)"
   ]
  },
  {
   "cell_type": "code",
   "execution_count": 9,
   "id": "355df300",
   "metadata": {
    "ExecuteTime": {
     "end_time": "2022-05-19T09:27:38.494148Z",
     "start_time": "2022-05-19T09:27:38.271146Z"
    }
   },
   "outputs": [
    {
     "data": {
      "text/plain": [
       "[<matplotlib.lines.Line2D at 0x160c49d00>]"
      ]
     },
     "execution_count": 9,
     "metadata": {},
     "output_type": "execute_result"
    },
    {
     "data": {
      "image/png": "[encoded data removed]",
      "text/plain": [
       "<Figure size 432x288 with 1 Axes>"
      ]
     },
     "metadata": {
      "needs_background": "light"
     },
     "output_type": "display_data"
    }
   ],
   "source": [
    "plt.plot(w,Z_LC_im(w,L,C))"
   ]
  },
  {
   "cell_type": "code",
   "execution_count": 6,
   "id": "38a49c62",
   "metadata": {
    "ExecuteTime": {
     "end_time": "2022-05-19T09:22:47.315385Z",
     "start_time": "2022-05-19T09:22:47.308850Z"
    }
   },
   "outputs": [],
   "source": [
    "Z_data = Z_LC_im(w,L,C)"
   ]
  },
  {
   "cell_type": "markdown",
   "id": "581626a1",
   "metadata": {},
   "source": [
    "How to fit this with LMfit? Complex data needs a bit more familiarity with lmfit, for now, let's test it with just the imaginary impedance data. \n",
    "\n",
    "Follow getting started:\n",
    "\n",
    "https://lmfit.github.io/lmfit-py/intro.html\n",
    "\n",
    "But we will use LMfit and not scipy because eventually we do want to fit complex valued Z.\n",
    "\n",
    "From the LMfit intro: \n",
    "\n",
    "https://lmfit.github.io/lmfit-py/intro.html"
   ]
  },
  {
   "cell_type": "code",
   "execution_count": 13,
   "id": "fa0a0a7f",
   "metadata": {
    "ExecuteTime": {
     "end_time": "2022-05-19T09:31:31.840813Z",
     "start_time": "2022-05-19T09:31:31.809489Z"
    }
   },
   "outputs": [],
   "source": [
    "from lmfit import minimize, Parameters\n",
    "\n",
    "# generate synthetic data with noise\n",
    "x = np.linspace(0, 100)\n",
    "noise = np.random.normal(size=x.size, scale=0.2)\n",
    "data = 7.5 * sin(x*0.22 + 2.5) * exp(-x*x*0.01) + noise\n",
    "\n",
    "def residual(params, x, data, uncertainty):\n",
    "    amp = params['amp']\n",
    "    phaseshift = params['phase']\n",
    "    freq = params['frequency']\n",
    "    decay = params['decay']\n",
    "\n",
    "    model = amp * sin(x*freq + phaseshift) * exp(-x*x*decay)\n",
    "\n",
    "    return (data-model) / uncertainty\n",
    "\n",
    "# generate experimental uncertainties\n",
    "uncertainty = abs(0.16 + np.random.normal(size=x.size, scale=0.05))\n",
    "\n",
    "params = Parameters()\n",
    "params.add('amp', value=10)\n",
    "params.add('decay', value=0.007)\n",
    "params.add('phase', value=0.2)\n",
    "params.add('frequency', value=3.0)\n",
    "\n",
    "out = minimize(residual, params, args=(x, data, uncertainty))"
   ]
  },
  {
   "cell_type": "markdown",
   "id": "b6792772",
   "metadata": {},
   "source": [
    "OK, example from webpage runs with no errors. \n",
    "\n",
    "But, we do not have uncertainties: we want to make the assumption that all points have the same uncertainty. Can I just leave out uncertainty from the function? Answer is yes!"
   ]
  },
  {
   "cell_type": "code",
   "execution_count": 15,
   "id": "c5f728d0",
   "metadata": {
    "ExecuteTime": {
     "end_time": "2022-05-19T09:38:08.060213Z",
     "start_time": "2022-05-19T09:38:08.040401Z"
    }
   },
   "outputs": [],
   "source": [
    "from lmfit import minimize, Parameters\n",
    "\n",
    "# generate synthetic data with noise\n",
    "x = np.linspace(0, 100)\n",
    "noise = np.random.normal(size=x.size, scale=0.2)\n",
    "data = 7.5 * sin(x*0.22 + 2.5) * exp(-x*x*0.01) + noise\n",
    "\n",
    "def residual(params, x, data):\n",
    "    amp = params['amp']\n",
    "    phaseshift = params['phase']\n",
    "    freq = params['frequency']\n",
    "    decay = params['decay']\n",
    "\n",
    "    model = amp * sin(x*freq + phaseshift) * exp(-x*x*decay)\n",
    "\n",
    "    return (data-model) / uncertainty\n",
    "\n",
    "params = Parameters()\n",
    "params.add('amp', value=10)\n",
    "params.add('decay', value=0.007)\n",
    "params.add('phase', value=0.2)\n",
    "params.add('frequency', value=3.0)\n",
    "\n",
    "out = minimize(residual, params, args=(x, data))"
   ]
  },
  {
   "cell_type": "code",
   "execution_count": 19,
   "id": "edabb6ab",
   "metadata": {
    "ExecuteTime": {
     "end_time": "2022-05-19T09:41:46.530003Z",
     "start_time": "2022-05-19T09:41:46.524450Z"
    }
   },
   "outputs": [
    {
     "data": {
      "text/html": [
       "<h2>Fit Statistics</h2><table><tr><td>fitting method</td><td>leastsq</td><td></td></tr><tr><td># function evals</td><td>66</td><td></td></tr><tr><td># data points</td><td>50</td><td></td></tr><tr><td># variables</td><td>4</td><td></td></tr><tr><td>chi-square</td><td> 142.439746</td><td></td></tr><tr><td>reduced chi-square</td><td> 3.09651622</td><td></td></tr><tr><td>Akaike info crit.</td><td> 60.3448035</td><td></td></tr><tr><td>Bayesian info crit.</td><td> 67.9928956</td><td></td></tr></table><h2>Variables</h2><table><tr><th> name </th><th> value </th><th> standard error </th><th> relative error </th><th> initial value </th><th> min </th><th> max </th><th> vary </th></tr><tr><td> amp </td><td>  28.9400163 </td><td>  121.776854 </td><td> (420.79%) </td><td> 10 </td><td>        -inf </td><td>         inf </td><td> True </td></tr><tr><td> decay </td><td>  0.01552600 </td><td>  0.00294941 </td><td> (19.00%) </td><td> 0.007 </td><td>        -inf </td><td>         inf </td><td> True </td></tr><tr><td> phase </td><td>  0.16306251 </td><td>  0.68816557 </td><td> (422.03%) </td><td> 0.2 </td><td>        -inf </td><td>         inf </td><td> True </td></tr><tr><td> frequency </td><td>  3.01892810 </td><td>  0.25080489 </td><td> (8.31%) </td><td> 3.0 </td><td>        -inf </td><td>         inf </td><td> True </td></tr></table><h2>Correlations (unreported correlations are < 0.100)</h2><table><tr><td>phase</td><td>frequency</td><td>-1.0000</td></tr><tr><td>amp</td><td>frequency</td><td>1.0000</td></tr><tr><td>amp</td><td>phase</td><td>-1.0000</td></tr><tr><td>amp</td><td>decay</td><td>0.9711</td></tr><tr><td>decay</td><td>phase</td><td>-0.9706</td></tr><tr><td>decay</td><td>frequency</td><td>0.9702</td></tr></table>"
      ],
      "text/plain": [
       "<lmfit.minimizer.MinimizerResult at 0x160c92340>"
      ]
     },
     "execution_count": 19,
     "metadata": {},
     "output_type": "execute_result"
    }
   ],
   "source": [
    "out"
   ]
  },
  {
   "cell_type": "markdown",
   "id": "be5ed89f",
   "metadata": {},
   "source": [
    "Let's adapt it for the function above. "
   ]
  },
  {
   "cell_type": "code",
   "execution_count": 17,
   "id": "d4495881",
   "metadata": {
    "ExecuteTime": {
     "end_time": "2022-05-19T09:40:46.378094Z",
     "start_time": "2022-05-19T09:40:46.366160Z"
    }
   },
   "outputs": [],
   "source": [
    "# The function we want to fit\n",
    "def Z_LC_im(w,L,C):\n",
    "    return -1*w*L/(w**2*L*C-1)\n",
    "\n",
    "# The \"truth\" values\n",
    "L = 1e-9 # H\n",
    "C = 1e-12 # F\n",
    "w0 = 1/(C*L)**0.5\n",
    "Z_data = Z_LC_im(w,L,C)\n",
    "\n",
    "# The function used for residual calculation\n",
    "def residual(params, w, data):\n",
    "    amp = params['L']\n",
    "    phaseshift = params['C']\n",
    "    model = Z_LC_im(w,L,C)\n",
    "    return (data-model)\n",
    "\n",
    "# Initial guesses\n",
    "params = Parameters()\n",
    "params.add('L', value=L*1.1)\n",
    "params.add('C', value=C*1.1)\n",
    "\n",
    "fit_result = minimize(residual, params, args=(w, Z_data))"
   ]
  },
  {
   "cell_type": "code",
   "execution_count": 18,
   "id": "49364848",
   "metadata": {
    "ExecuteTime": {
     "end_time": "2022-05-19T09:40:54.790432Z",
     "start_time": "2022-05-19T09:40:54.786508Z"
    }
   },
   "outputs": [
    {
     "data": {
      "text/html": [
       "<h2>Fit Statistics</h2><table><tr><td>fitting method</td><td>leastsq</td><td></td></tr><tr><td># function evals</td><td>3</td><td></td></tr><tr><td># data points</td><td>1000</td><td></td></tr><tr><td># variables</td><td>2</td><td></td></tr><tr><td>chi-square</td><td> 1.000e-247</td><td></td></tr><tr><td>reduced chi-square</td><td> 0.00000000</td><td></td></tr><tr><td>Akaike info crit.</td><td>-575642.273</td><td></td></tr><tr><td>Bayesian info crit.</td><td>-575632.458</td><td></td></tr></table><h2>Variables</h2><table><tr><th> name </th><th> value </th><th> initial value </th><th> min </th><th> max </th><th> vary </th></tr><tr><td> L </td><td>  1.1000e-09 </td><td> 1.1000000000000001e-09 </td><td>        -inf </td><td>         inf </td><td> True </td></tr><tr><td> C </td><td>  1.1000e-12 </td><td> 1.1000000000000002e-12 </td><td>        -inf </td><td>         inf </td><td> True </td></tr></table>"
      ],
      "text/plain": [
       "<lmfit.minimizer.MinimizerResult at 0x160c7c3a0>"
      ]
     },
     "execution_count": 18,
     "metadata": {},
     "output_type": "execute_result"
    }
   ],
   "source": [
    "fit_result"
   ]
  },
  {
   "cell_type": "markdown",
   "id": "7a3268ac",
   "metadata": {},
   "source": [
    "It has *totally* not converged.\n",
    "\n",
    "Maybe chi-square is too small numerically. It 1e-247. We maybe need to scale our data. Let's check.\n",
    "\n",
    "I'm getting too lazy to figure this out. I will instead maybe just try scipy optimise."
   ]
  },
  {
   "cell_type": "markdown",
   "id": "12fe16c1",
   "metadata": {},
   "source": [
    "## Scipy optimise\n",
    "\n",
    "https://docs.scipy.org/doc/scipy/reference/generated/scipy.optimize.minimize.html"
   ]
  },
  {
   "cell_type": "code",
   "execution_count": 27,
   "id": "4c3e5d78",
   "metadata": {
    "ExecuteTime": {
     "end_time": "2022-05-19T09:55:18.294782Z",
     "start_time": "2022-05-19T09:55:18.281766Z"
    }
   },
   "outputs": [],
   "source": [
    "from scipy.optimize import minimize \n",
    "\n",
    "# The function we want to fit\n",
    "def Z_LC_im(w,L,C):\n",
    "    return -1*w*L/(w**2*L*C-1)\n",
    "\n",
    "# The \"truth\" values\n",
    "L = 1e-9 # H\n",
    "C = 1e-12 # F\n",
    "w0 = 1/(C*L)**0.5\n",
    "Z_data = Z_LC_im(w,L,C)\n",
    "w = np.linspace(0,2*w0,1000)\n",
    "\n",
    "def cost_function(x):\n",
    "    return np.sum(np.abs(Z_LC_im(w,x[0], x[1])-Z_data)**2)\n",
    "\n",
    "x0 = [L*1.1,C*1.1]\n",
    "res = minimize(cost_function,x0, method='Powell')"
   ]
  },
  {
   "cell_type": "code",
   "execution_count": 28,
   "id": "b4197bbd",
   "metadata": {
    "ExecuteTime": {
     "end_time": "2022-05-19T09:55:18.956774Z",
     "start_time": "2022-05-19T09:55:18.951776Z"
    }
   },
   "outputs": [
    {
     "data": {
      "text/plain": [
       "   direc: array([[0.00000000e+00, 1.00000000e+00],\n",
       "       [1.71341737e+06, 2.92891621e+00]])\n",
       "     fun: 615313724.2573438\n",
       " message: 'Optimization terminated successfully.'\n",
       "    nfev: 124\n",
       "     nit: 2\n",
       "  status: 0\n",
       " success: True\n",
       "       x: array([3.53595819e+06, 6.33616415e+00])"
      ]
     },
     "execution_count": 28,
     "metadata": {},
     "output_type": "execute_result"
    }
   ],
   "source": [
    "res"
   ]
  },
  {
   "cell_type": "code",
   "execution_count": 26,
   "id": "181848eb",
   "metadata": {
    "ExecuteTime": {
     "end_time": "2022-05-19T09:54:21.701414Z",
     "start_time": "2022-05-19T09:54:21.555361Z"
    }
   },
   "outputs": [
    {
     "data": {
      "text/plain": [
       "[<matplotlib.lines.Line2D at 0x16296d1f0>]"
      ]
     },
     "execution_count": 26,
     "metadata": {},
     "output_type": "execute_result"
    },
    {
     "data": {
      "image/png": "[encoded data removed]",
      "text/plain": [
       "<Figure size 432x288 with 1 Axes>"
      ]
     },
     "metadata": {
      "needs_background": "light"
     },
     "output_type": "display_data"
    }
   ],
   "source": [
    "plt.plot(Z_LC_im(w,x0[0], x0[1]))\n",
    "plt.plot(Z_data)\n",
    "plt.plot(Z_LC_im(w,x[0],x[1]))"
   ]
  },
  {
   "cell_type": "markdown",
   "id": "b1f7479b",
   "metadata": {},
   "source": [
    "This was not a 30 second solution. "
   ]
  },
  {
   "cell_type": "markdown",
   "id": "c958a1b1",
   "metadata": {},
   "source": [
    "Try curve_fit? "
   ]
  },
  {
   "cell_type": "markdown",
   "id": "350cf2fc",
   "metadata": {},
   "source": [
    "# Try curve fit"
   ]
  },
  {
   "cell_type": "code",
   "execution_count": 30,
   "id": "9b4063a0",
   "metadata": {
    "ExecuteTime": {
     "end_time": "2022-05-19T10:01:10.589031Z",
     "start_time": "2022-05-19T10:01:10.578592Z"
    }
   },
   "outputs": [],
   "source": [
    "from scipy.optimize import curve_fit \n",
    "\n",
    "# The function we want to fit\n",
    "def Z_LC_im(w,L,C):\n",
    "    return -1*w*L/(w**2*L*C-1)\n",
    "\n",
    "# The \"truth\" values\n",
    "L = 1e-9 # H\n",
    "C = 1e-12 # F\n",
    "w0 = 1/(C*L)**0.5\n",
    "Z_data = Z_LC_im(w,L,C)\n",
    "w = np.linspace(0,2*w0,1000)\n",
    "\n",
    "initial_guess = [L*1.1,C*1.1]\n",
    "\n",
    "values, covariances = curve_fit(Z_LC_im, w, Z_data, p0 = initial_guess)"
   ]
  },
  {
   "cell_type": "code",
   "execution_count": 31,
   "id": "8fb3879c",
   "metadata": {
    "ExecuteTime": {
     "end_time": "2022-05-19T10:01:15.603504Z",
     "start_time": "2022-05-19T10:01:15.598915Z"
    }
   },
   "outputs": [
    {
     "data": {
      "text/plain": [
       "array([-4.26541426e-10, -2.12011464e-13])"
      ]
     },
     "execution_count": 31,
     "metadata": {},
     "output_type": "execute_result"
    }
   ],
   "source": [
    "values"
   ]
  },
  {
   "cell_type": "markdown",
   "id": "15a12504",
   "metadata": {},
   "source": [
    "Total nonsense..."
   ]
  },
  {
   "cell_type": "code",
   "execution_count": 33,
   "id": "82d43628",
   "metadata": {
    "ExecuteTime": {
     "end_time": "2022-05-19T10:02:15.610181Z",
     "start_time": "2022-05-19T10:02:15.176519Z"
    }
   },
   "outputs": [
    {
     "data": {
      "text/plain": [
       "[<matplotlib.lines.Line2D at 0x162a30280>]"
      ]
     },
     "execution_count": 33,
     "metadata": {},
     "output_type": "execute_result"
    },
    {
     "data": {
      "image/png": "[encoded data removed]",
      "text/plain": [
       "<Figure size 432x288 with 1 Axes>"
      ]
     },
     "metadata": {
      "needs_background": "light"
     },
     "output_type": "display_data"
    }
   ],
   "source": [
    "plt.plot(w, Z_data)\n",
    "plt.plot(w, Z_LC_im(w,values[0], values[1]))"
   ]
  },
  {
   "cell_type": "markdown",
   "id": "39cf9d33",
   "metadata": {},
   "source": [
    "This is apparently a bit tricker than we thought. "
   ]
  }
 ],
 "metadata": {
  "jupytext": {
   "formats": "ipynb,md"
  },
  "kernelspec": {
   "display_name": "Python 3 (ipykernel)",
   "language": "python",
   "name": "python3"
  },
  "language_info": {
   "codemirror_mode": {
    "name": "ipython",
    "version": 3
   },
   "file_extension": ".py",
   "mimetype": "text/x-python",
   "name": "python",
   "nbconvert_exporter": "python",
   "pygments_lexer": "ipython3",
   "version": "3.9.10"
  },
  "toc": {
   "base_numbering": 1,
   "nav_menu": {},
   "number_sections": true,
   "sideBar": true,
   "skip_h1_title": false,
   "title_cell": "Table of Contents",
   "title_sidebar": "Contents",
   "toc_cell": false,
   "toc_position": {},
   "toc_section_display": true,
   "toc_window_display": false
  }
 },
 "nbformat": 4,
 "nbformat_minor": 5
}
