{
 "cells": [
  {
   "cell_type": "code",
   "execution_count": 1,
   "id": "0324b915",
   "metadata": {
    "ExecuteTime": {
     "end_time": "2022-02-12T11:01:36.036673Z",
     "start_time": "2022-02-12T11:01:35.773304Z"
    }
   },
   "outputs": [],
   "source": [
    "import numpy as np"
   ]
  },
  {
   "cell_type": "code",
   "execution_count": 4,
   "id": "85f2425b",
   "metadata": {
    "ExecuteTime": {
     "end_time": "2022-02-12T10:55:36.434457Z",
     "start_time": "2022-02-12T10:55:36.430001Z"
    }
   },
   "outputs": [],
   "source": [
    "x = np.linspace(-10,10,100)"
   ]
  },
  {
   "cell_type": "code",
   "execution_count": null,
   "id": "2d62687d",
   "metadata": {},
   "outputs": [],
   "source": []
  }
 ],
 "metadata": {
  "kernelspec": {
   "display_name": "Python [conda env:jan2022] *",
   "language": "python",
   "name": "conda-env-jan2022-py"
  },
  "language_info": {
   "codemirror_mode": {
    "name": "ipython",
    "version": 3
   },
   "file_extension": ".py",
   "mimetype": "text/x-python",
   "name": "python",
   "nbconvert_exporter": "python",
   "pygments_lexer": "ipython3",
   "version": "3.9.10"
  },
  "toc": {
   "base_numbering": 1,
   "nav_menu": {},
   "number_sections": true,
   "sideBar": true,
   "skip_h1_title": false,
   "title_cell": "Table of Contents",
   "title_sidebar": "Contents",
   "toc_cell": false,
   "toc_position": {},
   "toc_section_display": true,
   "toc_window_display": false
  }
 },
 "nbformat": 4,
 "nbformat_minor": 5
}
