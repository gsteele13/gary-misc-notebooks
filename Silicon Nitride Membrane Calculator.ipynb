{
 "cells": [
  {
   "cell_type": "code",
   "execution_count": 12,
   "metadata": {},
   "outputs": [],
   "source": [
    "from scipy.constants import *\n",
    "import numpy as np\n",
    "k_B = k"
   ]
  },
  {
   "cell_type": "markdown",
   "metadata": {},
   "source": [
    "$$\n",
    "\\omega = \\sqrt{\\frac{k}{m}}\n",
    "$$\n",
    "\n",
    "$$\n",
    "x_{th}^2 = \\frac{k_B T}{k}\n",
    "$$\n",
    "\n",
    "Now, we typically know the thickeness / dimensions. \n",
    "\n",
    "We will approximate the effective mode mass by the total mass (this will give a correction factor order unity to the displacement, but should give us the order of magnitude OK). \n",
    "\n",
    "The density of silicon nitride is nearly the same as that of Al, 2700 kg / m$^3$."
   ]
  },
  {
   "cell_type": "code",
   "execution_count": 13,
   "metadata": {},
   "outputs": [
    {
     "name": "stdout",
     "output_type": "stream",
     "text": [
      "Mass: 3.31e-11 kg (33.07 ng)\n"
     ]
    }
   ],
   "source": [
    "L = 350e-6 # m\n",
    "t = 100e-9 # m\n",
    "rho = 2700 # kg/m^3\n",
    "\n",
    "m = rho*L**2*t\n",
    "print(\"Mass: %.2e\" % m, \"kg\", \"(%.2f\" % (m*1e3/1e-9), \"ng)\")"
   ]
  },
  {
   "cell_type": "code",
   "execution_count": 14,
   "metadata": {},
   "outputs": [
    {
     "name": "stdout",
     "output_type": "stream",
     "text": [
      "Spring constant: 1.31e+03 N/m\n"
     ]
    }
   ],
   "source": [
    "f = 1e6 # Hz\n",
    "k = (2*pi*f)**2 * m\n",
    "\n",
    "print(\"Spring constant: %.2e\" % k, \"N/m\")"
   ]
  },
  {
   "cell_type": "code",
   "execution_count": 20,
   "metadata": {
    "scrolled": true
   },
   "outputs": [
    {
     "name": "stdout",
     "output_type": "stream",
     "text": [
      "Thermal noise amplitude: 1.78e-12\n",
      "Zero point amplitude: 7.12e-16\n"
     ]
    }
   ],
   "source": [
    "x_300K = np.sqrt(k_B * 300 / k)\n",
    "x_zpf = np.sqrt(h * f / k)\n",
    "\n",
    "print(\"Thermal noise amplitude: %.2e\" % x_300K)\n",
    "print(\"Zero point amplitude: %.2e\" % x_zpf)"
   ]
  }
 ],
 "metadata": {
  "jupytext": {
   "formats": "ipynb,md"
  },
  "kernelspec": {
   "display_name": "Python 3",
   "language": "python",
   "name": "python3"
  },
  "language_info": {
   "codemirror_mode": {
    "name": "ipython",
    "version": 3
   },
   "file_extension": ".py",
   "mimetype": "text/x-python",
   "name": "python",
   "nbconvert_exporter": "python",
   "pygments_lexer": "ipython3",
   "version": "3.7.5"
  },
  "toc": {
   "base_numbering": 1,
   "nav_menu": {},
   "number_sections": true,
   "sideBar": true,
   "skip_h1_title": false,
   "title_cell": "Table of Contents",
   "title_sidebar": "Contents",
   "toc_cell": false,
   "toc_position": {},
   "toc_section_display": true,
   "toc_window_display": false
  }
 },
 "nbformat": 4,
 "nbformat_minor": 2
}
