{
 "cells": [
  {
   "cell_type": "code",
   "execution_count": 132,
   "metadata": {},
   "outputs": [],
   "source": [
    "import json\n",
    "\n",
    "class Foo:\n",
    "    a = 1\n",
    "    b = 1.5\n",
    "    c = \"a string\"\n",
    "    d = [\"a\", \"list\", \"of\", \"strings\"]\n",
    "    \n",
    "    def save_settings(self):\n",
    "        settings = {}\n",
    "        attributes = dir(self)\n",
    "        for k in attributes: \n",
    "            if k[0] != \"_\" and not callable(eval(\"self.\"+k)):\n",
    "                settings[k] = eval(\"self.\"+k)\n",
    "        print(settings)\n",
    "        with open(\"settings.json\", \"w\") as f:\n",
    "            json.dump(settings, f, indent=4)\n",
    "    \n",
    "    def load_settings(self):\n",
    "        with open(\"settings.json\", \"r\") as f:\n",
    "            settings = jason.load(f)\n",
    "        print(settings)\n",
    "        # Backward compatibility could be handled here by \n",
    "        # using an except() statement, as long as we don't\n",
    "        # rename things (in which case we would need to \n",
    "        # maintain a name mapping dict or something like \n",
    "        # that)\n",
    "        for k in settings.keys():\n",
    "            exec(f\"self.{k} = settings['{k}']\")       "
   ]
  },
  {
   "cell_type": "code",
   "execution_count": 143,
   "metadata": {},
   "outputs": [],
   "source": [
    "F = Foo()\n",
    "F.a = 100"
   ]
  },
  {
   "cell_type": "code",
   "execution_count": 144,
   "metadata": {},
   "outputs": [
    {
     "name": "stdout",
     "output_type": "stream",
     "text": [
      "{'a': 100, 'b': 1.5, 'c': 'a string', 'd': ['a', 'list', 'of', 'strings']}\n"
     ]
    }
   ],
   "source": [
    "F.save_settings()"
   ]
  },
  {
   "cell_type": "code",
   "execution_count": 145,
   "metadata": {},
   "outputs": [],
   "source": [
    "F.a = 53"
   ]
  },
  {
   "cell_type": "code",
   "execution_count": 146,
   "metadata": {},
   "outputs": [
    {
     "data": {
      "text/plain": [
       "53"
      ]
     },
     "execution_count": 146,
     "metadata": {},
     "output_type": "execute_result"
    }
   ],
   "source": [
    "F.a"
   ]
  },
  {
   "cell_type": "code",
   "execution_count": 147,
   "metadata": {},
   "outputs": [
    {
     "name": "stdout",
     "output_type": "stream",
     "text": [
      "{'a': 100, 'b': 1.5, 'c': 'a string', 'd': ['a', 'list', 'of', 'strings']}\n"
     ]
    }
   ],
   "source": [
    "F.load_settings()"
   ]
  },
  {
   "cell_type": "code",
   "execution_count": 148,
   "metadata": {},
   "outputs": [
    {
     "data": {
      "text/plain": [
       "100"
      ]
     },
     "execution_count": 148,
     "metadata": {},
     "output_type": "execute_result"
    }
   ],
   "source": [
    "F.a"
   ]
  }
 ],
 "metadata": {
  "jupytext": {
   "formats": "ipynb,md"
  },
  "kernelspec": {
   "display_name": "Python 3",
   "language": "python",
   "name": "python3"
  },
  "language_info": {
   "codemirror_mode": {
    "name": "ipython",
    "version": 3
   },
   "file_extension": ".py",
   "mimetype": "text/x-python",
   "name": "python",
   "nbconvert_exporter": "python",
   "pygments_lexer": "ipython3",
   "version": "3.7.5"
  }
 },
 "nbformat": 4,
 "nbformat_minor": 2
}
