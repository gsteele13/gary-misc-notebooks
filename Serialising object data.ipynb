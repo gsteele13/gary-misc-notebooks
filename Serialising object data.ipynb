{
 "cells": [
  {
   "cell_type": "markdown",
   "metadata": {},
   "source": [
    "# My first hack"
   ]
  },
  {
   "cell_type": "code",
   "execution_count": 132,
   "metadata": {},
   "outputs": [],
   "source": [
    "import json\n",
    "\n",
    "class Foo:\n",
    "    a = 1\n",
    "    b = 1.5\n",
    "    c = \"a string\"\n",
    "    d = [\"a\", \"list\", \"of\", \"strings\"]\n",
    "    \n",
    "    def save_settings(self):\n",
    "        settings = {}\n",
    "        attributes = dir(self)\n",
    "        for k in attributes: \n",
    "            if k[0] != \"_\" and not callable(eval(\"self.\"+k)):\n",
    "                settings[k] = eval(\"self.\"+k)\n",
    "        with open(\"settings.json\", \"w\") as f:\n",
    "            json.dump(settings, f, indent=4)\n",
    "    \n",
    "    def load_settings(self):\n",
    "        with open(\"settings.json\", \"r\") as f:\n",
    "            settings = jason.load(f)\n",
    "        # Backward compatibility could be handled here by \n",
    "        # using an except() statement, as long as we don't\n",
    "        # rename things (in which case we would need to \n",
    "        # maintain a name mapping dict or something like \n",
    "        # that)\n",
    "        for k in settings.keys():\n",
    "            exec(f\"self.{k} = settings['{k}']\")       "
   ]
  },
  {
   "cell_type": "code",
   "execution_count": 193,
   "metadata": {},
   "outputs": [
    {
     "data": {
      "text/plain": [
       "1"
      ]
     },
     "execution_count": 193,
     "metadata": {},
     "output_type": "execute_result"
    }
   ],
   "source": [
    "F = Foo()\n",
    "F.a"
   ]
  },
  {
   "cell_type": "code",
   "execution_count": 143,
   "metadata": {},
   "outputs": [],
   "source": [
    "F.a = 100"
   ]
  },
  {
   "cell_type": "code",
   "execution_count": 144,
   "metadata": {},
   "outputs": [
    {
     "name": "stdout",
     "output_type": "stream",
     "text": [
      "{'a': 100, 'b': 1.5, 'c': 'a string', 'd': ['a', 'list', 'of', 'strings']}\n"
     ]
    }
   ],
   "source": [
    "F.save_settings()"
   ]
  },
  {
   "cell_type": "code",
   "execution_count": 145,
   "metadata": {},
   "outputs": [],
   "source": [
    "F.a = 53"
   ]
  },
  {
   "cell_type": "code",
   "execution_count": 146,
   "metadata": {},
   "outputs": [
    {
     "data": {
      "text/plain": [
       "53"
      ]
     },
     "execution_count": 146,
     "metadata": {},
     "output_type": "execute_result"
    }
   ],
   "source": [
    "F.a"
   ]
  },
  {
   "cell_type": "code",
   "execution_count": 147,
   "metadata": {},
   "outputs": [
    {
     "name": "stdout",
     "output_type": "stream",
     "text": [
      "{'a': 100, 'b': 1.5, 'c': 'a string', 'd': ['a', 'list', 'of', 'strings']}\n"
     ]
    }
   ],
   "source": [
    "F.load_settings()"
   ]
  },
  {
   "cell_type": "code",
   "execution_count": 148,
   "metadata": {},
   "outputs": [
    {
     "data": {
      "text/plain": [
       "100"
      ]
     },
     "execution_count": 148,
     "metadata": {},
     "output_type": "execute_result"
    }
   ],
   "source": [
    "F.a"
   ]
  },
  {
   "cell_type": "markdown",
   "metadata": {},
   "source": [
    "# An improvement from Slava"
   ]
  },
  {
   "cell_type": "code",
   "execution_count": 184,
   "metadata": {},
   "outputs": [],
   "source": [
    "import json\n",
    "\n",
    "class Foo:\n",
    "    def __init__(self):    \n",
    "        self.a = 1\n",
    "        self.b = 1.5\n",
    "        self.c = \"a string\"\n",
    "        self.d = [\"a\", \"list\", \"of\", \"strings\"]\n",
    "\n",
    "    def save_settings(self):\n",
    "        print(self.__dict__)\n",
    "        with open(\"settings.json\", \"w\") as f:\n",
    "            json.dump(self.__dict__, f, indent=4)\n",
    "    \n",
    "    def load_settings(self):\n",
    "        print(self.__dict__)\n",
    "        with open(\"settings.json\", \"r\") as f:\n",
    "            settings = json.load(f)\n",
    "        self.__dict__.update(settings)"
   ]
  },
  {
   "cell_type": "code",
   "execution_count": 185,
   "metadata": {},
   "outputs": [],
   "source": [
    "F = Foo()\n",
    "F.a = 100"
   ]
  },
  {
   "cell_type": "code",
   "execution_count": 186,
   "metadata": {},
   "outputs": [
    {
     "name": "stdout",
     "output_type": "stream",
     "text": [
      "{'a': 100, 'b': 1.5, 'c': 'a string', 'd': ['a', 'list', 'of', 'strings']}\n"
     ]
    }
   ],
   "source": [
    "F.save_settings()"
   ]
  },
  {
   "cell_type": "code",
   "execution_count": 187,
   "metadata": {},
   "outputs": [
    {
     "data": {
      "text/plain": [
       "53"
      ]
     },
     "execution_count": 187,
     "metadata": {},
     "output_type": "execute_result"
    }
   ],
   "source": [
    "F.a = 53\n",
    "F.a"
   ]
  },
  {
   "cell_type": "code",
   "execution_count": 188,
   "metadata": {},
   "outputs": [
    {
     "name": "stdout",
     "output_type": "stream",
     "text": [
      "{'a': 53, 'b': 1.5, 'c': 'a string', 'd': ['a', 'list', 'of', 'strings']}\n"
     ]
    },
    {
     "data": {
      "text/plain": [
       "100"
      ]
     },
     "execution_count": 188,
     "metadata": {},
     "output_type": "execute_result"
    }
   ],
   "source": [
    "F.load_settings()\n",
    "F.a"
   ]
  },
  {
   "cell_type": "code",
   "execution_count": 189,
   "metadata": {},
   "outputs": [
    {
     "data": {
      "text/plain": [
       "{'a': 100, 'b': 1.5, 'c': 'a string', 'd': ['a', 'list', 'of', 'strings']}"
      ]
     },
     "execution_count": 189,
     "metadata": {},
     "output_type": "execute_result"
    }
   ],
   "source": [
    "F.__dict__"
   ]
  },
  {
   "cell_type": "markdown",
   "metadata": {},
   "source": [
    "# Reverse compatibility? "
   ]
  },
  {
   "cell_type": "code",
   "execution_count": 190,
   "metadata": {},
   "outputs": [],
   "source": [
    "import json\n",
    "\n",
    "class Foo2:\n",
    "    def __init__(self):    \n",
    "        self.a = 1\n",
    "        self.b = 1.5\n",
    "        self.c = \"a string\"\n",
    "        self.d = [\"a\", \"list\", \"of\", \"strings\"]\n",
    "        self.e = \"new\"\n",
    "\n",
    "    def save_settings(self):\n",
    "        print(self.__dict__)\n",
    "        with open(\"settings.json\", \"w\") as f:\n",
    "            json.dump(self.__dict__, f, indent=4)\n",
    "    \n",
    "    def load_settings(self):\n",
    "        print(self.__dict__)\n",
    "        with open(\"settings.json\", \"r\") as f:\n",
    "            settings = json.load(f)\n",
    "        self.__dict__.update(settings)"
   ]
  },
  {
   "cell_type": "code",
   "execution_count": 191,
   "metadata": {},
   "outputs": [],
   "source": [
    "F2 = Foo2()"
   ]
  },
  {
   "cell_type": "code",
   "execution_count": 192,
   "metadata": {
    "scrolled": true
   },
   "outputs": [
    {
     "name": "stdout",
     "output_type": "stream",
     "text": [
      "{'a': 1, 'b': 1.5, 'c': 'a string', 'd': ['a', 'list', 'of', 'strings'], 'e': 'new'}\n"
     ]
    }
   ],
   "source": [
    "F2.load_settings()"
   ]
  },
  {
   "cell_type": "markdown",
   "metadata": {},
   "source": [
    "# Python class strangeness..."
   ]
  },
  {
   "cell_type": "code",
   "execution_count": 199,
   "metadata": {},
   "outputs": [],
   "source": [
    "class Bar:\n",
    "    a = 1\n",
    "    b = 10"
   ]
  },
  {
   "cell_type": "code",
   "execution_count": 200,
   "metadata": {},
   "outputs": [],
   "source": [
    "B = Bar()"
   ]
  },
  {
   "cell_type": "code",
   "execution_count": 201,
   "metadata": {},
   "outputs": [
    {
     "data": {
      "text/plain": [
       "{}"
      ]
     },
     "execution_count": 201,
     "metadata": {},
     "output_type": "execute_result"
    }
   ],
   "source": [
    "B.__dict__"
   ]
  },
  {
   "cell_type": "code",
   "execution_count": 202,
   "metadata": {},
   "outputs": [
    {
     "data": {
      "text/plain": [
       "1"
      ]
     },
     "execution_count": 202,
     "metadata": {},
     "output_type": "execute_result"
    }
   ],
   "source": [
    "B.a"
   ]
  },
  {
   "cell_type": "code",
   "execution_count": 203,
   "metadata": {},
   "outputs": [
    {
     "data": {
      "text/plain": [
       "{}"
      ]
     },
     "execution_count": 203,
     "metadata": {},
     "output_type": "execute_result"
    }
   ],
   "source": [
    "B.__dict__"
   ]
  },
  {
   "cell_type": "code",
   "execution_count": 204,
   "metadata": {},
   "outputs": [],
   "source": [
    "B.a = 10"
   ]
  },
  {
   "cell_type": "code",
   "execution_count": 205,
   "metadata": {},
   "outputs": [
    {
     "data": {
      "text/plain": [
       "{'a': 10}"
      ]
     },
     "execution_count": 205,
     "metadata": {},
     "output_type": "execute_result"
    }
   ],
   "source": [
    "B.__dict__"
   ]
  }
 ],
 "metadata": {
  "jupytext": {
   "formats": "ipynb,md"
  },
  "kernelspec": {
   "display_name": "Python 3",
   "language": "python",
   "name": "python3"
  },
  "language_info": {
   "codemirror_mode": {
    "name": "ipython",
    "version": 3
   },
   "file_extension": ".py",
   "mimetype": "text/x-python",
   "name": "python",
   "nbconvert_exporter": "python",
   "pygments_lexer": "ipython3",
   "version": "3.7.5"
  }
 },
 "nbformat": 4,
 "nbformat_minor": 2
}
