{
 "cells": [
  {
   "cell_type": "code",
   "execution_count": null,
   "metadata": {
    "ExecuteTime": {
     "start_time": "2021-12-04T08:28:15.022Z"
    }
   },
   "outputs": [],
   "source": [
    "import numpy as np\n",
    "import pandas as pd\n",
    "import matplotlib.pyplot as plt\n",
    "\n",
    "from bokeh.plotting import figure, show\n",
    "from bokeh.io import output_notebook\n",
    "from bokeh.models import CrosshairTool\n",
    "output_notebook()\n"
   ]
  },
  {
   "cell_type": "markdown",
   "metadata": {},
   "source": [
    "Copy paste from: \n",
    "\n",
    "https://www.minicircuits.com/pages/s-params/ZVBP-10R7G-S+_VIEW.pdf"
   ]
  },
  {
   "cell_type": "code",
   "execution_count": null,
   "metadata": {
    "ExecuteTime": {
     "start_time": "2021-12-04T08:28:15.409Z"
    }
   },
   "outputs": [],
   "source": [
    "data = '''6000 103.14 110.59 102.45 0.06 0.14 0.16 0.09 0.18 0.22\n",
    "6500 100.75 104.17 110.01 0.06 0.15 0.16 0.08 0.18 0.21\n",
    "7000 104.80 104.13 103.43 0.04 0.15 0.16 0.08 0.18 0.21\n",
    "7500 104.53 98.35 94.99 0.02 0.15 0.17 0.08 0.18 0.20\n",
    "8000 96.74 94.60 99.38 0.00 0.14 0.18 0.08 0.19 0.22\n",
    "8500 89.38 89.66 86.41 0.03 0.13 0.17 0.07 0.18 0.22\n",
    "9300 67.73 67.60 67.41 0.07 0.11 0.18 0.09 0.23 0.29\n",
    "10065 30.59 30.28 29.78 0.00 0.17 0.27 0.18 0.36 0.49\n",
    "10180 20.51 20.03 19.39 0.12 0.26 0.37 0.26 0.48 0.63\n",
    "10265 11.13 10.39 9.61 0.57 0.79 1.02 0.66 0.99 1.25\n",
    "10330 3.64 3.01 2.46 3.12 4.12 5.24 3.13 4.22 5.42\n",
    "10450 0.26 0.42 0.53 29.69 27.59 23.35 30.14 29.20 24.94\n",
    "10550 0.22 0.39 0.49 28.20 26.36 26.33 30.62 27.42 27.07\n",
    "10600 0.22 0.39 0.49 22.82 22.54 22.40 25.17 24.11 23.47\n",
    "10700 0.20 0.36 0.47 27.57 34.03 32.92 30.55 40.96 40.36\n",
    "10750 0.20 0.37 0.46 25.96 29.23 34.88 26.60 27.63 31.21\n",
    "10800 0.21 0.38 0.47 23.98 25.24 28.78 25.02 25.36 28.39\n",
    "10850 0.21 0.38 0.47 29.47 31.61 35.79 34.92 33.39 36.75\n",
    "10900 0.23 0.39 0.49 25.74 29.79 29.62 26.99 30.43 29.84\n",
    "10950 0.26 0.42 0.52 21.51 25.41 30.21 21.13 23.68 27.17\n",
    "11080 2.38 3.17 4.16 4.61 3.85 3.02 4.66 3.96 3.19\n",
    "11145 9.05 10.13 11.21 0.75 0.79 0.71 0.84 0.84 0.77\n",
    "11240 19.07 20.11 20.95 0.05 0.22 0.25 0.18 0.30 0.34\n",
    "11365 29.32 30.28 30.94 0.03 0.16 0.21 0.07 0.19 0.24\n",
    "11800 52.07 52.74 53.26 0.10 0.11 0.20 0.09 0.25 0.31\n",
    "12000 59.22'''"
   ]
  },
  {
   "cell_type": "code",
   "execution_count": null,
   "metadata": {
    "ExecuteTime": {
     "start_time": "2021-12-04T08:28:15.585Z"
    }
   },
   "outputs": [],
   "source": [
    "d2 = [l.split(\" \") for l in data.split('\\n')]"
   ]
  },
  {
   "cell_type": "code",
   "execution_count": 80,
   "metadata": {
    "ExecuteTime": {
     "end_time": "2021-12-04T08:05:50.339990Z",
     "start_time": "2021-12-04T08:05:50.330264Z"
    }
   },
   "outputs": [
    {
     "data": {
      "text/plain": [
       "26"
      ]
     },
     "execution_count": 80,
     "metadata": {},
     "output_type": "execute_result"
    }
   ],
   "source": [
    "len(d2)"
   ]
  },
  {
   "cell_type": "code",
   "execution_count": 90,
   "metadata": {
    "ExecuteTime": {
     "end_time": "2021-12-04T08:06:55.490690Z",
     "start_time": "2021-12-04T08:06:55.485253Z"
    }
   },
   "outputs": [],
   "source": [
    "df = pd.DataFrame(d2)"
   ]
  },
  {
   "cell_type": "code",
   "execution_count": 91,
   "metadata": {
    "ExecuteTime": {
     "end_time": "2021-12-04T08:06:55.703379Z",
     "start_time": "2021-12-04T08:06:55.698995Z"
    }
   },
   "outputs": [],
   "source": [
    "df = df[0:-1]"
   ]
  },
  {
   "cell_type": "code",
   "execution_count": 92,
   "metadata": {
    "ExecuteTime": {
     "end_time": "2021-12-04T08:06:55.937094Z",
     "start_time": "2021-12-04T08:06:55.912552Z"
    }
   },
   "outputs": [
    {
     "data": {
      "text/html": [
       "<div>\n",
       "<style scoped>\n",
       "    .dataframe tbody tr th:only-of-type {\n",
       "        vertical-align: middle;\n",
       "    }\n",
       "\n",
       "    .dataframe tbody tr th {\n",
       "        vertical-align: top;\n",
       "    }\n",
       "\n",
       "    .dataframe thead th {\n",
       "        text-align: right;\n",
       "    }\n",
       "</style>\n",
       "<table border=\"1\" class=\"dataframe\">\n",
       "  <thead>\n",
       "    <tr style=\"text-align: right;\">\n",
       "      <th></th>\n",
       "      <th>0</th>\n",
       "      <th>1</th>\n",
       "      <th>2</th>\n",
       "      <th>3</th>\n",
       "      <th>4</th>\n",
       "      <th>5</th>\n",
       "      <th>6</th>\n",
       "      <th>7</th>\n",
       "      <th>8</th>\n",
       "      <th>9</th>\n",
       "    </tr>\n",
       "  </thead>\n",
       "  <tbody>\n",
       "    <tr>\n",
       "      <th>0</th>\n",
       "      <td>6000</td>\n",
       "      <td>103.14</td>\n",
       "      <td>110.59</td>\n",
       "      <td>102.45</td>\n",
       "      <td>0.06</td>\n",
       "      <td>0.14</td>\n",
       "      <td>0.16</td>\n",
       "      <td>0.09</td>\n",
       "      <td>0.18</td>\n",
       "      <td>0.22</td>\n",
       "    </tr>\n",
       "    <tr>\n",
       "      <th>1</th>\n",
       "      <td>6500</td>\n",
       "      <td>100.75</td>\n",
       "      <td>104.17</td>\n",
       "      <td>110.01</td>\n",
       "      <td>0.06</td>\n",
       "      <td>0.15</td>\n",
       "      <td>0.16</td>\n",
       "      <td>0.08</td>\n",
       "      <td>0.18</td>\n",
       "      <td>0.21</td>\n",
       "    </tr>\n",
       "    <tr>\n",
       "      <th>2</th>\n",
       "      <td>7000</td>\n",
       "      <td>104.80</td>\n",
       "      <td>104.13</td>\n",
       "      <td>103.43</td>\n",
       "      <td>0.04</td>\n",
       "      <td>0.15</td>\n",
       "      <td>0.16</td>\n",
       "      <td>0.08</td>\n",
       "      <td>0.18</td>\n",
       "      <td>0.21</td>\n",
       "    </tr>\n",
       "    <tr>\n",
       "      <th>3</th>\n",
       "      <td>7500</td>\n",
       "      <td>104.53</td>\n",
       "      <td>98.35</td>\n",
       "      <td>94.99</td>\n",
       "      <td>0.02</td>\n",
       "      <td>0.15</td>\n",
       "      <td>0.17</td>\n",
       "      <td>0.08</td>\n",
       "      <td>0.18</td>\n",
       "      <td>0.20</td>\n",
       "    </tr>\n",
       "    <tr>\n",
       "      <th>4</th>\n",
       "      <td>8000</td>\n",
       "      <td>96.74</td>\n",
       "      <td>94.60</td>\n",
       "      <td>99.38</td>\n",
       "      <td>0.00</td>\n",
       "      <td>0.14</td>\n",
       "      <td>0.18</td>\n",
       "      <td>0.08</td>\n",
       "      <td>0.19</td>\n",
       "      <td>0.22</td>\n",
       "    </tr>\n",
       "    <tr>\n",
       "      <th>5</th>\n",
       "      <td>8500</td>\n",
       "      <td>89.38</td>\n",
       "      <td>89.66</td>\n",
       "      <td>86.41</td>\n",
       "      <td>0.03</td>\n",
       "      <td>0.13</td>\n",
       "      <td>0.17</td>\n",
       "      <td>0.07</td>\n",
       "      <td>0.18</td>\n",
       "      <td>0.22</td>\n",
       "    </tr>\n",
       "    <tr>\n",
       "      <th>6</th>\n",
       "      <td>9300</td>\n",
       "      <td>67.73</td>\n",
       "      <td>67.60</td>\n",
       "      <td>67.41</td>\n",
       "      <td>0.07</td>\n",
       "      <td>0.11</td>\n",
       "      <td>0.18</td>\n",
       "      <td>0.09</td>\n",
       "      <td>0.23</td>\n",
       "      <td>0.29</td>\n",
       "    </tr>\n",
       "    <tr>\n",
       "      <th>7</th>\n",
       "      <td>10065</td>\n",
       "      <td>30.59</td>\n",
       "      <td>30.28</td>\n",
       "      <td>29.78</td>\n",
       "      <td>0.00</td>\n",
       "      <td>0.17</td>\n",
       "      <td>0.27</td>\n",
       "      <td>0.18</td>\n",
       "      <td>0.36</td>\n",
       "      <td>0.49</td>\n",
       "    </tr>\n",
       "    <tr>\n",
       "      <th>8</th>\n",
       "      <td>10180</td>\n",
       "      <td>20.51</td>\n",
       "      <td>20.03</td>\n",
       "      <td>19.39</td>\n",
       "      <td>0.12</td>\n",
       "      <td>0.26</td>\n",
       "      <td>0.37</td>\n",
       "      <td>0.26</td>\n",
       "      <td>0.48</td>\n",
       "      <td>0.63</td>\n",
       "    </tr>\n",
       "    <tr>\n",
       "      <th>9</th>\n",
       "      <td>10265</td>\n",
       "      <td>11.13</td>\n",
       "      <td>10.39</td>\n",
       "      <td>9.61</td>\n",
       "      <td>0.57</td>\n",
       "      <td>0.79</td>\n",
       "      <td>1.02</td>\n",
       "      <td>0.66</td>\n",
       "      <td>0.99</td>\n",
       "      <td>1.25</td>\n",
       "    </tr>\n",
       "    <tr>\n",
       "      <th>10</th>\n",
       "      <td>10330</td>\n",
       "      <td>3.64</td>\n",
       "      <td>3.01</td>\n",
       "      <td>2.46</td>\n",
       "      <td>3.12</td>\n",
       "      <td>4.12</td>\n",
       "      <td>5.24</td>\n",
       "      <td>3.13</td>\n",
       "      <td>4.22</td>\n",
       "      <td>5.42</td>\n",
       "    </tr>\n",
       "    <tr>\n",
       "      <th>11</th>\n",
       "      <td>10450</td>\n",
       "      <td>0.26</td>\n",
       "      <td>0.42</td>\n",
       "      <td>0.53</td>\n",
       "      <td>29.69</td>\n",
       "      <td>27.59</td>\n",
       "      <td>23.35</td>\n",
       "      <td>30.14</td>\n",
       "      <td>29.20</td>\n",
       "      <td>24.94</td>\n",
       "    </tr>\n",
       "    <tr>\n",
       "      <th>12</th>\n",
       "      <td>10550</td>\n",
       "      <td>0.22</td>\n",
       "      <td>0.39</td>\n",
       "      <td>0.49</td>\n",
       "      <td>28.20</td>\n",
       "      <td>26.36</td>\n",
       "      <td>26.33</td>\n",
       "      <td>30.62</td>\n",
       "      <td>27.42</td>\n",
       "      <td>27.07</td>\n",
       "    </tr>\n",
       "    <tr>\n",
       "      <th>13</th>\n",
       "      <td>10600</td>\n",
       "      <td>0.22</td>\n",
       "      <td>0.39</td>\n",
       "      <td>0.49</td>\n",
       "      <td>22.82</td>\n",
       "      <td>22.54</td>\n",
       "      <td>22.40</td>\n",
       "      <td>25.17</td>\n",
       "      <td>24.11</td>\n",
       "      <td>23.47</td>\n",
       "    </tr>\n",
       "    <tr>\n",
       "      <th>14</th>\n",
       "      <td>10700</td>\n",
       "      <td>0.20</td>\n",
       "      <td>0.36</td>\n",
       "      <td>0.47</td>\n",
       "      <td>27.57</td>\n",
       "      <td>34.03</td>\n",
       "      <td>32.92</td>\n",
       "      <td>30.55</td>\n",
       "      <td>40.96</td>\n",
       "      <td>40.36</td>\n",
       "    </tr>\n",
       "    <tr>\n",
       "      <th>15</th>\n",
       "      <td>10750</td>\n",
       "      <td>0.20</td>\n",
       "      <td>0.37</td>\n",
       "      <td>0.46</td>\n",
       "      <td>25.96</td>\n",
       "      <td>29.23</td>\n",
       "      <td>34.88</td>\n",
       "      <td>26.60</td>\n",
       "      <td>27.63</td>\n",
       "      <td>31.21</td>\n",
       "    </tr>\n",
       "    <tr>\n",
       "      <th>16</th>\n",
       "      <td>10800</td>\n",
       "      <td>0.21</td>\n",
       "      <td>0.38</td>\n",
       "      <td>0.47</td>\n",
       "      <td>23.98</td>\n",
       "      <td>25.24</td>\n",
       "      <td>28.78</td>\n",
       "      <td>25.02</td>\n",
       "      <td>25.36</td>\n",
       "      <td>28.39</td>\n",
       "    </tr>\n",
       "    <tr>\n",
       "      <th>17</th>\n",
       "      <td>10850</td>\n",
       "      <td>0.21</td>\n",
       "      <td>0.38</td>\n",
       "      <td>0.47</td>\n",
       "      <td>29.47</td>\n",
       "      <td>31.61</td>\n",
       "      <td>35.79</td>\n",
       "      <td>34.92</td>\n",
       "      <td>33.39</td>\n",
       "      <td>36.75</td>\n",
       "    </tr>\n",
       "    <tr>\n",
       "      <th>18</th>\n",
       "      <td>10900</td>\n",
       "      <td>0.23</td>\n",
       "      <td>0.39</td>\n",
       "      <td>0.49</td>\n",
       "      <td>25.74</td>\n",
       "      <td>29.79</td>\n",
       "      <td>29.62</td>\n",
       "      <td>26.99</td>\n",
       "      <td>30.43</td>\n",
       "      <td>29.84</td>\n",
       "    </tr>\n",
       "    <tr>\n",
       "      <th>19</th>\n",
       "      <td>10950</td>\n",
       "      <td>0.26</td>\n",
       "      <td>0.42</td>\n",
       "      <td>0.52</td>\n",
       "      <td>21.51</td>\n",
       "      <td>25.41</td>\n",
       "      <td>30.21</td>\n",
       "      <td>21.13</td>\n",
       "      <td>23.68</td>\n",
       "      <td>27.17</td>\n",
       "    </tr>\n",
       "    <tr>\n",
       "      <th>20</th>\n",
       "      <td>11080</td>\n",
       "      <td>2.38</td>\n",
       "      <td>3.17</td>\n",
       "      <td>4.16</td>\n",
       "      <td>4.61</td>\n",
       "      <td>3.85</td>\n",
       "      <td>3.02</td>\n",
       "      <td>4.66</td>\n",
       "      <td>3.96</td>\n",
       "      <td>3.19</td>\n",
       "    </tr>\n",
       "    <tr>\n",
       "      <th>21</th>\n",
       "      <td>11145</td>\n",
       "      <td>9.05</td>\n",
       "      <td>10.13</td>\n",
       "      <td>11.21</td>\n",
       "      <td>0.75</td>\n",
       "      <td>0.79</td>\n",
       "      <td>0.71</td>\n",
       "      <td>0.84</td>\n",
       "      <td>0.84</td>\n",
       "      <td>0.77</td>\n",
       "    </tr>\n",
       "    <tr>\n",
       "      <th>22</th>\n",
       "      <td>11240</td>\n",
       "      <td>19.07</td>\n",
       "      <td>20.11</td>\n",
       "      <td>20.95</td>\n",
       "      <td>0.05</td>\n",
       "      <td>0.22</td>\n",
       "      <td>0.25</td>\n",
       "      <td>0.18</td>\n",
       "      <td>0.30</td>\n",
       "      <td>0.34</td>\n",
       "    </tr>\n",
       "    <tr>\n",
       "      <th>23</th>\n",
       "      <td>11365</td>\n",
       "      <td>29.32</td>\n",
       "      <td>30.28</td>\n",
       "      <td>30.94</td>\n",
       "      <td>0.03</td>\n",
       "      <td>0.16</td>\n",
       "      <td>0.21</td>\n",
       "      <td>0.07</td>\n",
       "      <td>0.19</td>\n",
       "      <td>0.24</td>\n",
       "    </tr>\n",
       "    <tr>\n",
       "      <th>24</th>\n",
       "      <td>11800</td>\n",
       "      <td>52.07</td>\n",
       "      <td>52.74</td>\n",
       "      <td>53.26</td>\n",
       "      <td>0.10</td>\n",
       "      <td>0.11</td>\n",
       "      <td>0.20</td>\n",
       "      <td>0.09</td>\n",
       "      <td>0.25</td>\n",
       "      <td>0.31</td>\n",
       "    </tr>\n",
       "  </tbody>\n",
       "</table>\n",
       "</div>"
      ],
      "text/plain": [
       "        0       1       2       3      4      5      6      7      8      9\n",
       "0    6000  103.14  110.59  102.45   0.06   0.14   0.16   0.09   0.18   0.22\n",
       "1    6500  100.75  104.17  110.01   0.06   0.15   0.16   0.08   0.18   0.21\n",
       "2    7000  104.80  104.13  103.43   0.04   0.15   0.16   0.08   0.18   0.21\n",
       "3    7500  104.53   98.35   94.99   0.02   0.15   0.17   0.08   0.18   0.20\n",
       "4    8000   96.74   94.60   99.38   0.00   0.14   0.18   0.08   0.19   0.22\n",
       "5    8500   89.38   89.66   86.41   0.03   0.13   0.17   0.07   0.18   0.22\n",
       "6    9300   67.73   67.60   67.41   0.07   0.11   0.18   0.09   0.23   0.29\n",
       "7   10065   30.59   30.28   29.78   0.00   0.17   0.27   0.18   0.36   0.49\n",
       "8   10180   20.51   20.03   19.39   0.12   0.26   0.37   0.26   0.48   0.63\n",
       "9   10265   11.13   10.39    9.61   0.57   0.79   1.02   0.66   0.99   1.25\n",
       "10  10330    3.64    3.01    2.46   3.12   4.12   5.24   3.13   4.22   5.42\n",
       "11  10450    0.26    0.42    0.53  29.69  27.59  23.35  30.14  29.20  24.94\n",
       "12  10550    0.22    0.39    0.49  28.20  26.36  26.33  30.62  27.42  27.07\n",
       "13  10600    0.22    0.39    0.49  22.82  22.54  22.40  25.17  24.11  23.47\n",
       "14  10700    0.20    0.36    0.47  27.57  34.03  32.92  30.55  40.96  40.36\n",
       "15  10750    0.20    0.37    0.46  25.96  29.23  34.88  26.60  27.63  31.21\n",
       "16  10800    0.21    0.38    0.47  23.98  25.24  28.78  25.02  25.36  28.39\n",
       "17  10850    0.21    0.38    0.47  29.47  31.61  35.79  34.92  33.39  36.75\n",
       "18  10900    0.23    0.39    0.49  25.74  29.79  29.62  26.99  30.43  29.84\n",
       "19  10950    0.26    0.42    0.52  21.51  25.41  30.21  21.13  23.68  27.17\n",
       "20  11080    2.38    3.17    4.16   4.61   3.85   3.02   4.66   3.96   3.19\n",
       "21  11145    9.05   10.13   11.21   0.75   0.79   0.71   0.84   0.84   0.77\n",
       "22  11240   19.07   20.11   20.95   0.05   0.22   0.25   0.18   0.30   0.34\n",
       "23  11365   29.32   30.28   30.94   0.03   0.16   0.21   0.07   0.19   0.24\n",
       "24  11800   52.07   52.74   53.26   0.10   0.11   0.20   0.09   0.25   0.31"
      ]
     },
     "execution_count": 92,
     "metadata": {},
     "output_type": "execute_result"
    }
   ],
   "source": [
    "df"
   ]
  },
  {
   "cell_type": "code",
   "execution_count": 93,
   "metadata": {
    "ExecuteTime": {
     "end_time": "2021-12-04T08:06:55.996746Z",
     "start_time": "2021-12-04T08:06:55.993450Z"
    }
   },
   "outputs": [],
   "source": [
    "f = df[0].values.astype(float)\n",
    "db = df[1].values.astype(float)"
   ]
  },
  {
   "cell_type": "code",
   "execution_count": 105,
   "metadata": {
    "ExecuteTime": {
     "end_time": "2021-12-04T08:19:19.757823Z",
     "start_time": "2021-12-04T08:19:19.701278Z"
    }
   },
   "outputs": [
    {
     "data": {
      "text/html": [
       "\n",
       "\n",
       "\n",
       "\n",
       "\n",
       "\n",
       "  <div class=\"bk-root\" id=\"40e10b63-8225-40b1-8082-3b173b79541d\" data-root-id=\"1490\"></div>\n"
      ]
     },
     "metadata": {},
     "output_type": "display_data"
    },
    {
     "data": {
      "application/javascript": [
       "(function(root) {\n",
       "  function embed_document(root) {\n",
       "    \n",
       "  var docs_json = {\"bb4d696e-6311-4ae8-a76d-9c283bd30e32\":{\"defs\":[],\"roots\":{\"references\":[{\"attributes\":{\"below\":[{\"id\":\"1499\"}],\"center\":[{\"id\":\"1502\"},{\"id\":\"1506\"}],\"height\":300,\"left\":[{\"id\":\"1503\"}],\"renderers\":[{\"id\":\"1524\"}],\"sizing_mode\":\"scale_width\",\"title\":{\"id\":\"1560\"},\"toolbar\":{\"id\":\"1514\"},\"x_range\":{\"id\":\"1491\"},\"x_scale\":{\"id\":\"1495\"},\"y_range\":{\"id\":\"1493\"},\"y_scale\":{\"id\":\"1497\"}},\"id\":\"1490\",\"subtype\":\"Figure\",\"type\":\"Plot\"},{\"attributes\":{},\"id\":\"1507\",\"type\":\"PanTool\"},{\"attributes\":{\"line_color\":\"#1f77b4\",\"x\":{\"field\":\"x\"},\"y\":{\"field\":\"y\"}},\"id\":\"1522\",\"type\":\"Line\"},{\"attributes\":{\"formatter\":{\"id\":\"1563\"},\"major_label_policy\":{\"id\":\"1561\"},\"ticker\":{\"id\":\"1504\"}},\"id\":\"1503\",\"type\":\"LinearAxis\"},{\"attributes\":{\"line_alpha\":0.1,\"line_color\":\"#1f77b4\",\"x\":{\"field\":\"x\"},\"y\":{\"field\":\"y\"}},\"id\":\"1523\",\"type\":\"Line\"},{\"attributes\":{\"formatter\":{\"id\":\"1566\"},\"major_label_policy\":{\"id\":\"1564\"},\"ticker\":{\"id\":\"1500\"}},\"id\":\"1499\",\"type\":\"LinearAxis\"},{\"attributes\":{\"active_multi\":null,\"tools\":[{\"id\":\"1507\"},{\"id\":\"1508\"},{\"id\":\"1509\"},{\"id\":\"1510\"},{\"id\":\"1511\"},{\"id\":\"1512\"}]},\"id\":\"1514\",\"type\":\"Toolbar\"},{\"attributes\":{},\"id\":\"1500\",\"type\":\"BasicTicker\"},{\"attributes\":{},\"id\":\"1569\",\"type\":\"UnionRenderers\"},{\"attributes\":{},\"id\":\"1511\",\"type\":\"ResetTool\"},{\"attributes\":{\"data\":{\"x\":{\"__ndarray__\":\"AAAAAABwt0AAAAAAAGS5QAAAAAAAWLtAAAAAAABMvUAAAAAAAEC/QAAAAAAAmsBAAAAAAAAqwkAAAAAAgKjDQAAAAAAA4sNAAAAAAIAMxEAAAAAAAC3EQAAAAAAAacRAAAAAAACbxEAAAAAAALTEQAAAAAAA5sRAAAAAAAD/xEAAAAAAABjFQAAAAAAAMcVAAAAAAABKxUAAAAAAAGPFQAAAAAAApMVAAAAAAIDExUAAAAAAAPTFQAAAAACAMsZAAAAAAAAMx0A=\",\"dtype\":\"float64\",\"order\":\"little\",\"shape\":[25]},\"y\":{\"__ndarray__\":\"KVyPwvXIWcAAAAAAADBZwDMzMzMzM1rAUrgeheshWsCPwvUoXC9YwLgehetRWFbAH4XrUbjuUMDXo3A9Cpc+wMP1KFyPgjTAw/UoXI9CJsAfhetRuB4NwKRwPQrXo9C/KVyPwvUozL8pXI/C9SjMv5qZmZmZmcm/mpmZmZmZyb/hehSuR+HKv+F6FK5H4cq/cT0K16Nwzb+kcD0K16PQvwrXo3A9CgPAmpmZmZkZIsBSuB6F6xEzwFK4HoXrUT3AKVyPwvUISsA=\",\"dtype\":\"float64\",\"order\":\"little\",\"shape\":[25]}},\"selected\":{\"id\":\"1568\"},\"selection_policy\":{\"id\":\"1569\"}},\"id\":\"1521\",\"type\":\"ColumnDataSource\"},{\"attributes\":{\"source\":{\"id\":\"1521\"}},\"id\":\"1525\",\"type\":\"CDSView\"},{\"attributes\":{},\"id\":\"1491\",\"type\":\"DataRange1d\"},{\"attributes\":{},\"id\":\"1504\",\"type\":\"BasicTicker\"},{\"attributes\":{},\"id\":\"1560\",\"type\":\"Title\"},{\"attributes\":{},\"id\":\"1495\",\"type\":\"LinearScale\"},{\"attributes\":{\"data_source\":{\"id\":\"1521\"},\"glyph\":{\"id\":\"1522\"},\"hover_glyph\":null,\"muted_glyph\":null,\"nonselection_glyph\":{\"id\":\"1523\"},\"view\":{\"id\":\"1525\"}},\"id\":\"1524\",\"type\":\"GlyphRenderer\"},{\"attributes\":{},\"id\":\"1566\",\"type\":\"BasicTickFormatter\"},{\"attributes\":{},\"id\":\"1568\",\"type\":\"Selection\"},{\"attributes\":{},\"id\":\"1497\",\"type\":\"LinearScale\"},{\"attributes\":{},\"id\":\"1561\",\"type\":\"AllLabels\"},{\"attributes\":{\"axis\":{\"id\":\"1503\"},\"dimension\":1,\"ticker\":null},\"id\":\"1506\",\"type\":\"Grid\"},{\"attributes\":{},\"id\":\"1563\",\"type\":\"BasicTickFormatter\"},{\"attributes\":{},\"id\":\"1508\",\"type\":\"WheelZoomTool\"},{\"attributes\":{},\"id\":\"1510\",\"type\":\"SaveTool\"},{\"attributes\":{\"bottom_units\":\"screen\",\"fill_alpha\":0.5,\"fill_color\":\"lightgrey\",\"left_units\":\"screen\",\"level\":\"overlay\",\"line_alpha\":1.0,\"line_color\":\"black\",\"line_dash\":[4,4],\"line_width\":2,\"right_units\":\"screen\",\"syncable\":false,\"top_units\":\"screen\"},\"id\":\"1513\",\"type\":\"BoxAnnotation\"},{\"attributes\":{},\"id\":\"1564\",\"type\":\"AllLabels\"},{\"attributes\":{\"axis\":{\"id\":\"1499\"},\"ticker\":null},\"id\":\"1502\",\"type\":\"Grid\"},{\"attributes\":{\"overlay\":{\"id\":\"1513\"}},\"id\":\"1509\",\"type\":\"BoxZoomTool\"},{\"attributes\":{},\"id\":\"1493\",\"type\":\"DataRange1d\"},{\"attributes\":{},\"id\":\"1512\",\"type\":\"HelpTool\"}],\"root_ids\":[\"1490\"]},\"title\":\"Bokeh Application\",\"version\":\"2.3.1\"}};\n",
       "  var render_items = [{\"docid\":\"bb4d696e-6311-4ae8-a76d-9c283bd30e32\",\"notebook_comms_target\":\"1570\",\"root_ids\":[\"1490\"],\"roots\":{\"1490\":\"40e10b63-8225-40b1-8082-3b173b79541d\"}}];\n",
       "  root.Bokeh.embed.embed_items_notebook(docs_json, render_items);\n",
       "\n",
       "  }\n",
       "  if (root.Bokeh !== undefined) {\n",
       "    embed_document(root);\n",
       "  } else {\n",
       "    var attempts = 0;\n",
       "    var timer = setInterval(function(root) {\n",
       "      if (root.Bokeh !== undefined) {\n",
       "        clearInterval(timer);\n",
       "        embed_document(root);\n",
       "      } else {\n",
       "        attempts++;\n",
       "        if (attempts > 100) {\n",
       "          clearInterval(timer);\n",
       "          console.log(\"Bokeh: ERROR: Unable to run BokehJS code because BokehJS library is missing\");\n",
       "        }\n",
       "      }\n",
       "    }, 10, root)\n",
       "  }\n",
       "})(window);"
      ],
      "application/vnd.bokehjs_exec.v0+json": ""
     },
     "metadata": {
      "application/vnd.bokehjs_exec.v0+json": {
       "id": "1490"
      }
     },
     "output_type": "display_data"
    }
   ],
   "source": [
    "p = figure(height=300, width=600) \n",
    "p.sizing_mode = \"scale_width\"\n",
    "p.line(f,-db)\n",
    "target = show(p, notebook_handle=True)\n"
   ]
  },
  {
   "cell_type": "code",
   "execution_count": 86,
   "metadata": {
    "ExecuteTime": {
     "end_time": "2021-12-04T08:05:55.720854Z",
     "start_time": "2021-12-04T08:05:55.716261Z"
    }
   },
   "outputs": [],
   "source": [
    "fi = np.arange(f[0],f[-1],1)"
   ]
  },
  {
   "cell_type": "code",
   "execution_count": 87,
   "metadata": {
    "ExecuteTime": {
     "end_time": "2021-12-04T08:05:56.180591Z",
     "start_time": "2021-12-04T08:05:56.176515Z"
    }
   },
   "outputs": [],
   "source": [
    "dbi = np.interp(fi,f,db)"
   ]
  },
  {
   "cell_type": "code",
   "execution_count": 88,
   "metadata": {
    "ExecuteTime": {
     "end_time": "2021-12-04T08:05:56.950102Z",
     "start_time": "2021-12-04T08:05:56.941840Z"
    }
   },
   "outputs": [
    {
     "data": {
      "text/plain": [
       "array([101.706])"
      ]
     },
     "execution_count": 88,
     "metadata": {},
     "output_type": "execute_result"
    }
   ],
   "source": [
    "f = 6300\n",
    "dbi[np.where(fi == 6300)]"
   ]
  },
  {
   "cell_type": "code",
   "execution_count": 1,
   "metadata": {
    "ExecuteTime": {
     "end_time": "2021-12-04T08:28:08.235629Z",
     "start_time": "2021-12-04T08:28:08.138601Z"
    }
   },
   "outputs": [
    {
     "ename": "NameError",
     "evalue": "name 'dbi' is not defined",
     "output_type": "error",
     "traceback": [
      "\u001b[0;31m---------------------------------------------------------------------------\u001b[0m",
      "\u001b[0;31mNameError\u001b[0m                                 Traceback (most recent call last)",
      "\u001b[0;32m<ipython-input-1-9bd31a545196>\u001b[0m in \u001b[0;36m<module>\u001b[0;34m\u001b[0m\n\u001b[1;32m      5\u001b[0m \u001b[0;34m\u001b[0m\u001b[0m\n\u001b[1;32m      6\u001b[0m \u001b[0;32mfor\u001b[0m \u001b[0mf\u001b[0m \u001b[0;32min\u001b[0m \u001b[0;34m\"f_upper\"\u001b[0m\u001b[0;34m,\u001b[0m \u001b[0;34m\"f_upper - 25\"\u001b[0m\u001b[0;34m,\u001b[0m \u001b[0;34m\"f_car\"\u001b[0m\u001b[0;34m,\u001b[0m \u001b[0;34m\"f_lower\"\u001b[0m\u001b[0;34m:\u001b[0m\u001b[0;34m\u001b[0m\u001b[0;34m\u001b[0m\u001b[0m\n\u001b[0;32m----> 7\u001b[0;31m     \u001b[0mprint\u001b[0m\u001b[0;34m(\u001b[0m\u001b[0;34m\"db %s %f\"\u001b[0m \u001b[0;34m%\u001b[0m \u001b[0;34m(\u001b[0m\u001b[0mf\u001b[0m\u001b[0;34m,\u001b[0m \u001b[0mdbi\u001b[0m\u001b[0;34m[\u001b[0m\u001b[0mnp\u001b[0m\u001b[0;34m.\u001b[0m\u001b[0mwhere\u001b[0m\u001b[0;34m(\u001b[0m\u001b[0mfi\u001b[0m \u001b[0;34m==\u001b[0m \u001b[0meval\u001b[0m\u001b[0;34m(\u001b[0m\u001b[0mf\u001b[0m\u001b[0;34m)\u001b[0m\u001b[0;34m)\u001b[0m\u001b[0;34m]\u001b[0m\u001b[0;34m)\u001b[0m\u001b[0;34m)\u001b[0m\u001b[0;34m\u001b[0m\u001b[0;34m\u001b[0m\u001b[0m\n\u001b[0m",
      "\u001b[0;31mNameError\u001b[0m: name 'dbi' is not defined"
     ]
    }
   ],
   "source": [
    "f_if = 350\n",
    "f_upper = 10500\n",
    "f_car = f_upper - f_if\n",
    "f_lower = f_upper - 2*f_if\n",
    "\n",
    "for f in \"f_upper\", \"f_upper - 25\", \"f_car\", \"f_lower\":\n",
    "    print(\"db %s %f\" % (f, dbi[np.where(fi == eval(f))]))\n"
   ]
  },
  {
   "cell_type": "markdown",
   "metadata": {},
   "source": [
    "That's probably not going to cut it in terms of image suppression. "
   ]
  }
 ],
 "metadata": {
  "jupytext": {
   "formats": "ipynb,md"
  },
  "kernelspec": {
   "display_name": "Python 3",
   "language": "python",
   "name": "python3"
  },
  "language_info": {
   "codemirror_mode": {
    "name": "ipython",
    "version": 3
   },
   "file_extension": ".py",
   "mimetype": "text/x-python",
   "name": "python",
   "nbconvert_exporter": "python",
   "pygments_lexer": "ipython3",
   "version": "3.7.5"
  },
  "toc": {
   "base_numbering": 1,
   "nav_menu": {},
   "number_sections": true,
   "sideBar": true,
   "skip_h1_title": false,
   "title_cell": "Table of Contents",
   "title_sidebar": "Contents",
   "toc_cell": false,
   "toc_position": {},
   "toc_section_display": true,
   "toc_window_display": false
  }
 },
 "nbformat": 4,
 "nbformat_minor": 2
}
