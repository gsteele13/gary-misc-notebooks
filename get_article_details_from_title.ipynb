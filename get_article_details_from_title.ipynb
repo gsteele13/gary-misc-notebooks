{
 "cells": [
  {
   "cell_type": "code",
   "execution_count": 8,
   "id": "8940023c-a109-4db7-accc-435ea2de0dcd",
   "metadata": {},
   "outputs": [],
   "source": [
    "import crossref.restful\n",
    "import arxiv"
   ]
  },
  {
   "cell_type": "markdown",
   "id": "e844f458-abca-424e-ae00-b3cdc6d1c411",
   "metadata": {},
   "source": [
    "# Using crossref and arxiv APIs to get article information based on only the title\n",
    "\n",
    "A bit hackey, but pretty cool, and should just work as long as your title is unique (and your arxiv title matches the journal title). "
   ]
  },
  {
   "cell_type": "code",
   "execution_count": 9,
   "id": "d18dd833-7d94-47a5-abdd-63341b4a6452",
   "metadata": {},
   "outputs": [],
   "source": [
    "client = arxiv.Client() \n",
    "works = crossref.restful.Works()"
   ]
  },
  {
   "cell_type": "code",
   "execution_count": 10,
   "id": "e47123e1-da22-47d7-9674-792f2d166bb6",
   "metadata": {},
   "outputs": [],
   "source": [
    "def get_record_from_paper_title(paper_title):\n",
    "    record = {}\n",
    "    record[\"title\"] = paper_title\n",
    "    \n",
    "    # Grab the arxiv id\n",
    "    search = arxiv.Search(query = paper_title, max_results = 1)\n",
    "    results = client.results(search)\n",
    "    for r in results:\n",
    "        break\n",
    "    record[\"arxiv_link\"] = r.entry_id\n",
    "    \n",
    "    # Grab the paper info from crossref\n",
    "    w = works.query(bibliographic=paper_title)\n",
    "    for paper in w:\n",
    "        break\n",
    "    \n",
    "    author_list = \"\"\n",
    "    for a in paper[\"author\"]:\n",
    "        # print(a)\n",
    "        author_list += a[\"given\"]\n",
    "        author_list += \" \" + a[\"family\"]\n",
    "        author_list += \", \"\n",
    "    author_list = author_list.rstrip(\", \")\n",
    "    record[\"author_list\"] = author_list\n",
    "    \n",
    "    year = paper[\"created\"]['date-parts'][0][0]\n",
    "    record[\"year\"] = year\n",
    "\n",
    "    journal_ref = paper[\"short-container-title\"][0]\n",
    "    journal_ref += \" \" + paper[\"volume\"]\n",
    "    if \"page\" in paper.keys():\n",
    "        journal_ref += \", \" + paper[\"page\"]\n",
    "    elif \"article-number\" in paper.keys():\n",
    "        journal_ref += \", \" + paper[\"article-number\"]    \n",
    "    journal_ref += \" (%d)\" % year\n",
    "    record[\"journal_ref\"] = journal_ref\n",
    "    record[\"doi\"] = paper[\"DOI\"]\n",
    "    record[\"journal_link\"] = \"http://dx.doi.org/\" + paper[\"DOI\"]\n",
    "\n",
    "    return record"
   ]
  },
  {
   "cell_type": "code",
   "execution_count": 11,
   "id": "c4ec999c-1847-496a-a734-1acee397c573",
   "metadata": {},
   "outputs": [
    {
     "data": {
      "text/plain": [
       "{'title': 'Imaging Transport Resonances in the Quantum Hall Effect',\n",
       " 'arxiv_link': 'http://arxiv.org/abs/cond-mat/0506347v2',\n",
       " 'author_list': 'G. A. Steele, R. C. Ashoori, L. N. Pfeiffer, K. W. West',\n",
       " 'year': 2005,\n",
       " 'journal_ref': 'Phys. Rev. Lett. 95, 136804 (2005)',\n",
       " 'doi': '10.1103/physrevlett.95.136804',\n",
       " 'journal_link': 'http://dx.doi.org/10.1103/physrevlett.95.136804'}"
      ]
     },
     "execution_count": 11,
     "metadata": {},
     "output_type": "execute_result"
    }
   ],
   "source": [
    "title = \"Imaging Transport Resonances in the Quantum Hall Effect\"\n",
    "get_record_from_paper_title(title)"
   ]
  },
  {
   "cell_type": "code",
   "execution_count": 12,
   "id": "308f2517-ea5b-4366-a62a-f25449652265",
   "metadata": {},
   "outputs": [
    {
     "data": {
      "text/plain": [
       "{'title': 'Photon-Pressure Strong-Coupling between two Superconducting Circuits',\n",
       " 'arxiv_link': 'http://arxiv.org/abs/2109.00205v2',\n",
       " 'author_list': 'D. Bothner, I. C. Rodrigues, G. A. Steele',\n",
       " 'year': 2020,\n",
       " 'journal_ref': 'Nat. Phys. 17, 85-91 (2020)',\n",
       " 'doi': '10.1038/s41567-020-0987-5',\n",
       " 'journal_link': 'http://dx.doi.org/10.1038/s41567-020-0987-5'}"
      ]
     },
     "execution_count": 12,
     "metadata": {},
     "output_type": "execute_result"
    }
   ],
   "source": [
    "title = \"Photon-Pressure Strong-Coupling between two Superconducting Circuits\"\n",
    "get_record_from_paper_title(title)"
   ]
  },
  {
   "cell_type": "code",
   "execution_count": 13,
   "id": "e9fe53f3-c158-4d4c-b3b6-e8aa3825eb92",
   "metadata": {},
   "outputs": [
    {
     "data": {
      "text/plain": [
       "{'title': 'Multi-Tone Microwave Locking via Real-Time Feedback',\n",
       " 'arxiv_link': 'http://arxiv.org/abs/2304.06296v2',\n",
       " 'author_list': 'J.P. van Soest, C.A. Potts, S. Peiter, A. Sanz Mora, G.A. Steele',\n",
       " 'year': 2023,\n",
       " 'journal_ref': 'Phys. Rev. Applied 20, 034007 (2023)',\n",
       " 'doi': '10.1103/physrevapplied.20.034007',\n",
       " 'journal_link': 'http://dx.doi.org/10.1103/physrevapplied.20.034007'}"
      ]
     },
     "execution_count": 13,
     "metadata": {},
     "output_type": "execute_result"
    }
   ],
   "source": [
    "title = \"Multi-Tone Microwave Locking via Real-Time Feedback\"\n",
    "get_record_from_paper_title(title)"
   ]
  },
  {
   "cell_type": "markdown",
   "id": "5f703aad-6f09-4a23-a520-145b02fb15d2",
   "metadata": {},
   "source": [
    "### Todo\n",
    "\n",
    "* Make it able to handle arxiv entries that have no journal article (yet)\n",
    "  * Would have to pull instead article info from arxiv api\n",
    "* Handle (naughty) journal articles that have no arxiv entry\n",
    "  * easy, would just drop arxiv tag, or set it to None\n",
    "* Maybe do some fuzzy logic to deal with papers that have slightly different titles on the arxiv and in the journal"
   ]
  }
 ],
 "metadata": {
  "jupytext": {
   "formats": "ipynb,md"
  },
  "kernelspec": {
   "display_name": "Python 3 (ipykernel)",
   "language": "python",
   "name": "python3"
  },
  "language_info": {
   "codemirror_mode": {
    "name": "ipython",
    "version": 3
   },
   "file_extension": ".py",
   "mimetype": "text/x-python",
   "name": "python",
   "nbconvert_exporter": "python",
   "pygments_lexer": "ipython3",
   "version": "3.12.3"
  }
 },
 "nbformat": 4,
 "nbformat_minor": 5
}
