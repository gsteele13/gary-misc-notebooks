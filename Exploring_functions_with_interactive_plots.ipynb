{
 "cells": [
  {
   "cell_type": "markdown",
   "metadata": {},
   "source": [
    "# Exploring functions with interactive plots\n",
    "\n",
    "A very powerful feature available in Jupter notebooks is the ability to easily create interactive plots using the <a href=https://ipywidgets.readthedocs.io/en/stable/examples/Using%20Interact.html>ipywidgets</a> library.\n",
    "\n",
    "With ipywidgets you can embed sliders, or other \"widgets\", into your web browser, linking a Python variable to that slider, and then calling a function that you define yourself whenever that slider changes. You can see an example of this in this code:"
   ]
  },
  {
   "cell_type": "code",
   "execution_count": null,
   "metadata": {},
   "outputs": [],
   "source": [
    "from ipywidgets import *\n",
    "import numpy as np\n",
    "import matplotlib.pyplot as plt\n",
    "%matplotlib inline\n",
    "\n",
    "x = np.linspace(0,10,100)\n",
    "\n",
    "def update(w = 1.0):\n",
    "    plt.plot(x, np.sin(w * x))\n",
    "    \n",
    "interact(update)"
   ]
  },
  {
   "cell_type": "markdown",
   "metadata": {},
   "source": [
    "By default, ipywidgets will pick what it thinks is a \"good\" range for your slider based on what you give it as an initial value. You can control the range and step size of your slider by adding an argument `w=(min,max,step)`:"
   ]
  },
  {
   "cell_type": "code",
   "execution_count": null,
   "metadata": {},
   "outputs": [],
   "source": [
    "interact(update, w=(0,5,0.1))"
   ]
  },
  {
   "cell_type": "markdown",
   "metadata": {},
   "source": [
    "You can also add multiple sliders: "
   ]
  },
  {
   "cell_type": "code",
   "execution_count": null,
   "metadata": {},
   "outputs": [],
   "source": [
    "def update2(w = 1.0, phi= 0):\n",
    "    plt.plot(x, np.sin(w * x + phi))\n",
    "    \n",
    "interact(update2, w=(0,10,0.1), phi=(0,4*np.pi,4*np.pi/100))"
   ]
  },
  {
   "cell_type": "markdown",
   "metadata": {},
   "source": [
    "**Exercise** Create an interactive widget to make two interactive plots of the amplitude and phase response of the <a href=https://en.wikipedia.org/wiki/Harmonic_oscillator#Sinusoidal_driving_force>sinusoidally driven damped harmonic oscillator</a>.\n",
    "\n",
    "* Take mass $m = 1$ kg, spring constant $k = 1$ N/m, and friction coefficient $c = 0.1$ as the default values for your sliders. \n",
    "* Allow $m$ and $k$ to vary from 0.1 to 3 in steps of 0.1 (kg and N/m respectively)\n",
    "* Allow $c$ to vary from 0.0 to 2 in steps of 0.01\n",
    "* Perform your calculations for an oscillating force of $F_0 = 1$ N.\n",
    "\n",
    "Since your figure will be two plots side-by-side, it is handy to make it bigger than the default size by using the command `plt.figure(figsize=15,5)` before your plotting commands.\n",
    "\n",
    "For plotting the phase, use the `np.arctan2` function to avoid jumps in phase, and plot your phase in degrees.\n",
    "\n",
    "Put the parameters of the function in the title of your plots (with units!).\n",
    "\n",
    "Note that depending on how you program your functions, you might run into \"division by zero\" warnings. It's probably not a bad idea in general to be awary of these warnings, but in this case, it will interfere with the smoothness of the update with the interactive plot. You can <a href=https://stackoverflow.com/questions/29950557/ignore-divide-by-0-warning-in-numpy>disable the warning</a> here using this command:\n",
    "\n",
    "```\n",
    "np.seterr(divide='ignore', invalid='ignore')\n",
    "```"
   ]
  },
  {
   "cell_type": "code",
   "execution_count": null,
   "metadata": {},
   "outputs": [],
   "source": [
    "# Solutions \n",
    "\n",
    "np.seterr(divide='ignore', invalid='ignore')\n",
    "\n",
    "def amp(m,k,c,w):\n",
    "    zeta = c / 2 / np.sqrt(m*k)\n",
    "    w0 = np.sqrt(k/m)\n",
    "    Zm = np.sqrt((2*w0*zeta)**2 + (w0**2-w**2)**2/w**2)\n",
    "    return 1.0 / m / Zm / w\n",
    "    \n",
    "def phase(m,k,c,w):\n",
    "    zeta = c / 2 / np.sqrt(m*k)\n",
    "    w0 = np.sqrt(k/m)\n",
    "    return np.arctan2((2*w0*w*zeta), (w**2-w0**2))*180/np.pi\n",
    "\n",
    "w = np.linspace(0,3,500)\n",
    "\n",
    "def update3(m=1, k=1, c=0.1):\n",
    "    plt.figure(figsize=(15,5))\n",
    "    plt.subplot(121)\n",
    "    plt.plot(w, amp(m,k,c,w))\n",
    "    plt.ylabel(\"Amplitude (m)\")\n",
    "    plt.xlabel(\"Angular frequency (rad/sec)\")\n",
    "    plt.title(\"m = %.2f kg, k = %.2f N/m, c = %.2f Ns/m\" % (m, k, c))\n",
    "    plt.subplot(122)\n",
    "    plt.ylabel(\"Phase (degrees)\")\n",
    "    plt.xlabel(\"Angular frequency (rad/sec)\")\n",
    "    plt.title(\"m = %.2f kg, k = %.2f N/m, c = %.2f Ns/m\" % (m, k, c))\n",
    "    plt.plot(w, phase(m,k,c,w))\n",
    "    \n",
    "interact(update3, m=(0.1,3,0.1), k=(0.1,3,0.1), c=(0.01,2,0.01))"
   ]
  },
  {
   "cell_type": "markdown",
   "metadata": {},
   "source": [
    "**Bonus** As you might have noticed, it's not so handy to work with these sliders that have linear steps: for example, near $c = 0$ at the low end, the changes go too fast with a step size of 0.1, while at the high end, steps of 0.1 are too small. \n",
    "\n",
    "Modify your code above so that the sliders adjust m, k, and c in logaritmic (geometric) steps!\n",
    "\n",
    "* $m$ ranging from 1e-2 to 100 with 50 steps\n",
    "* $k$ ranging from 1e-2 to 100 with 50 steps\n",
    "* $c$ ranging from 1e-2 to 100 with 50 steps\n",
    "\n",
    "Hint / idea: Make your sliders into an index of an array generated by ```np.geomspace()```. The sliders indicators will just show an index, but the title of your plot will show the correct values. \n"
   ]
  },
  {
   "cell_type": "code",
   "execution_count": null,
   "metadata": {},
   "outputs": [],
   "source": [
    "# Solutions \n",
    "\n",
    "np.seterr(divide='ignore', invalid='ignore')\n",
    "\n",
    "def amp(m,k,c,w):\n",
    "    zeta = c / 2 / np.sqrt(m*k)\n",
    "    w0 = np.sqrt(k/m)\n",
    "    Zm = np.sqrt((2*w0*zeta)**2 + (w0**2-w**2)**2/(w)**2)\n",
    "    return 1.0 / m / Zm / (w)\n",
    "    \n",
    "def phase(m,k,c,w):\n",
    "    zeta = c / 2 / np.sqrt(m*k)\n",
    "    w0 = np.sqrt(k/m)\n",
    "    return np.arctan2((2*w0*w*zeta), (w**2-w0**2))*180/np.pi\n",
    "\n",
    "w = np.linspace(0,3,500)\n",
    "\n",
    "n = 50 # number of steps in slider\n",
    "m_vals = np.geomspace(1e-2,100,n)\n",
    "k_vals = np.geomspace(1e-2,100,n)\n",
    "c_vals = np.geomspace(1e-2,100,n)\n",
    "\n",
    "def update3(m_ind=n/2, k_ind=n/2, c_ind=n/2):\n",
    "    m = m_vals[int(m_ind)] \n",
    "    k = k_vals[int(k_ind)] \n",
    "    c = m_vals[int(c_ind)] \n",
    "    plt.figure(figsize=(15,5))\n",
    "    plt.subplot(121)\n",
    "    plt.plot(w, amp(m,k,c,w))\n",
    "    plt.ylabel(\"Amplitude (m)\")\n",
    "    plt.xlabel(\"Angular frequency (rad/sec)\")\n",
    "    plt.title(\"m = %.2f kg, k = %.2f N/m, c = %.2f Ns/m\" % (m, k, c))\n",
    "    plt.subplot(122)\n",
    "    plt.ylabel(\"Phase (degrees)\")\n",
    "    plt.xlabel(\"Angular frequency (rad/sec)\")\n",
    "    plt.title(\"m = %.2f kg, k = %.2f N/m, c = %.2f Ns/m\" % (m, k, c))\n",
    "    plt.plot(w, phase(m,k,c,w))\n",
    "    \n",
    "interact(update3, m_ind=(0,n-1), k_ind=(0,n-1), c_ind=(0,n-1))"
   ]
  }
 ],
 "metadata": {
  "jupytext": {
   "formats": "ipynb,md"
  },
  "kernelspec": {
   "display_name": "Python 3 (ipykernel)",
   "language": "python",
   "name": "python3"
  },
  "language_info": {
   "codemirror_mode": {
    "name": "ipython",
    "version": 3
   },
   "file_extension": ".py",
   "mimetype": "text/x-python",
   "name": "python",
   "nbconvert_exporter": "python",
   "pygments_lexer": "ipython3",
   "version": "3.9.18"
  },
  "toc": {
   "base_numbering": 1,
   "nav_menu": {},
   "number_sections": true,
   "sideBar": true,
   "skip_h1_title": false,
   "title_cell": "Table of Contents",
   "title_sidebar": "Contents",
   "toc_cell": false,
   "toc_position": {},
   "toc_section_display": true,
   "toc_window_display": false
  }
 },
 "nbformat": 4,
 "nbformat_minor": 2
}
